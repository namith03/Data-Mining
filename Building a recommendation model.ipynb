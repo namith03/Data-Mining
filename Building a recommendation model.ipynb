{
  "nbformat": 4,
  "nbformat_minor": 0,
  "metadata": {
    "kernelspec": {
      "display_name": "Python 3",
      "language": "python",
      "name": "python3"
    },
    "language_info": {
      "codemirror_mode": {
        "name": "ipython",
        "version": 3
      },
      "file_extension": ".py",
      "mimetype": "text/x-python",
      "name": "python",
      "nbconvert_exporter": "python",
      "pygments_lexer": "ipython3",
      "version": "3.8.5"
    },
    "colab": {
      "name": "832001176_hw3.ipynb",
      "provenance": [],
      "collapsed_sections": []
    }
  },
  "cells": [
    {
      "cell_type": "markdown",
      "metadata": {
        "id": "jHaAX6XIJR9j"
      },
      "source": [
        "## CSCE 676 :: Data Mining and Analysis :: Texas A&M University :: Spring 2022\n",
        "\n",
        "\n",
        "# Homework 3\n",
        "\n",
        "- **100 points [7% of your final grade]**\n",
        "- **Due April 10, 2022 by 11:59pm**\n",
        "\n",
        "*Goals of this homework:* In this homework, you will investigate data visualization and the foundations of recommendation.\n",
        "\n",
        "\n",
        "\n",
        "*Submission instructions:* This homework is a bit different from the previous ones. For the visualizatin component, you will post to Campuswire. See below for details. For the recommendation component, rename this notebook as `UIN_hw3.ipynb`. For example, if your UIN is `123456789`, then your homework submission would be `123456789_hw2.ipynb`. Submit this notebook via Canvas. Your notebook should be completely self-contained, with the results visible in the notebook. We should not have to run any code from the command line, nor should we have to run your code within the notebook (though we reserve the right to do so). So please run all the cells for us, and then submit. \n",
        "\n",
        "*Late policy:* No late days for the data visualization. For the recommendaiton, you may use up to three of your late days. No homeworks will be accepted after April 13 11:59pm."
      ]
    },
    {
      "cell_type": "markdown",
      "source": [
        "## Collaboration Declaration:\n",
        "\n",
        "***You must add all of your collaboration declarations here. Who did you talk to about this assignment? What web resources did you use? Etc.***\n",
        "\n",
        "For example:\n",
        "* Part 3a: I talked to Amy about how to split the data randomly. She helped me understand that I needed to use a random number generator.\n",
        "* Part 3b: I needed help on how to comment my code, so I relied on this StackOverflow thread: https://stackoverflow.com/questions/184618/what-is-the-best-comment-in-source-code-you-have-ever-encountered\n",
        "* (Replace this bullet list with your own collaboration declarations.)\n"
      ],
      "metadata": {
        "id": "37SaWm5NyuL8"
      }
    },
    {
      "cell_type": "markdown",
      "metadata": {
        "id": "Bvb4mxbhJR9l"
      },
      "source": [
        "## (30 points) Part 1: Data Visualization (submit to Campuswire, no late days)\n",
        "\n",
        "For this first part, you will create a data visualization based on an exploration of a dataset we provide. Your visualization should capture Tufte's principles of graphical excellence: \"complex ideas communicated with clarity, precision, and efficiency.\"\n",
        "\n",
        "### The Data\n",
        "You must choose one of the following datasets:\n",
        "\n",
        "* Police Shootings: The Washington Post's database contains records of every fatal shooting in the United States by a police officer in the line of duty since Jan. 1, 2015\n",
        "    * [data](https://github.com/washingtonpost/data-police-shootings)\n",
        "    * [website](https://www.washingtonpost.com/graphics/investigations/police-shootings-database/) (including some example charts)\n",
        "\n",
        "* Bike Sharing: This dataset contains the hourly and daily count of rental bikes between years 2011 and 2012 in Capital bikeshare system with the corresponding weather and seasonal information.\n",
        "    * [data](https://archive.ics.uci.edu/ml/datasets/bike+sharing+dataset)\n",
        "\n",
        "* Tennis Time: A dataset of tennis players and how much time they take.\n",
        "    * [data](https://github.com/fivethirtyeight/data/tree/master/tennis-time)\n",
        "    * [article](https://fivethirtyeight.com/features/why-some-tennis-matches-take-forever/)\n",
        "\n",
        "### Your Goal\n",
        "1. Identify an interesting story or insight from this data\n",
        "2. Carefully design a data visualization that communicates this story.\n",
        "\n",
        "You may assume that your audience is the **general public.**\n",
        "\n",
        "You may clean, manipulate, and transform the data as you like. You are free to use external data from whatever sources you like. (But be sure to cite them!). Feel free to use as little or as much data as you like, so long as the story (and associated data visualization are compelling). \n",
        "\n",
        "\n",
        "### What to Submit\n",
        "\n",
        "Utimately you should produce:\n",
        "\n",
        "\n",
        "1. A single image (e.g., PNG, PDF, JPG) that effectively communicates the data. You must use a Python visualization toolkit as your key tool, but you are welcome to augment with other tools if you like (e.g., Photoshop, MS Paint, GIMP). For Python viz tools, you may use matplotlib, plotly, seaborn, geoplotlib, bokeh, networkx, or whatever else you can find.\n",
        "    \n",
        "2. A brief explanation describing your design. (a few paragraphs, 1/2 page or so).\n",
        "\n",
        "Your explanation should justify the design choices you have made. \n",
        "\n",
        "* Why did you choose the particular visualization type? \n",
        "* What motivated your choice of size, color,\n",
        "and scale? \n",
        "* Why are they appropriate for what you are trying to communicate?\n",
        "* Additionally, your explanation should document:\n",
        "    * What you are trying to\n",
        "communicate\n",
        "    * The benefits of your choice of visualization\n",
        "    * As well as any downsides\n",
        "to your viz (e.g., are certain connections downplayed due to your choices?).\n",
        "\n",
        "### How to Submit\n",
        "You should post your image + explanation to Campuswire by April 10 (no late days)."
      ]
    },
    {
      "cell_type": "code",
      "source": [
        "# Download useful modules\n",
        "import pandas as pd\n",
        "import numpy as np\n",
        "import seaborn as sns\n",
        "import matplotlib.pyplot as plt\n",
        "import plotly.express as px\n",
        "import plotly.graph_objects as go"
      ],
      "metadata": {
        "id": "C-ZDTq5jWuvt"
      },
      "execution_count": 1,
      "outputs": []
    },
    {
      "cell_type": "code",
      "source": [
        "import pandas as pd\n",
        "url = 'https://raw.githubusercontent.com/washingtonpost/data-police-shootings/master/fatal-police-shootings-data.csv'\n",
        "df = pd.read_csv(url)\n",
        "df.head()\n",
        "for x in range(df.race.shape[0]):\n",
        "  if df['race'][x] == \"A\":\n",
        "    df['race'][x] = \"Asian\"\n",
        "  if df['race'][x] == \"B\":\n",
        "    df['race'][x] = \"Black\"\n",
        "  if df['race'][x] == \"W\":\n",
        "    df['race'][x] = \"White\"\n",
        "  if df['race'][x] == \"H\":\n",
        "    df['race'][x] = \"Hispanic\"\n",
        "  if df['race'][x] == \"N\":\n",
        "    df['race'][x] = \"Native\"\n",
        "  if df['race'][x] == \"O\":\n",
        "    df['race'][x] = \"Other\"\n",
        "\n",
        "df.head(100)"
      ],
      "metadata": {
        "colab": {
          "base_uri": "https://localhost:8080/",
          "height": 1000
        },
        "id": "5Fkow9rpl6fo",
        "outputId": "6a69fec5-127b-408e-e1de-59d278cf5a14"
      },
      "execution_count": 2,
      "outputs": [
        {
          "output_type": "stream",
          "name": "stderr",
          "text": [
            "/usr/local/lib/python3.7/dist-packages/ipykernel_launcher.py:7: SettingWithCopyWarning: \n",
            "A value is trying to be set on a copy of a slice from a DataFrame\n",
            "\n",
            "See the caveats in the documentation: https://pandas.pydata.org/pandas-docs/stable/user_guide/indexing.html#returning-a-view-versus-a-copy\n",
            "  import sys\n",
            "/usr/local/lib/python3.7/dist-packages/ipykernel_launcher.py:11: SettingWithCopyWarning: \n",
            "A value is trying to be set on a copy of a slice from a DataFrame\n",
            "\n",
            "See the caveats in the documentation: https://pandas.pydata.org/pandas-docs/stable/user_guide/indexing.html#returning-a-view-versus-a-copy\n",
            "  # This is added back by InteractiveShellApp.init_path()\n",
            "/usr/local/lib/python3.7/dist-packages/ipykernel_launcher.py:13: SettingWithCopyWarning: \n",
            "A value is trying to be set on a copy of a slice from a DataFrame\n",
            "\n",
            "See the caveats in the documentation: https://pandas.pydata.org/pandas-docs/stable/user_guide/indexing.html#returning-a-view-versus-a-copy\n",
            "  del sys.path[0]\n",
            "/usr/local/lib/python3.7/dist-packages/ipykernel_launcher.py:9: SettingWithCopyWarning: \n",
            "A value is trying to be set on a copy of a slice from a DataFrame\n",
            "\n",
            "See the caveats in the documentation: https://pandas.pydata.org/pandas-docs/stable/user_guide/indexing.html#returning-a-view-versus-a-copy\n",
            "  if __name__ == '__main__':\n",
            "/usr/local/lib/python3.7/dist-packages/ipykernel_launcher.py:17: SettingWithCopyWarning: \n",
            "A value is trying to be set on a copy of a slice from a DataFrame\n",
            "\n",
            "See the caveats in the documentation: https://pandas.pydata.org/pandas-docs/stable/user_guide/indexing.html#returning-a-view-versus-a-copy\n",
            "/usr/local/lib/python3.7/dist-packages/ipykernel_launcher.py:15: SettingWithCopyWarning: \n",
            "A value is trying to be set on a copy of a slice from a DataFrame\n",
            "\n",
            "See the caveats in the documentation: https://pandas.pydata.org/pandas-docs/stable/user_guide/indexing.html#returning-a-view-versus-a-copy\n",
            "  from ipykernel import kernelapp as app\n"
          ]
        },
        {
          "output_type": "execute_result",
          "data": {
            "text/plain": [
              "     id                name        date   manner_of_death       armed   age  \\\n",
              "0     3          Tim Elliot  2015-01-02              shot         gun  53.0   \n",
              "1     4    Lewis Lee Lembke  2015-01-02              shot         gun  47.0   \n",
              "2     5  John Paul Quintero  2015-01-03  shot and Tasered     unarmed  23.0   \n",
              "3     8     Matthew Hoffman  2015-01-04              shot  toy weapon  32.0   \n",
              "4     9   Michael Rodriguez  2015-01-04              shot    nail gun  39.0   \n",
              "..  ...                 ...         ...               ...         ...   ...   \n",
              "95  133     Vincent Cordaro  2015-02-08              shot         gun  57.0   \n",
              "96  134       Joseph Paffen  2015-02-08              shot         gun  46.0   \n",
              "97  135     Larry Hostetter  2015-02-08              shot         gun  41.0   \n",
              "98  136    Kenneth Kreyssig  2015-02-09              shot         gun  61.0   \n",
              "99  137      Desmond Luster  2015-02-09              shot         gun  45.0   \n",
              "\n",
              "   gender      race           city state  signs_of_mental_illness  \\\n",
              "0       M     Asian        Shelton    WA                     True   \n",
              "1       M     White          Aloha    OR                    False   \n",
              "2       M  Hispanic        Wichita    KS                    False   \n",
              "3       M     White  San Francisco    CA                     True   \n",
              "4       M  Hispanic          Evans    CO                    False   \n",
              "..    ...       ...            ...   ...                      ...   \n",
              "95      M     White       New City    NY                     True   \n",
              "96      M     White  Orange County    FL                    False   \n",
              "97      M     White         Nocona    TX                    False   \n",
              "98      M     White         Smyrna    ME                     True   \n",
              "99      M     Black         Dallas    TX                    False   \n",
              "\n",
              "   threat_level         flee  body_camera  longitude  latitude  \\\n",
              "0        attack  Not fleeing        False   -123.122    47.247   \n",
              "1        attack  Not fleeing        False   -122.892    45.487   \n",
              "2         other  Not fleeing        False    -97.281    37.695   \n",
              "3        attack  Not fleeing        False   -122.422    37.763   \n",
              "4        attack  Not fleeing        False   -104.692    40.384   \n",
              "..          ...          ...          ...        ...       ...   \n",
              "95       attack  Not fleeing        False    -74.001    41.152   \n",
              "96       attack  Not fleeing        False    -81.329    28.482   \n",
              "97       attack  Not fleeing        False    -97.712    33.787   \n",
              "98       attack  Not fleeing        False    -68.104    46.159   \n",
              "99       attack  Not fleeing        False    -96.751    32.655   \n",
              "\n",
              "    is_geocoding_exact  \n",
              "0                 True  \n",
              "1                 True  \n",
              "2                 True  \n",
              "3                 True  \n",
              "4                 True  \n",
              "..                 ...  \n",
              "95                True  \n",
              "96                True  \n",
              "97                True  \n",
              "98                True  \n",
              "99                True  \n",
              "\n",
              "[100 rows x 17 columns]"
            ],
            "text/html": [
              "\n",
              "  <div id=\"df-98d175da-6a7d-4716-b0a8-5c6b347b754a\">\n",
              "    <div class=\"colab-df-container\">\n",
              "      <div>\n",
              "<style scoped>\n",
              "    .dataframe tbody tr th:only-of-type {\n",
              "        vertical-align: middle;\n",
              "    }\n",
              "\n",
              "    .dataframe tbody tr th {\n",
              "        vertical-align: top;\n",
              "    }\n",
              "\n",
              "    .dataframe thead th {\n",
              "        text-align: right;\n",
              "    }\n",
              "</style>\n",
              "<table border=\"1\" class=\"dataframe\">\n",
              "  <thead>\n",
              "    <tr style=\"text-align: right;\">\n",
              "      <th></th>\n",
              "      <th>id</th>\n",
              "      <th>name</th>\n",
              "      <th>date</th>\n",
              "      <th>manner_of_death</th>\n",
              "      <th>armed</th>\n",
              "      <th>age</th>\n",
              "      <th>gender</th>\n",
              "      <th>race</th>\n",
              "      <th>city</th>\n",
              "      <th>state</th>\n",
              "      <th>signs_of_mental_illness</th>\n",
              "      <th>threat_level</th>\n",
              "      <th>flee</th>\n",
              "      <th>body_camera</th>\n",
              "      <th>longitude</th>\n",
              "      <th>latitude</th>\n",
              "      <th>is_geocoding_exact</th>\n",
              "    </tr>\n",
              "  </thead>\n",
              "  <tbody>\n",
              "    <tr>\n",
              "      <th>0</th>\n",
              "      <td>3</td>\n",
              "      <td>Tim Elliot</td>\n",
              "      <td>2015-01-02</td>\n",
              "      <td>shot</td>\n",
              "      <td>gun</td>\n",
              "      <td>53.0</td>\n",
              "      <td>M</td>\n",
              "      <td>Asian</td>\n",
              "      <td>Shelton</td>\n",
              "      <td>WA</td>\n",
              "      <td>True</td>\n",
              "      <td>attack</td>\n",
              "      <td>Not fleeing</td>\n",
              "      <td>False</td>\n",
              "      <td>-123.122</td>\n",
              "      <td>47.247</td>\n",
              "      <td>True</td>\n",
              "    </tr>\n",
              "    <tr>\n",
              "      <th>1</th>\n",
              "      <td>4</td>\n",
              "      <td>Lewis Lee Lembke</td>\n",
              "      <td>2015-01-02</td>\n",
              "      <td>shot</td>\n",
              "      <td>gun</td>\n",
              "      <td>47.0</td>\n",
              "      <td>M</td>\n",
              "      <td>White</td>\n",
              "      <td>Aloha</td>\n",
              "      <td>OR</td>\n",
              "      <td>False</td>\n",
              "      <td>attack</td>\n",
              "      <td>Not fleeing</td>\n",
              "      <td>False</td>\n",
              "      <td>-122.892</td>\n",
              "      <td>45.487</td>\n",
              "      <td>True</td>\n",
              "    </tr>\n",
              "    <tr>\n",
              "      <th>2</th>\n",
              "      <td>5</td>\n",
              "      <td>John Paul Quintero</td>\n",
              "      <td>2015-01-03</td>\n",
              "      <td>shot and Tasered</td>\n",
              "      <td>unarmed</td>\n",
              "      <td>23.0</td>\n",
              "      <td>M</td>\n",
              "      <td>Hispanic</td>\n",
              "      <td>Wichita</td>\n",
              "      <td>KS</td>\n",
              "      <td>False</td>\n",
              "      <td>other</td>\n",
              "      <td>Not fleeing</td>\n",
              "      <td>False</td>\n",
              "      <td>-97.281</td>\n",
              "      <td>37.695</td>\n",
              "      <td>True</td>\n",
              "    </tr>\n",
              "    <tr>\n",
              "      <th>3</th>\n",
              "      <td>8</td>\n",
              "      <td>Matthew Hoffman</td>\n",
              "      <td>2015-01-04</td>\n",
              "      <td>shot</td>\n",
              "      <td>toy weapon</td>\n",
              "      <td>32.0</td>\n",
              "      <td>M</td>\n",
              "      <td>White</td>\n",
              "      <td>San Francisco</td>\n",
              "      <td>CA</td>\n",
              "      <td>True</td>\n",
              "      <td>attack</td>\n",
              "      <td>Not fleeing</td>\n",
              "      <td>False</td>\n",
              "      <td>-122.422</td>\n",
              "      <td>37.763</td>\n",
              "      <td>True</td>\n",
              "    </tr>\n",
              "    <tr>\n",
              "      <th>4</th>\n",
              "      <td>9</td>\n",
              "      <td>Michael Rodriguez</td>\n",
              "      <td>2015-01-04</td>\n",
              "      <td>shot</td>\n",
              "      <td>nail gun</td>\n",
              "      <td>39.0</td>\n",
              "      <td>M</td>\n",
              "      <td>Hispanic</td>\n",
              "      <td>Evans</td>\n",
              "      <td>CO</td>\n",
              "      <td>False</td>\n",
              "      <td>attack</td>\n",
              "      <td>Not fleeing</td>\n",
              "      <td>False</td>\n",
              "      <td>-104.692</td>\n",
              "      <td>40.384</td>\n",
              "      <td>True</td>\n",
              "    </tr>\n",
              "    <tr>\n",
              "      <th>...</th>\n",
              "      <td>...</td>\n",
              "      <td>...</td>\n",
              "      <td>...</td>\n",
              "      <td>...</td>\n",
              "      <td>...</td>\n",
              "      <td>...</td>\n",
              "      <td>...</td>\n",
              "      <td>...</td>\n",
              "      <td>...</td>\n",
              "      <td>...</td>\n",
              "      <td>...</td>\n",
              "      <td>...</td>\n",
              "      <td>...</td>\n",
              "      <td>...</td>\n",
              "      <td>...</td>\n",
              "      <td>...</td>\n",
              "      <td>...</td>\n",
              "    </tr>\n",
              "    <tr>\n",
              "      <th>95</th>\n",
              "      <td>133</td>\n",
              "      <td>Vincent Cordaro</td>\n",
              "      <td>2015-02-08</td>\n",
              "      <td>shot</td>\n",
              "      <td>gun</td>\n",
              "      <td>57.0</td>\n",
              "      <td>M</td>\n",
              "      <td>White</td>\n",
              "      <td>New City</td>\n",
              "      <td>NY</td>\n",
              "      <td>True</td>\n",
              "      <td>attack</td>\n",
              "      <td>Not fleeing</td>\n",
              "      <td>False</td>\n",
              "      <td>-74.001</td>\n",
              "      <td>41.152</td>\n",
              "      <td>True</td>\n",
              "    </tr>\n",
              "    <tr>\n",
              "      <th>96</th>\n",
              "      <td>134</td>\n",
              "      <td>Joseph Paffen</td>\n",
              "      <td>2015-02-08</td>\n",
              "      <td>shot</td>\n",
              "      <td>gun</td>\n",
              "      <td>46.0</td>\n",
              "      <td>M</td>\n",
              "      <td>White</td>\n",
              "      <td>Orange County</td>\n",
              "      <td>FL</td>\n",
              "      <td>False</td>\n",
              "      <td>attack</td>\n",
              "      <td>Not fleeing</td>\n",
              "      <td>False</td>\n",
              "      <td>-81.329</td>\n",
              "      <td>28.482</td>\n",
              "      <td>True</td>\n",
              "    </tr>\n",
              "    <tr>\n",
              "      <th>97</th>\n",
              "      <td>135</td>\n",
              "      <td>Larry Hostetter</td>\n",
              "      <td>2015-02-08</td>\n",
              "      <td>shot</td>\n",
              "      <td>gun</td>\n",
              "      <td>41.0</td>\n",
              "      <td>M</td>\n",
              "      <td>White</td>\n",
              "      <td>Nocona</td>\n",
              "      <td>TX</td>\n",
              "      <td>False</td>\n",
              "      <td>attack</td>\n",
              "      <td>Not fleeing</td>\n",
              "      <td>False</td>\n",
              "      <td>-97.712</td>\n",
              "      <td>33.787</td>\n",
              "      <td>True</td>\n",
              "    </tr>\n",
              "    <tr>\n",
              "      <th>98</th>\n",
              "      <td>136</td>\n",
              "      <td>Kenneth Kreyssig</td>\n",
              "      <td>2015-02-09</td>\n",
              "      <td>shot</td>\n",
              "      <td>gun</td>\n",
              "      <td>61.0</td>\n",
              "      <td>M</td>\n",
              "      <td>White</td>\n",
              "      <td>Smyrna</td>\n",
              "      <td>ME</td>\n",
              "      <td>True</td>\n",
              "      <td>attack</td>\n",
              "      <td>Not fleeing</td>\n",
              "      <td>False</td>\n",
              "      <td>-68.104</td>\n",
              "      <td>46.159</td>\n",
              "      <td>True</td>\n",
              "    </tr>\n",
              "    <tr>\n",
              "      <th>99</th>\n",
              "      <td>137</td>\n",
              "      <td>Desmond Luster</td>\n",
              "      <td>2015-02-09</td>\n",
              "      <td>shot</td>\n",
              "      <td>gun</td>\n",
              "      <td>45.0</td>\n",
              "      <td>M</td>\n",
              "      <td>Black</td>\n",
              "      <td>Dallas</td>\n",
              "      <td>TX</td>\n",
              "      <td>False</td>\n",
              "      <td>attack</td>\n",
              "      <td>Not fleeing</td>\n",
              "      <td>False</td>\n",
              "      <td>-96.751</td>\n",
              "      <td>32.655</td>\n",
              "      <td>True</td>\n",
              "    </tr>\n",
              "  </tbody>\n",
              "</table>\n",
              "<p>100 rows × 17 columns</p>\n",
              "</div>\n",
              "      <button class=\"colab-df-convert\" onclick=\"convertToInteractive('df-98d175da-6a7d-4716-b0a8-5c6b347b754a')\"\n",
              "              title=\"Convert this dataframe to an interactive table.\"\n",
              "              style=\"display:none;\">\n",
              "        \n",
              "  <svg xmlns=\"http://www.w3.org/2000/svg\" height=\"24px\"viewBox=\"0 0 24 24\"\n",
              "       width=\"24px\">\n",
              "    <path d=\"M0 0h24v24H0V0z\" fill=\"none\"/>\n",
              "    <path d=\"M18.56 5.44l.94 2.06.94-2.06 2.06-.94-2.06-.94-.94-2.06-.94 2.06-2.06.94zm-11 1L8.5 8.5l.94-2.06 2.06-.94-2.06-.94L8.5 2.5l-.94 2.06-2.06.94zm10 10l.94 2.06.94-2.06 2.06-.94-2.06-.94-.94-2.06-.94 2.06-2.06.94z\"/><path d=\"M17.41 7.96l-1.37-1.37c-.4-.4-.92-.59-1.43-.59-.52 0-1.04.2-1.43.59L10.3 9.45l-7.72 7.72c-.78.78-.78 2.05 0 2.83L4 21.41c.39.39.9.59 1.41.59.51 0 1.02-.2 1.41-.59l7.78-7.78 2.81-2.81c.8-.78.8-2.07 0-2.86zM5.41 20L4 18.59l7.72-7.72 1.47 1.35L5.41 20z\"/>\n",
              "  </svg>\n",
              "      </button>\n",
              "      \n",
              "  <style>\n",
              "    .colab-df-container {\n",
              "      display:flex;\n",
              "      flex-wrap:wrap;\n",
              "      gap: 12px;\n",
              "    }\n",
              "\n",
              "    .colab-df-convert {\n",
              "      background-color: #E8F0FE;\n",
              "      border: none;\n",
              "      border-radius: 50%;\n",
              "      cursor: pointer;\n",
              "      display: none;\n",
              "      fill: #1967D2;\n",
              "      height: 32px;\n",
              "      padding: 0 0 0 0;\n",
              "      width: 32px;\n",
              "    }\n",
              "\n",
              "    .colab-df-convert:hover {\n",
              "      background-color: #E2EBFA;\n",
              "      box-shadow: 0px 1px 2px rgba(60, 64, 67, 0.3), 0px 1px 3px 1px rgba(60, 64, 67, 0.15);\n",
              "      fill: #174EA6;\n",
              "    }\n",
              "\n",
              "    [theme=dark] .colab-df-convert {\n",
              "      background-color: #3B4455;\n",
              "      fill: #D2E3FC;\n",
              "    }\n",
              "\n",
              "    [theme=dark] .colab-df-convert:hover {\n",
              "      background-color: #434B5C;\n",
              "      box-shadow: 0px 1px 3px 1px rgba(0, 0, 0, 0.15);\n",
              "      filter: drop-shadow(0px 1px 2px rgba(0, 0, 0, 0.3));\n",
              "      fill: #FFFFFF;\n",
              "    }\n",
              "  </style>\n",
              "\n",
              "      <script>\n",
              "        const buttonEl =\n",
              "          document.querySelector('#df-98d175da-6a7d-4716-b0a8-5c6b347b754a button.colab-df-convert');\n",
              "        buttonEl.style.display =\n",
              "          google.colab.kernel.accessAllowed ? 'block' : 'none';\n",
              "\n",
              "        async function convertToInteractive(key) {\n",
              "          const element = document.querySelector('#df-98d175da-6a7d-4716-b0a8-5c6b347b754a');\n",
              "          const dataTable =\n",
              "            await google.colab.kernel.invokeFunction('convertToInteractive',\n",
              "                                                     [key], {});\n",
              "          if (!dataTable) return;\n",
              "\n",
              "          const docLinkHtml = 'Like what you see? Visit the ' +\n",
              "            '<a target=\"_blank\" href=https://colab.research.google.com/notebooks/data_table.ipynb>data table notebook</a>'\n",
              "            + ' to learn more about interactive tables.';\n",
              "          element.innerHTML = '';\n",
              "          dataTable['output_type'] = 'display_data';\n",
              "          await google.colab.output.renderOutput(dataTable, element);\n",
              "          const docLink = document.createElement('div');\n",
              "          docLink.innerHTML = docLinkHtml;\n",
              "          element.appendChild(docLink);\n",
              "        }\n",
              "      </script>\n",
              "    </div>\n",
              "  </div>\n",
              "  "
            ]
          },
          "metadata": {},
          "execution_count": 2
        }
      ]
    },
    {
      "cell_type": "code",
      "source": [
        "sizes = df.race.value_counts()\n",
        "print(sizes)"
      ],
      "metadata": {
        "colab": {
          "base_uri": "https://localhost:8080/"
        },
        "id": "EprprpOGXgjU",
        "outputId": "48801c13-2d9c-458a-9564-71b0fce4a6f1"
      },
      "execution_count": 3,
      "outputs": [
        {
          "output_type": "stream",
          "name": "stdout",
          "text": [
            "White       3022\n",
            "Black       1593\n",
            "Hispanic    1088\n",
            "Asian        105\n",
            "Native        91\n",
            "Other         47\n",
            "Name: race, dtype: int64\n"
          ]
        }
      ]
    },
    {
      "cell_type": "code",
      "source": [
        "df['Year'] = df['date'].str.split('-', n = 1,expand = True).drop(1, axis = 1)\n",
        "year_race_count = df[['Year', 'race']]\n",
        "year_race_count_1 = pd.DataFrame(year_race_count.groupby('Year')['race'].value_counts())\n",
        "year_race_count_1.rename(columns = {'race' : 'Count'}, inplace = True)\n",
        "\n",
        "year_race_count_2 = year_race_count_1.reset_index()\n",
        "year_race_count_2.rename(columns = {'race' : 'Race'}, inplace = True)\n",
        "year_race_count_2.sort_values('Year', ascending = True, inplace = True)\n",
        "fig_year = px.bar(year_race_count_2, x=\"Count\", y=\"Year\", color='Race', orientation='h',\n",
        "             hover_data=[\"Race\", \"Count\"],\n",
        "             height=600, width = 700,\n",
        "             title=\"Victim's Race distribution in the year \")\n",
        "\n",
        "fig_year.update_layout(title = {'text': \"Year wise distribution of victim's race\",'y':0.95,\n",
        "            'x':0.5, 'xanchor':'center', 'yanchor':'top'},  xaxis_title=\"Count\",\n",
        "        yaxis_title=\"Year\",  paper_bgcolor='rgba(256,256,256,256)',\n",
        "    plot_bgcolor='rgba(0,0,0,0)',\n",
        "            font=dict(\n",
        "            family=\"Courier New, monospace\",\n",
        "            size=16,\n",
        "            color=\"Black\"\n",
        "        )\n",
        "           \n",
        "                     )\n",
        "fig_year.show()\n"
      ],
      "metadata": {
        "colab": {
          "base_uri": "https://localhost:8080/",
          "height": 617
        },
        "id": "5eGTEMMEY2i0",
        "outputId": "5fad1600-be6e-44a3-9ec2-cfb66176262e"
      },
      "execution_count": 4,
      "outputs": [
        {
          "output_type": "display_data",
          "data": {
            "text/html": [
              "<html>\n",
              "<head><meta charset=\"utf-8\" /></head>\n",
              "<body>\n",
              "    <div>            <script src=\"https://cdnjs.cloudflare.com/ajax/libs/mathjax/2.7.5/MathJax.js?config=TeX-AMS-MML_SVG\"></script><script type=\"text/javascript\">if (window.MathJax) {MathJax.Hub.Config({SVG: {font: \"STIX-Web\"}});}</script>                <script type=\"text/javascript\">window.PlotlyConfig = {MathJaxConfig: 'local'};</script>\n",
              "        <script src=\"https://cdn.plot.ly/plotly-2.8.3.min.js\"></script>                <div id=\"7ad6ba18-a19c-4aa5-bfb7-7f7ec4101e39\" class=\"plotly-graph-div\" style=\"height:600px; width:700px;\"></div>            <script type=\"text/javascript\">                                    window.PLOTLYENV=window.PLOTLYENV || {};                                    if (document.getElementById(\"7ad6ba18-a19c-4aa5-bfb7-7f7ec4101e39\")) {                    Plotly.newPlot(                        \"7ad6ba18-a19c-4aa5-bfb7-7f7ec4101e39\",                        [{\"alignmentgroup\":\"True\",\"customdata\":[[\"White\"],[\"White\"],[\"White\"],[\"White\"],[\"White\"],[\"White\"],[\"White\"],[\"White\"]],\"hovertemplate\":\"Race=%{customdata[0]}<br>Count=%{x}<br>Year=%{y}<extra></extra>\",\"legendgroup\":\"White\",\"marker\":{\"color\":\"#636efa\",\"pattern\":{\"shape\":\"\"}},\"name\":\"White\",\"offsetgroup\":\"White\",\"orientation\":\"h\",\"showlegend\":true,\"textposition\":\"auto\",\"x\":[502,465,458,459,424,459,234,21],\"xaxis\":\"x\",\"y\":[\"2015\",\"2016\",\"2017\",\"2018\",\"2019\",\"2020\",\"2021\",\"2022\"],\"yaxis\":\"y\",\"type\":\"bar\"},{\"alignmentgroup\":\"True\",\"customdata\":[[\"Black\"],[\"Black\"],[\"Black\"],[\"Black\"],[\"Black\"],[\"Black\"],[\"Black\"],[\"Black\"]],\"hovertemplate\":\"Race=%{customdata[0]}<br>Count=%{x}<br>Year=%{y}<extra></extra>\",\"legendgroup\":\"Black\",\"marker\":{\"color\":\"#EF553B\",\"pattern\":{\"shape\":\"\"}},\"name\":\"Black\",\"offsetgroup\":\"Black\",\"orientation\":\"h\",\"showlegend\":true,\"textposition\":\"auto\",\"x\":[258,236,222,230,251,243,139,14],\"xaxis\":\"x\",\"y\":[\"2015\",\"2016\",\"2017\",\"2018\",\"2019\",\"2020\",\"2021\",\"2022\"],\"yaxis\":\"y\",\"type\":\"bar\"},{\"alignmentgroup\":\"True\",\"customdata\":[[\"Hispanic\"],[\"Hispanic\"],[\"Hispanic\"],[\"Hispanic\"],[\"Hispanic\"],[\"Hispanic\"],[\"Hispanic\"],[\"Hispanic\"]],\"hovertemplate\":\"Race=%{customdata[0]}<br>Count=%{x}<br>Year=%{y}<extra></extra>\",\"legendgroup\":\"Hispanic\",\"marker\":{\"color\":\"#00cc96\",\"pattern\":{\"shape\":\"\"}},\"name\":\"Hispanic\",\"offsetgroup\":\"Hispanic\",\"orientation\":\"h\",\"showlegend\":true,\"textposition\":\"auto\",\"x\":[173,161,180,167,168,171,66,2],\"xaxis\":\"x\",\"y\":[\"2015\",\"2016\",\"2017\",\"2018\",\"2019\",\"2020\",\"2021\",\"2022\"],\"yaxis\":\"y\",\"type\":\"bar\"},{\"alignmentgroup\":\"True\",\"customdata\":[[\"Asian\"],[\"Asian\"],[\"Asian\"],[\"Asian\"],[\"Asian\"],[\"Asian\"],[\"Asian\"]],\"hovertemplate\":\"Race=%{customdata[0]}<br>Count=%{x}<br>Year=%{y}<extra></extra>\",\"legendgroup\":\"Asian\",\"marker\":{\"color\":\"#ab63fa\",\"pattern\":{\"shape\":\"\"}},\"name\":\"Asian\",\"offsetgroup\":\"Asian\",\"orientation\":\"h\",\"showlegend\":true,\"textposition\":\"auto\",\"x\":[15,15,16,21,20,15,3],\"xaxis\":\"x\",\"y\":[\"2015\",\"2016\",\"2017\",\"2018\",\"2019\",\"2020\",\"2021\"],\"yaxis\":\"y\",\"type\":\"bar\"},{\"alignmentgroup\":\"True\",\"customdata\":[[\"Other\"],[\"Other\"],[\"Other\"],[\"Other\"],[\"Other\"],[\"Other\"]],\"hovertemplate\":\"Race=%{customdata[0]}<br>Count=%{x}<br>Year=%{y}<extra></extra>\",\"legendgroup\":\"Other\",\"marker\":{\"color\":\"#FFA15A\",\"pattern\":{\"shape\":\"\"}},\"name\":\"Other\",\"offsetgroup\":\"Other\",\"orientation\":\"h\",\"showlegend\":true,\"textposition\":\"auto\",\"x\":[14,11,6,4,9,3],\"xaxis\":\"x\",\"y\":[\"2015\",\"2016\",\"2017\",\"2018\",\"2019\",\"2020\"],\"yaxis\":\"y\",\"type\":\"bar\"},{\"alignmentgroup\":\"True\",\"customdata\":[[\"Native\"],[\"Native\"],[\"Native\"],[\"Native\"],[\"Native\"],[\"Native\"],[\"Native\"]],\"hovertemplate\":\"Race=%{customdata[0]}<br>Count=%{x}<br>Year=%{y}<extra></extra>\",\"legendgroup\":\"Native\",\"marker\":{\"color\":\"#19d3f3\",\"pattern\":{\"shape\":\"\"}},\"name\":\"Native\",\"offsetgroup\":\"Native\",\"orientation\":\"h\",\"showlegend\":true,\"textposition\":\"auto\",\"x\":[9,17,22,16,13,9,5],\"xaxis\":\"x\",\"y\":[\"2015\",\"2016\",\"2017\",\"2018\",\"2019\",\"2020\",\"2021\"],\"yaxis\":\"y\",\"type\":\"bar\"}],                        {\"template\":{\"data\":{\"bar\":[{\"error_x\":{\"color\":\"#2a3f5f\"},\"error_y\":{\"color\":\"#2a3f5f\"},\"marker\":{\"line\":{\"color\":\"#E5ECF6\",\"width\":0.5},\"pattern\":{\"fillmode\":\"overlay\",\"size\":10,\"solidity\":0.2}},\"type\":\"bar\"}],\"barpolar\":[{\"marker\":{\"line\":{\"color\":\"#E5ECF6\",\"width\":0.5},\"pattern\":{\"fillmode\":\"overlay\",\"size\":10,\"solidity\":0.2}},\"type\":\"barpolar\"}],\"carpet\":[{\"aaxis\":{\"endlinecolor\":\"#2a3f5f\",\"gridcolor\":\"white\",\"linecolor\":\"white\",\"minorgridcolor\":\"white\",\"startlinecolor\":\"#2a3f5f\"},\"baxis\":{\"endlinecolor\":\"#2a3f5f\",\"gridcolor\":\"white\",\"linecolor\":\"white\",\"minorgridcolor\":\"white\",\"startlinecolor\":\"#2a3f5f\"},\"type\":\"carpet\"}],\"choropleth\":[{\"colorbar\":{\"outlinewidth\":0,\"ticks\":\"\"},\"type\":\"choropleth\"}],\"contour\":[{\"colorbar\":{\"outlinewidth\":0,\"ticks\":\"\"},\"colorscale\":[[0.0,\"#0d0887\"],[0.1111111111111111,\"#46039f\"],[0.2222222222222222,\"#7201a8\"],[0.3333333333333333,\"#9c179e\"],[0.4444444444444444,\"#bd3786\"],[0.5555555555555556,\"#d8576b\"],[0.6666666666666666,\"#ed7953\"],[0.7777777777777778,\"#fb9f3a\"],[0.8888888888888888,\"#fdca26\"],[1.0,\"#f0f921\"]],\"type\":\"contour\"}],\"contourcarpet\":[{\"colorbar\":{\"outlinewidth\":0,\"ticks\":\"\"},\"type\":\"contourcarpet\"}],\"heatmap\":[{\"colorbar\":{\"outlinewidth\":0,\"ticks\":\"\"},\"colorscale\":[[0.0,\"#0d0887\"],[0.1111111111111111,\"#46039f\"],[0.2222222222222222,\"#7201a8\"],[0.3333333333333333,\"#9c179e\"],[0.4444444444444444,\"#bd3786\"],[0.5555555555555556,\"#d8576b\"],[0.6666666666666666,\"#ed7953\"],[0.7777777777777778,\"#fb9f3a\"],[0.8888888888888888,\"#fdca26\"],[1.0,\"#f0f921\"]],\"type\":\"heatmap\"}],\"heatmapgl\":[{\"colorbar\":{\"outlinewidth\":0,\"ticks\":\"\"},\"colorscale\":[[0.0,\"#0d0887\"],[0.1111111111111111,\"#46039f\"],[0.2222222222222222,\"#7201a8\"],[0.3333333333333333,\"#9c179e\"],[0.4444444444444444,\"#bd3786\"],[0.5555555555555556,\"#d8576b\"],[0.6666666666666666,\"#ed7953\"],[0.7777777777777778,\"#fb9f3a\"],[0.8888888888888888,\"#fdca26\"],[1.0,\"#f0f921\"]],\"type\":\"heatmapgl\"}],\"histogram\":[{\"marker\":{\"pattern\":{\"fillmode\":\"overlay\",\"size\":10,\"solidity\":0.2}},\"type\":\"histogram\"}],\"histogram2d\":[{\"colorbar\":{\"outlinewidth\":0,\"ticks\":\"\"},\"colorscale\":[[0.0,\"#0d0887\"],[0.1111111111111111,\"#46039f\"],[0.2222222222222222,\"#7201a8\"],[0.3333333333333333,\"#9c179e\"],[0.4444444444444444,\"#bd3786\"],[0.5555555555555556,\"#d8576b\"],[0.6666666666666666,\"#ed7953\"],[0.7777777777777778,\"#fb9f3a\"],[0.8888888888888888,\"#fdca26\"],[1.0,\"#f0f921\"]],\"type\":\"histogram2d\"}],\"histogram2dcontour\":[{\"colorbar\":{\"outlinewidth\":0,\"ticks\":\"\"},\"colorscale\":[[0.0,\"#0d0887\"],[0.1111111111111111,\"#46039f\"],[0.2222222222222222,\"#7201a8\"],[0.3333333333333333,\"#9c179e\"],[0.4444444444444444,\"#bd3786\"],[0.5555555555555556,\"#d8576b\"],[0.6666666666666666,\"#ed7953\"],[0.7777777777777778,\"#fb9f3a\"],[0.8888888888888888,\"#fdca26\"],[1.0,\"#f0f921\"]],\"type\":\"histogram2dcontour\"}],\"mesh3d\":[{\"colorbar\":{\"outlinewidth\":0,\"ticks\":\"\"},\"type\":\"mesh3d\"}],\"parcoords\":[{\"line\":{\"colorbar\":{\"outlinewidth\":0,\"ticks\":\"\"}},\"type\":\"parcoords\"}],\"pie\":[{\"automargin\":true,\"type\":\"pie\"}],\"scatter\":[{\"marker\":{\"colorbar\":{\"outlinewidth\":0,\"ticks\":\"\"}},\"type\":\"scatter\"}],\"scatter3d\":[{\"line\":{\"colorbar\":{\"outlinewidth\":0,\"ticks\":\"\"}},\"marker\":{\"colorbar\":{\"outlinewidth\":0,\"ticks\":\"\"}},\"type\":\"scatter3d\"}],\"scattercarpet\":[{\"marker\":{\"colorbar\":{\"outlinewidth\":0,\"ticks\":\"\"}},\"type\":\"scattercarpet\"}],\"scattergeo\":[{\"marker\":{\"colorbar\":{\"outlinewidth\":0,\"ticks\":\"\"}},\"type\":\"scattergeo\"}],\"scattergl\":[{\"marker\":{\"colorbar\":{\"outlinewidth\":0,\"ticks\":\"\"}},\"type\":\"scattergl\"}],\"scattermapbox\":[{\"marker\":{\"colorbar\":{\"outlinewidth\":0,\"ticks\":\"\"}},\"type\":\"scattermapbox\"}],\"scatterpolar\":[{\"marker\":{\"colorbar\":{\"outlinewidth\":0,\"ticks\":\"\"}},\"type\":\"scatterpolar\"}],\"scatterpolargl\":[{\"marker\":{\"colorbar\":{\"outlinewidth\":0,\"ticks\":\"\"}},\"type\":\"scatterpolargl\"}],\"scatterternary\":[{\"marker\":{\"colorbar\":{\"outlinewidth\":0,\"ticks\":\"\"}},\"type\":\"scatterternary\"}],\"surface\":[{\"colorbar\":{\"outlinewidth\":0,\"ticks\":\"\"},\"colorscale\":[[0.0,\"#0d0887\"],[0.1111111111111111,\"#46039f\"],[0.2222222222222222,\"#7201a8\"],[0.3333333333333333,\"#9c179e\"],[0.4444444444444444,\"#bd3786\"],[0.5555555555555556,\"#d8576b\"],[0.6666666666666666,\"#ed7953\"],[0.7777777777777778,\"#fb9f3a\"],[0.8888888888888888,\"#fdca26\"],[1.0,\"#f0f921\"]],\"type\":\"surface\"}],\"table\":[{\"cells\":{\"fill\":{\"color\":\"#EBF0F8\"},\"line\":{\"color\":\"white\"}},\"header\":{\"fill\":{\"color\":\"#C8D4E3\"},\"line\":{\"color\":\"white\"}},\"type\":\"table\"}]},\"layout\":{\"annotationdefaults\":{\"arrowcolor\":\"#2a3f5f\",\"arrowhead\":0,\"arrowwidth\":1},\"autotypenumbers\":\"strict\",\"coloraxis\":{\"colorbar\":{\"outlinewidth\":0,\"ticks\":\"\"}},\"colorscale\":{\"diverging\":[[0,\"#8e0152\"],[0.1,\"#c51b7d\"],[0.2,\"#de77ae\"],[0.3,\"#f1b6da\"],[0.4,\"#fde0ef\"],[0.5,\"#f7f7f7\"],[0.6,\"#e6f5d0\"],[0.7,\"#b8e186\"],[0.8,\"#7fbc41\"],[0.9,\"#4d9221\"],[1,\"#276419\"]],\"sequential\":[[0.0,\"#0d0887\"],[0.1111111111111111,\"#46039f\"],[0.2222222222222222,\"#7201a8\"],[0.3333333333333333,\"#9c179e\"],[0.4444444444444444,\"#bd3786\"],[0.5555555555555556,\"#d8576b\"],[0.6666666666666666,\"#ed7953\"],[0.7777777777777778,\"#fb9f3a\"],[0.8888888888888888,\"#fdca26\"],[1.0,\"#f0f921\"]],\"sequentialminus\":[[0.0,\"#0d0887\"],[0.1111111111111111,\"#46039f\"],[0.2222222222222222,\"#7201a8\"],[0.3333333333333333,\"#9c179e\"],[0.4444444444444444,\"#bd3786\"],[0.5555555555555556,\"#d8576b\"],[0.6666666666666666,\"#ed7953\"],[0.7777777777777778,\"#fb9f3a\"],[0.8888888888888888,\"#fdca26\"],[1.0,\"#f0f921\"]]},\"colorway\":[\"#636efa\",\"#EF553B\",\"#00cc96\",\"#ab63fa\",\"#FFA15A\",\"#19d3f3\",\"#FF6692\",\"#B6E880\",\"#FF97FF\",\"#FECB52\"],\"font\":{\"color\":\"#2a3f5f\"},\"geo\":{\"bgcolor\":\"white\",\"lakecolor\":\"white\",\"landcolor\":\"#E5ECF6\",\"showlakes\":true,\"showland\":true,\"subunitcolor\":\"white\"},\"hoverlabel\":{\"align\":\"left\"},\"hovermode\":\"closest\",\"mapbox\":{\"style\":\"light\"},\"paper_bgcolor\":\"white\",\"plot_bgcolor\":\"#E5ECF6\",\"polar\":{\"angularaxis\":{\"gridcolor\":\"white\",\"linecolor\":\"white\",\"ticks\":\"\"},\"bgcolor\":\"#E5ECF6\",\"radialaxis\":{\"gridcolor\":\"white\",\"linecolor\":\"white\",\"ticks\":\"\"}},\"scene\":{\"xaxis\":{\"backgroundcolor\":\"#E5ECF6\",\"gridcolor\":\"white\",\"gridwidth\":2,\"linecolor\":\"white\",\"showbackground\":true,\"ticks\":\"\",\"zerolinecolor\":\"white\"},\"yaxis\":{\"backgroundcolor\":\"#E5ECF6\",\"gridcolor\":\"white\",\"gridwidth\":2,\"linecolor\":\"white\",\"showbackground\":true,\"ticks\":\"\",\"zerolinecolor\":\"white\"},\"zaxis\":{\"backgroundcolor\":\"#E5ECF6\",\"gridcolor\":\"white\",\"gridwidth\":2,\"linecolor\":\"white\",\"showbackground\":true,\"ticks\":\"\",\"zerolinecolor\":\"white\"}},\"shapedefaults\":{\"line\":{\"color\":\"#2a3f5f\"}},\"ternary\":{\"aaxis\":{\"gridcolor\":\"white\",\"linecolor\":\"white\",\"ticks\":\"\"},\"baxis\":{\"gridcolor\":\"white\",\"linecolor\":\"white\",\"ticks\":\"\"},\"bgcolor\":\"#E5ECF6\",\"caxis\":{\"gridcolor\":\"white\",\"linecolor\":\"white\",\"ticks\":\"\"}},\"title\":{\"x\":0.05},\"xaxis\":{\"automargin\":true,\"gridcolor\":\"white\",\"linecolor\":\"white\",\"ticks\":\"\",\"title\":{\"standoff\":15},\"zerolinecolor\":\"white\",\"zerolinewidth\":2},\"yaxis\":{\"automargin\":true,\"gridcolor\":\"white\",\"linecolor\":\"white\",\"ticks\":\"\",\"title\":{\"standoff\":15},\"zerolinecolor\":\"white\",\"zerolinewidth\":2}}},\"xaxis\":{\"anchor\":\"y\",\"domain\":[0.0,1.0],\"title\":{\"text\":\"Count\"}},\"yaxis\":{\"anchor\":\"x\",\"domain\":[0.0,1.0],\"title\":{\"text\":\"Year\"}},\"legend\":{\"title\":{\"text\":\"Race\"},\"tracegroupgap\":0},\"title\":{\"text\":\"Year wise distribution of victim's race\",\"y\":0.95,\"x\":0.5,\"xanchor\":\"center\",\"yanchor\":\"top\"},\"barmode\":\"relative\",\"height\":600,\"width\":700,\"font\":{\"family\":\"Courier New, monospace\",\"size\":16,\"color\":\"Black\"},\"paper_bgcolor\":\"rgba(256,256,256,256)\",\"plot_bgcolor\":\"rgba(0,0,0,0)\"},                        {\"responsive\": true}                    ).then(function(){\n",
              "                            \n",
              "var gd = document.getElementById('7ad6ba18-a19c-4aa5-bfb7-7f7ec4101e39');\n",
              "var x = new MutationObserver(function (mutations, observer) {{\n",
              "        var display = window.getComputedStyle(gd).display;\n",
              "        if (!display || display === 'none') {{\n",
              "            console.log([gd, 'removed!']);\n",
              "            Plotly.purge(gd);\n",
              "            observer.disconnect();\n",
              "        }}\n",
              "}});\n",
              "\n",
              "// Listen for the removal of the full notebook cells\n",
              "var notebookContainer = gd.closest('#notebook-container');\n",
              "if (notebookContainer) {{\n",
              "    x.observe(notebookContainer, {childList: true});\n",
              "}}\n",
              "\n",
              "// Listen for the clearing of the current output cell\n",
              "var outputEl = gd.closest('.output');\n",
              "if (outputEl) {{\n",
              "    x.observe(outputEl, {childList: true});\n",
              "}}\n",
              "\n",
              "                        })                };                            </script>        </div>\n",
              "</body>\n",
              "</html>"
            ]
          },
          "metadata": {}
        }
      ]
    },
    {
      "cell_type": "code",
      "source": [
        "# Get data\n",
        "us_census_data = pd.read_csv('https://raw.githubusercontent.com/tejten/Machine-Learning-1/master/Data/acs2017_county_data.csv')\n",
        "url = 'https://raw.githubusercontent.com/washingtonpost/data-police-shootings/master/fatal-police-shootings-data.csv'\n",
        "df = pd.read_csv(url)\n",
        "# Get population proportions\n",
        "total_population = us_census_data['TotalPop'].sum()\n",
        "race_proportions = pd.DataFrame(['White', 'Hispanic', 'Black', 'Asian', 'Native'], columns=['Race'])\n",
        "race_proportions['Population'] = race_proportions['Race'].apply(lambda x: us_census_data.apply(lambda y: y['TotalPop'] * y[x] / total_population, axis=1).sum())\n",
        "race_proportions['Killed In Police Shootings'] = race_proportions['Race'].apply(lambda x: df[df['race'] == x[0]].shape[0] * 100 / df.shape[0])\n",
        "\n",
        "# Plot proportions\n",
        "race_proportions = race_proportions.melt(id_vars='Race')\n",
        "fig, ax = plt.subplots(1, 1, figsize=(10,6))\n",
        "sns.barplot(x='value', y='Race', hue='variable',data=race_proportions, ax=ax,\n",
        "            orient='h', palette=['#0390fc', '#ff3321'])\n",
        "\n",
        "# Annotate with values\n",
        "for p in ax.patches:\n",
        "    width = p.get_width()\n",
        "    plt.text(3+p.get_width(), p.get_y()+0.55*p.get_height(),\n",
        "             '{:1.2f}%'.format(width),\n",
        "             ha='center', va='center')\n",
        "\n",
        "# Customise and show\n",
        "ax.set_title('Percentage of deaths from police shootings\\ncompared to percentage of population by race', fontsize=16)\n",
        "ax.tick_params(axis='both', labelsize=16)\n",
        "for spine in ax.spines.values():\n",
        "    spine.set_visible(False)\n",
        "ax.set_xlabel('')\n",
        "ax.set_ylabel('')\n",
        "ax.set_xticks([])\n",
        "plt.legend(frameon=False, fontsize=16, ncol=2)\n",
        "plt.tight_layout()\n",
        "plt.show()"
      ],
      "metadata": {
        "colab": {
          "base_uri": "https://localhost:8080/",
          "height": 441
        },
        "id": "XtiHDJba86rV",
        "outputId": "163e0df0-00ed-45a1-ad84-a11cb211dc65"
      },
      "execution_count": 5,
      "outputs": [
        {
          "output_type": "display_data",
          "data": {
            "text/plain": [
              "<Figure size 720x432 with 1 Axes>"
            ],
            "image/png": "[encoded data removed]"
          },
          "metadata": {
            "needs_background": "light"
          }
        }
      ]
    },
    {
      "cell_type": "markdown",
      "metadata": {
        "id": "58bGC4wGJR9p"
      },
      "source": [
        "### Grading Breakdown"
      ]
    },
    {
      "cell_type": "markdown",
      "metadata": {
        "id": "zMmSDGsmJR9q"
      },
      "source": [
        "- 10%: Interestingness and clarity of question you ask\n",
        "- 20%: Appropriateness of data, scale, and other viz design choices\n",
        "- 10%: Legends, context, and titles of your viz\n",
        "- 20%: Overall quality of your viz: in the extreme, every pixel serves a purpose\n",
        "- 20%: Design rationale (writeup)\n",
        "- 20%: Pros and cons of your design (writeup)\n"
      ]
    },
    {
      "cell_type": "markdown",
      "source": [
        "## (5 points) Part 2: Data Viz Critique (on Campuswire by April 17)\n",
        "\n",
        "After all the data visualizations have been posted to Campuswire, you will be responsible for providing a critique of **at least two** data visualizations provided by your classmates. \n",
        "\n",
        "You should reply in the thread and provide a brief *constructive* critique. Do your best to load balance, so that every data visualization receives some feedback.\n",
        "\n",
        "On the final homework, each student will have an opportunity to revise the original data visualization based on this feedback.\n",
        "\n"
      ],
      "metadata": {
        "id": "uJrukWXnugPD"
      }
    },
    {
      "cell_type": "markdown",
      "source": [
        "## (65 points) Part 3: Recommendation with User Ratings (Explicit Feedback) \n",
        "\n",
        "In this part, we focus on the rating prediction recommendation task with explicit feedback. We will:\n",
        "\n",
        "* load and process the MovieLens 1M dataset, \n",
        "* build a baseline estimation model,\n",
        "* build a collaborative filtering model,\n",
        "* build a matrix factorization model,\n",
        "* and try to improve upon these models.\n",
        "\n",
        "First, we need to load and preprocess the experiment dataset. We use the MovieLens 1M data from https://grouplens.org/datasets/movielens/1m/ in this homework. The code has been provided in the next cell, and you need to run it. The resulting data variables are: train_mat is the numpy array variable for training data of size (#users, #items) with non-zero entries representing user-item ratings, and zero entries representing unknown user-item ratings; and test_mat is the numpy array variable for testing data of size (#users, #items)."
      ],
      "metadata": {
        "id": "-WYe8-gUukM9"
      }
    },
    {
      "cell_type": "code",
      "source": [
        "# if you're using colab, this is a clunky way to load the ratings.dat file we need\n",
        "# navigate in your finder to ratings.dat when asked\n",
        "from google.colab import files\n",
        "uploaded = files.upload()"
      ],
      "metadata": {
        "id": "Y2Lw1dJmaTFg",
        "colab": {
          "resources": {
            "http://localhost:8080/nbextensions/google.colab/files.js": {
              "data": "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",
              "ok": true,
              "headers": [
                [
                  "content-type",
                  "application/javascript"
                ]
              ],
              "status": 200,
              "status_text": ""
            }
          },
          "base_uri": "https://localhost:8080/",
          "height": 73
        },
        "outputId": "505f32b5-086e-4962-a3b5-90e68968e745"
      },
      "execution_count": 7,
      "outputs": [
        {
          "output_type": "display_data",
          "data": {
            "text/plain": [
              "<IPython.core.display.HTML object>"
            ],
            "text/html": [
              "\n",
              "     <input type=\"file\" id=\"files-fa1c7cad-dea6-40d5-bc51-50b78d4e958f\" name=\"files[]\" multiple disabled\n",
              "        style=\"border:none\" />\n",
              "     <output id=\"result-fa1c7cad-dea6-40d5-bc51-50b78d4e958f\">\n",
              "      Upload widget is only available when the cell has been executed in the\n",
              "      current browser session. Please rerun this cell to enable.\n",
              "      </output>\n",
              "      <script src=\"/nbextensions/google.colab/files.js\"></script> "
            ]
          },
          "metadata": {}
        },
        {
          "output_type": "stream",
          "name": "stdout",
          "text": [
            "Saving ratings.dat to ratings.dat\n"
          ]
        }
      ]
    },
    {
      "cell_type": "code",
      "source": [
        "import io\n",
        "import pandas as pd\n",
        "import numpy as np\n",
        "from scipy.sparse import coo_matrix\n",
        "\n",
        "data_df = pd.read_csv(io.BytesIO(uploaded['ratings.dat']), sep='::', names=[\"UserID\", \"MovieID\", \"Rating\", \"Timestamp\"])\n",
        "\n",
        "# if you are running this notebook locally, you can replace above with something like this:\n",
        "# data_df = pd.read_csv('./ratings.dat', sep='::', names=[\"UserID\", \"MovieID\", \"Rating\", \"Timestamp\"])\n",
        "\n",
        "# First, generate dictionaries for mapping old id to new id for users and movies\n",
        "unique_MovieID = data_df['MovieID'].unique()\n",
        "unique_UserID = data_df['UserID'].unique()\n",
        "j = 0\n",
        "user_old2new_id_dict = dict()\n",
        "for u in unique_UserID:\n",
        "    user_old2new_id_dict[u] = j\n",
        "    j += 1\n",
        "j = 0\n",
        "movie_old2new_id_dict = dict()\n",
        "for i in unique_MovieID:\n",
        "    movie_old2new_id_dict[i] = j\n",
        "    j += 1\n",
        "    \n",
        "# Then, use the generated dictionaries to reindex UserID and MovieID in the data_df\n",
        "user_list = data_df['UserID'].values\n",
        "movie_list = data_df['MovieID'].values\n",
        "for j in range(len(data_df)):\n",
        "    user_list[j] = user_old2new_id_dict[user_list[j]]\n",
        "    movie_list[j] = movie_old2new_id_dict[movie_list[j]]\n",
        "data_df['UserID'] = user_list\n",
        "data_df['MovieID'] = movie_list\n",
        "\n",
        "# generate train_df with 70% samples and test_df with 30% samples, and there should have no overlap between them.\n",
        "train_index = np.random.random(len(data_df)) <= 0.7\n",
        "train_df = data_df[train_index]\n",
        "test_df = data_df[~train_index]\n",
        "\n",
        "# generate train_mat and test_mat\n",
        "num_user = len(data_df['UserID'].unique())\n",
        "num_movie = len(data_df['MovieID'].unique())\n",
        "\n",
        "train_mat = coo_matrix((train_df['Rating'].values, (train_df['UserID'].values, train_df['MovieID'].values)), shape=(num_user, num_movie)).astype(float).toarray()\n",
        "test_mat = coo_matrix((test_df['Rating'].values, (test_df['UserID'].values, test_df['MovieID'].values)), shape=(num_user, num_movie)).astype(float).toarray()"
      ],
      "metadata": {
        "id": "E1h-s3WsacVs",
        "colab": {
          "base_uri": "https://localhost:8080/"
        },
        "outputId": "2297dca3-d6f1-4bd1-9dde-23c7f68f0604"
      },
      "execution_count": 57,
      "outputs": [
        {
          "output_type": "stream",
          "name": "stderr",
          "text": [
            "/usr/local/lib/python3.7/dist-packages/pandas/util/_decorators.py:311: ParserWarning:\n",
            "\n",
            "Falling back to the 'python' engine because the 'c' engine does not support regex separators (separators > 1 char and different from '\\s+' are interpreted as regex); you can avoid this warning by specifying engine='python'.\n",
            "\n"
          ]
        }
      ]
    },
    {
      "cell_type": "markdown",
      "source": [
        "## Part 3a: Build the Baseline Estimation Model (15 points)\n",
        "\n",
        "First, let's implement a simple personalized recommendation model -- the baseline estimate -- introduced in class: $b_{u,i}=\\mu+b_i+b_u$, where $\\mu$ is the overall mean rating for all items, $b_u$ = average rating of user $u-\\mu$, $b_i$ = average rating of item $i-\\mu$. Store your prediction as a numpy array variable 'prediction_mat' of size (#users, #movies) with each entry showing the predicted rating for the corresponding user-movie pair.\n",
        "\n",
        "* Hint: for users who do not have ratings in train_mat, set $b_u=0$ for them; and for movies which do not have ratings in train_mat, set $b_i=0$ for them"
      ],
      "metadata": {
        "id": "hI_D_HSXzbaK"
      }
    },
    {
      "cell_type": "code",
      "source": [
        "data_df.head()\n",
        "train_df.head()\n",
        "data_df.head()\n",
        "print(unique_MovieID)\n",
        "print(unique_UserID)\n",
        "print(user_old2new_id_dict)\n",
        "print(movie_old2new_id_dict)\n",
        "print(user_list)\n",
        "print(movie_list)\n",
        "print(train_mat)\n",
        "print(train_mat.shape)\n",
        "print(train_df['Rating'].shape[0])"
      ],
      "metadata": {
        "colab": {
          "base_uri": "https://localhost:8080/"
        },
        "id": "WdIY5OdHit-y",
        "outputId": "e337a668-4bdf-4c25-fc79-b08c7460d499"
      },
      "execution_count": 58,
      "outputs": [
        {
          "output_type": "stream",
          "name": "stdout",
          "text": [
            "[1193  661  914 ... 2845 3607 2909]\n",
            "[   1    2    3 ... 6038 6039 6040]\n",
            "{1: 0, 2: 1, 3: 2, 4: 3, 5: 4, 6: 5, 7: 6, 8: 7, 9: 8, 10: 9, 11: 10, 12: 11, 13: 12, 14: 13, 15: 14, 16: 15, 17: 16, 18: 17, 19: 18, 20: 19, 21: 20, 22: 21, 23: 22, 24: 23, 25: 24, 26: 25, 27: 26, 28: 27, 29: 28, 30: 29, 31: 30, 32: 31, 33: 32, 34: 33, 35: 34, 36: 35, 37: 36, 38: 37, 39: 38, 40: 39, 41: 40, 42: 41, 43: 42, 44: 43, 45: 44, 46: 45, 47: 46, 48: 47, 49: 48, 50: 49, 51: 50, 52: 51, 53: 52, 54: 53, 55: 54, 56: 55, 57: 56, 58: 57, 59: 58, 60: 59, 61: 60, 62: 61, 63: 62, 64: 63, 65: 64, 66: 65, 67: 66, 68: 67, 69: 68, 70: 69, 71: 70, 72: 71, 73: 72, 74: 73, 75: 74, 76: 75, 77: 76, 78: 77, 79: 78, 80: 79, 81: 80, 82: 81, 83: 82, 84: 83, 85: 84, 86: 85, 87: 86, 88: 87, 89: 88, 90: 89, 91: 90, 92: 91, 93: 92, 94: 93, 95: 94, 96: 95, 97: 96, 98: 97, 99: 98, 100: 99, 101: 100, 102: 101, 103: 102, 104: 103, 105: 104, 106: 105, 107: 106, 108: 107, 109: 108, 110: 109, 111: 110, 112: 111, 113: 112, 114: 113, 115: 114, 116: 115, 117: 116, 118: 117, 119: 118, 120: 119, 121: 120, 122: 121, 123: 122, 124: 123, 125: 124, 126: 125, 127: 126, 128: 127, 129: 128, 130: 129, 131: 130, 132: 131, 133: 132, 134: 133, 135: 134, 136: 135, 137: 136, 138: 137, 139: 138, 140: 139, 141: 140, 142: 141, 143: 142, 144: 143, 145: 144, 146: 145, 147: 146, 148: 147, 149: 148, 150: 149, 151: 150, 152: 151, 153: 152, 154: 153, 155: 154, 156: 155, 157: 156, 158: 157, 159: 158, 160: 159, 161: 160, 162: 161, 163: 162, 164: 163, 165: 164, 166: 165, 167: 166, 168: 167, 169: 168, 170: 169, 171: 170, 172: 171, 173: 172, 174: 173, 175: 174, 176: 175, 177: 176, 178: 177, 179: 178, 180: 179, 181: 180, 182: 181, 183: 182, 184: 183, 185: 184, 186: 185, 187: 186, 188: 187, 189: 188, 190: 189, 191: 190, 192: 191, 193: 192, 194: 193, 195: 194, 196: 195, 197: 196, 198: 197, 199: 198, 200: 199, 201: 200, 202: 201, 203: 202, 204: 203, 205: 204, 206: 205, 207: 206, 208: 207, 209: 208, 210: 209, 211: 210, 212: 211, 213: 212, 214: 213, 215: 214, 216: 215, 217: 216, 218: 217, 219: 218, 220: 219, 221: 220, 222: 221, 223: 222, 224: 223, 225: 224, 226: 225, 227: 226, 228: 227, 229: 228, 230: 229, 231: 230, 232: 231, 233: 232, 234: 233, 235: 234, 236: 235, 237: 236, 238: 237, 239: 238, 240: 239, 241: 240, 242: 241, 243: 242, 244: 243, 245: 244, 246: 245, 247: 246, 248: 247, 249: 248, 250: 249, 251: 250, 252: 251, 253: 252, 254: 253, 255: 254, 256: 255, 257: 256, 258: 257, 259: 258, 260: 259, 261: 260, 262: 261, 263: 262, 264: 263, 265: 264, 266: 265, 267: 266, 268: 267, 269: 268, 270: 269, 271: 270, 272: 271, 273: 272, 274: 273, 275: 274, 276: 275, 277: 276, 278: 277, 279: 278, 280: 279, 281: 280, 282: 281, 283: 282, 284: 283, 285: 284, 286: 285, 287: 286, 288: 287, 289: 288, 290: 289, 291: 290, 292: 291, 293: 292, 294: 293, 295: 294, 296: 295, 297: 296, 298: 297, 299: 298, 300: 299, 301: 300, 302: 301, 303: 302, 304: 303, 305: 304, 306: 305, 307: 306, 308: 307, 309: 308, 310: 309, 311: 310, 312: 311, 313: 312, 314: 313, 315: 314, 316: 315, 317: 316, 318: 317, 319: 318, 320: 319, 321: 320, 322: 321, 323: 322, 324: 323, 325: 324, 326: 325, 327: 326, 328: 327, 329: 328, 330: 329, 331: 330, 332: 331, 333: 332, 334: 333, 335: 334, 336: 335, 337: 336, 338: 337, 339: 338, 340: 339, 341: 340, 342: 341, 343: 342, 344: 343, 345: 344, 346: 345, 347: 346, 348: 347, 349: 348, 350: 349, 351: 350, 352: 351, 353: 352, 354: 353, 355: 354, 356: 355, 357: 356, 358: 357, 359: 358, 360: 359, 361: 360, 362: 361, 363: 362, 364: 363, 365: 364, 366: 365, 367: 366, 368: 367, 369: 368, 370: 369, 371: 370, 372: 371, 373: 372, 374: 373, 375: 374, 376: 375, 377: 376, 378: 377, 379: 378, 380: 379, 381: 380, 382: 381, 383: 382, 384: 383, 385: 384, 386: 385, 387: 386, 388: 387, 389: 388, 390: 389, 391: 390, 392: 391, 393: 392, 394: 393, 395: 394, 396: 395, 397: 396, 398: 397, 399: 398, 400: 399, 401: 400, 402: 401, 403: 402, 404: 403, 405: 404, 406: 405, 407: 406, 408: 407, 409: 408, 410: 409, 411: 410, 412: 411, 413: 412, 414: 413, 415: 414, 416: 415, 417: 416, 418: 417, 419: 418, 420: 419, 421: 420, 422: 421, 423: 422, 424: 423, 425: 424, 426: 425, 427: 426, 428: 427, 429: 428, 430: 429, 431: 430, 432: 431, 433: 432, 434: 433, 435: 434, 436: 435, 437: 436, 438: 437, 439: 438, 440: 439, 441: 440, 442: 441, 443: 442, 444: 443, 445: 444, 446: 445, 447: 446, 448: 447, 449: 448, 450: 449, 451: 450, 452: 451, 453: 452, 454: 453, 455: 454, 456: 455, 457: 456, 458: 457, 459: 458, 460: 459, 461: 460, 462: 461, 463: 462, 464: 463, 465: 464, 466: 465, 467: 466, 468: 467, 469: 468, 470: 469, 471: 470, 472: 471, 473: 472, 474: 473, 475: 474, 476: 475, 477: 476, 478: 477, 479: 478, 480: 479, 481: 480, 482: 481, 483: 482, 484: 483, 485: 484, 486: 485, 487: 486, 488: 487, 489: 488, 490: 489, 491: 490, 492: 491, 493: 492, 494: 493, 495: 494, 496: 495, 497: 496, 498: 497, 499: 498, 500: 499, 501: 500, 502: 501, 503: 502, 504: 503, 505: 504, 506: 505, 507: 506, 508: 507, 509: 508, 510: 509, 511: 510, 512: 511, 513: 512, 514: 513, 515: 514, 516: 515, 517: 516, 518: 517, 519: 518, 520: 519, 521: 520, 522: 521, 523: 522, 524: 523, 525: 524, 526: 525, 527: 526, 528: 527, 529: 528, 530: 529, 531: 530, 532: 531, 533: 532, 534: 533, 535: 534, 536: 535, 537: 536, 538: 537, 539: 538, 540: 539, 541: 540, 542: 541, 543: 542, 544: 543, 545: 544, 546: 545, 547: 546, 548: 547, 549: 548, 550: 549, 551: 550, 552: 551, 553: 552, 554: 553, 555: 554, 556: 555, 557: 556, 558: 557, 559: 558, 560: 559, 561: 560, 562: 561, 563: 562, 564: 563, 565: 564, 566: 565, 567: 566, 568: 567, 569: 568, 570: 569, 571: 570, 572: 571, 573: 572, 574: 573, 575: 574, 576: 575, 577: 576, 578: 577, 579: 578, 580: 579, 581: 580, 582: 581, 583: 582, 584: 583, 585: 584, 586: 585, 587: 586, 588: 587, 589: 588, 590: 589, 591: 590, 592: 591, 593: 592, 594: 593, 595: 594, 596: 595, 597: 596, 598: 597, 599: 598, 600: 599, 601: 600, 602: 601, 603: 602, 604: 603, 605: 604, 606: 605, 607: 606, 608: 607, 609: 608, 610: 609, 611: 610, 612: 611, 613: 612, 614: 613, 615: 614, 616: 615, 617: 616, 618: 617, 619: 618, 620: 619, 621: 620, 622: 621, 623: 622, 624: 623, 625: 624, 626: 625, 627: 626, 628: 627, 629: 628, 630: 629, 631: 630, 632: 631, 633: 632, 634: 633, 635: 634, 636: 635, 637: 636, 638: 637, 639: 638, 640: 639, 641: 640, 642: 641, 643: 642, 644: 643, 645: 644, 646: 645, 647: 646, 648: 647, 649: 648, 650: 649, 651: 650, 652: 651, 653: 652, 654: 653, 655: 654, 656: 655, 657: 656, 658: 657, 659: 658, 660: 659, 661: 660, 662: 661, 663: 662, 664: 663, 665: 664, 666: 665, 667: 666, 668: 667, 669: 668, 670: 669, 671: 670, 672: 671, 673: 672, 674: 673, 675: 674, 676: 675, 677: 676, 678: 677, 679: 678, 680: 679, 681: 680, 682: 681, 683: 682, 684: 683, 685: 684, 686: 685, 687: 686, 688: 687, 689: 688, 690: 689, 691: 690, 692: 691, 693: 692, 694: 693, 695: 694, 696: 695, 697: 696, 698: 697, 699: 698, 700: 699, 701: 700, 702: 701, 703: 702, 704: 703, 705: 704, 706: 705, 707: 706, 708: 707, 709: 708, 710: 709, 711: 710, 712: 711, 713: 712, 714: 713, 715: 714, 716: 715, 717: 716, 718: 717, 719: 718, 720: 719, 721: 720, 722: 721, 723: 722, 724: 723, 725: 724, 726: 725, 727: 726, 728: 727, 729: 728, 730: 729, 731: 730, 732: 731, 733: 732, 734: 733, 735: 734, 736: 735, 737: 736, 738: 737, 739: 738, 740: 739, 741: 740, 742: 741, 743: 742, 744: 743, 745: 744, 746: 745, 747: 746, 748: 747, 749: 748, 750: 749, 751: 750, 752: 751, 753: 752, 754: 753, 755: 754, 756: 755, 757: 756, 758: 757, 759: 758, 760: 759, 761: 760, 762: 761, 763: 762, 764: 763, 765: 764, 766: 765, 767: 766, 768: 767, 769: 768, 770: 769, 771: 770, 772: 771, 773: 772, 774: 773, 775: 774, 776: 775, 777: 776, 778: 777, 779: 778, 780: 779, 781: 780, 782: 781, 783: 782, 784: 783, 785: 784, 786: 785, 787: 786, 788: 787, 789: 788, 790: 789, 791: 790, 792: 791, 793: 792, 794: 793, 795: 794, 796: 795, 797: 796, 798: 797, 799: 798, 800: 799, 801: 800, 802: 801, 803: 802, 804: 803, 805: 804, 806: 805, 807: 806, 808: 807, 809: 808, 810: 809, 811: 810, 812: 811, 813: 812, 814: 813, 815: 814, 816: 815, 817: 816, 818: 817, 819: 818, 820: 819, 821: 820, 822: 821, 823: 822, 824: 823, 825: 824, 826: 825, 827: 826, 828: 827, 829: 828, 830: 829, 831: 830, 832: 831, 833: 832, 834: 833, 835: 834, 836: 835, 837: 836, 838: 837, 839: 838, 840: 839, 841: 840, 842: 841, 843: 842, 844: 843, 845: 844, 846: 845, 847: 846, 848: 847, 849: 848, 850: 849, 851: 850, 852: 851, 853: 852, 854: 853, 855: 854, 856: 855, 857: 856, 858: 857, 859: 858, 860: 859, 861: 860, 862: 861, 863: 862, 864: 863, 865: 864, 866: 865, 867: 866, 868: 867, 869: 868, 870: 869, 871: 870, 872: 871, 873: 872, 874: 873, 875: 874, 876: 875, 877: 876, 878: 877, 879: 878, 880: 879, 881: 880, 882: 881, 883: 882, 884: 883, 885: 884, 886: 885, 887: 886, 888: 887, 889: 888, 890: 889, 891: 890, 892: 891, 893: 892, 894: 893, 895: 894, 896: 895, 897: 896, 898: 897, 899: 898, 900: 899, 901: 900, 902: 901, 903: 902, 904: 903, 905: 904, 906: 905, 907: 906, 908: 907, 909: 908, 910: 909, 911: 910, 912: 911, 913: 912, 914: 913, 915: 914, 916: 915, 917: 916, 918: 917, 919: 918, 920: 919, 921: 920, 922: 921, 923: 922, 924: 923, 925: 924, 926: 925, 927: 926, 928: 927, 929: 928, 930: 929, 931: 930, 932: 931, 933: 932, 934: 933, 935: 934, 936: 935, 937: 936, 938: 937, 939: 938, 940: 939, 941: 940, 942: 941, 943: 942, 944: 943, 945: 944, 946: 945, 947: 946, 948: 947, 949: 948, 950: 949, 951: 950, 952: 951, 953: 952, 954: 953, 955: 954, 956: 955, 957: 956, 958: 957, 959: 958, 960: 959, 961: 960, 962: 961, 963: 962, 964: 963, 965: 964, 966: 965, 967: 966, 968: 967, 969: 968, 970: 969, 971: 970, 972: 971, 973: 972, 974: 973, 975: 974, 976: 975, 977: 976, 978: 977, 979: 978, 980: 979, 981: 980, 982: 981, 983: 982, 984: 983, 985: 984, 986: 985, 987: 986, 988: 987, 989: 988, 990: 989, 991: 990, 992: 991, 993: 992, 994: 993, 995: 994, 996: 995, 997: 996, 998: 997, 999: 998, 1000: 999, 1001: 1000, 1002: 1001, 1003: 1002, 1004: 1003, 1005: 1004, 1006: 1005, 1007: 1006, 1008: 1007, 1009: 1008, 1010: 1009, 1011: 1010, 1012: 1011, 1013: 1012, 1014: 1013, 1015: 1014, 1016: 1015, 1017: 1016, 1018: 1017, 1019: 1018, 1020: 1019, 1021: 1020, 1022: 1021, 1023: 1022, 1024: 1023, 1025: 1024, 1026: 1025, 1027: 1026, 1028: 1027, 1029: 1028, 1030: 1029, 1031: 1030, 1032: 1031, 1033: 1032, 1034: 1033, 1035: 1034, 1036: 1035, 1037: 1036, 1038: 1037, 1039: 1038, 1040: 1039, 1041: 1040, 1042: 1041, 1043: 1042, 1044: 1043, 1045: 1044, 1046: 1045, 1047: 1046, 1048: 1047, 1049: 1048, 1050: 1049, 1051: 1050, 1052: 1051, 1053: 1052, 1054: 1053, 1055: 1054, 1056: 1055, 1057: 1056, 1058: 1057, 1059: 1058, 1060: 1059, 1061: 1060, 1062: 1061, 1063: 1062, 1064: 1063, 1065: 1064, 1066: 1065, 1067: 1066, 1068: 1067, 1069: 1068, 1070: 1069, 1071: 1070, 1072: 1071, 1073: 1072, 1074: 1073, 1075: 1074, 1076: 1075, 1077: 1076, 1078: 1077, 1079: 1078, 1080: 1079, 1081: 1080, 1082: 1081, 1083: 1082, 1084: 1083, 1085: 1084, 1086: 1085, 1087: 1086, 1088: 1087, 1089: 1088, 1090: 1089, 1091: 1090, 1092: 1091, 1093: 1092, 1094: 1093, 1095: 1094, 1096: 1095, 1097: 1096, 1098: 1097, 1099: 1098, 1100: 1099, 1101: 1100, 1102: 1101, 1103: 1102, 1104: 1103, 1105: 1104, 1106: 1105, 1107: 1106, 1108: 1107, 1109: 1108, 1110: 1109, 1111: 1110, 1112: 1111, 1113: 1112, 1114: 1113, 1115: 1114, 1116: 1115, 1117: 1116, 1118: 1117, 1119: 1118, 1120: 1119, 1121: 1120, 1122: 1121, 1123: 1122, 1124: 1123, 1125: 1124, 1126: 1125, 1127: 1126, 1128: 1127, 1129: 1128, 1130: 1129, 1131: 1130, 1132: 1131, 1133: 1132, 1134: 1133, 1135: 1134, 1136: 1135, 1137: 1136, 1138: 1137, 1139: 1138, 1140: 1139, 1141: 1140, 1142: 1141, 1143: 1142, 1144: 1143, 1145: 1144, 1146: 1145, 1147: 1146, 1148: 1147, 1149: 1148, 1150: 1149, 1151: 1150, 1152: 1151, 1153: 1152, 1154: 1153, 1155: 1154, 1156: 1155, 1157: 1156, 1158: 1157, 1159: 1158, 1160: 1159, 1161: 1160, 1162: 1161, 1163: 1162, 1164: 1163, 1165: 1164, 1166: 1165, 1167: 1166, 1168: 1167, 1169: 1168, 1170: 1169, 1171: 1170, 1172: 1171, 1173: 1172, 1174: 1173, 1175: 1174, 1176: 1175, 1177: 1176, 1178: 1177, 1179: 1178, 1180: 1179, 1181: 1180, 1182: 1181, 1183: 1182, 1184: 1183, 1185: 1184, 1186: 1185, 1187: 1186, 1188: 1187, 1189: 1188, 1190: 1189, 1191: 1190, 1192: 1191, 1193: 1192, 1194: 1193, 1195: 1194, 1196: 1195, 1197: 1196, 1198: 1197, 1199: 1198, 1200: 1199, 1201: 1200, 1202: 1201, 1203: 1202, 1204: 1203, 1205: 1204, 1206: 1205, 1207: 1206, 1208: 1207, 1209: 1208, 1210: 1209, 1211: 1210, 1212: 1211, 1213: 1212, 1214: 1213, 1215: 1214, 1216: 1215, 1217: 1216, 1218: 1217, 1219: 1218, 1220: 1219, 1221: 1220, 1222: 1221, 1223: 1222, 1224: 1223, 1225: 1224, 1226: 1225, 1227: 1226, 1228: 1227, 1229: 1228, 1230: 1229, 1231: 1230, 1232: 1231, 1233: 1232, 1234: 1233, 1235: 1234, 1236: 1235, 1237: 1236, 1238: 1237, 1239: 1238, 1240: 1239, 1241: 1240, 1242: 1241, 1243: 1242, 1244: 1243, 1245: 1244, 1246: 1245, 1247: 1246, 1248: 1247, 1249: 1248, 1250: 1249, 1251: 1250, 1252: 1251, 1253: 1252, 1254: 1253, 1255: 1254, 1256: 1255, 1257: 1256, 1258: 1257, 1259: 1258, 1260: 1259, 1261: 1260, 1262: 1261, 1263: 1262, 1264: 1263, 1265: 1264, 1266: 1265, 1267: 1266, 1268: 1267, 1269: 1268, 1270: 1269, 1271: 1270, 1272: 1271, 1273: 1272, 1274: 1273, 1275: 1274, 1276: 1275, 1277: 1276, 1278: 1277, 1279: 1278, 1280: 1279, 1281: 1280, 1282: 1281, 1283: 1282, 1284: 1283, 1285: 1284, 1286: 1285, 1287: 1286, 1288: 1287, 1289: 1288, 1290: 1289, 1291: 1290, 1292: 1291, 1293: 1292, 1294: 1293, 1295: 1294, 1296: 1295, 1297: 1296, 1298: 1297, 1299: 1298, 1300: 1299, 1301: 1300, 1302: 1301, 1303: 1302, 1304: 1303, 1305: 1304, 1306: 1305, 1307: 1306, 1308: 1307, 1309: 1308, 1310: 1309, 1311: 1310, 1312: 1311, 1313: 1312, 1314: 1313, 1315: 1314, 1316: 1315, 1317: 1316, 1318: 1317, 1319: 1318, 1320: 1319, 1321: 1320, 1322: 1321, 1323: 1322, 1324: 1323, 1325: 1324, 1326: 1325, 1327: 1326, 1328: 1327, 1329: 1328, 1330: 1329, 1331: 1330, 1332: 1331, 1333: 1332, 1334: 1333, 1335: 1334, 1336: 1335, 1337: 1336, 1338: 1337, 1339: 1338, 1340: 1339, 1341: 1340, 1342: 1341, 1343: 1342, 1344: 1343, 1345: 1344, 1346: 1345, 1347: 1346, 1348: 1347, 1349: 1348, 1350: 1349, 1351: 1350, 1352: 1351, 1353: 1352, 1354: 1353, 1355: 1354, 1356: 1355, 1357: 1356, 1358: 1357, 1359: 1358, 1360: 1359, 1361: 1360, 1362: 1361, 1363: 1362, 1364: 1363, 1365: 1364, 1366: 1365, 1367: 1366, 1368: 1367, 1369: 1368, 1370: 1369, 1371: 1370, 1372: 1371, 1373: 1372, 1374: 1373, 1375: 1374, 1376: 1375, 1377: 1376, 1378: 1377, 1379: 1378, 1380: 1379, 1381: 1380, 1382: 1381, 1383: 1382, 1384: 1383, 1385: 1384, 1386: 1385, 1387: 1386, 1388: 1387, 1389: 1388, 1390: 1389, 1391: 1390, 1392: 1391, 1393: 1392, 1394: 1393, 1395: 1394, 1396: 1395, 1397: 1396, 1398: 1397, 1399: 1398, 1400: 1399, 1401: 1400, 1402: 1401, 1403: 1402, 1404: 1403, 1405: 1404, 1406: 1405, 1407: 1406, 1408: 1407, 1409: 1408, 1410: 1409, 1411: 1410, 1412: 1411, 1413: 1412, 1414: 1413, 1415: 1414, 1416: 1415, 1417: 1416, 1418: 1417, 1419: 1418, 1420: 1419, 1421: 1420, 1422: 1421, 1423: 1422, 1424: 1423, 1425: 1424, 1426: 1425, 1427: 1426, 1428: 1427, 1429: 1428, 1430: 1429, 1431: 1430, 1432: 1431, 1433: 1432, 1434: 1433, 1435: 1434, 1436: 1435, 1437: 1436, 1438: 1437, 1439: 1438, 1440: 1439, 1441: 1440, 1442: 1441, 1443: 1442, 1444: 1443, 1445: 1444, 1446: 1445, 1447: 1446, 1448: 1447, 1449: 1448, 1450: 1449, 1451: 1450, 1452: 1451, 1453: 1452, 1454: 1453, 1455: 1454, 1456: 1455, 1457: 1456, 1458: 1457, 1459: 1458, 1460: 1459, 1461: 1460, 1462: 1461, 1463: 1462, 1464: 1463, 1465: 1464, 1466: 1465, 1467: 1466, 1468: 1467, 1469: 1468, 1470: 1469, 1471: 1470, 1472: 1471, 1473: 1472, 1474: 1473, 1475: 1474, 1476: 1475, 1477: 1476, 1478: 1477, 1479: 1478, 1480: 1479, 1481: 1480, 1482: 1481, 1483: 1482, 1484: 1483, 1485: 1484, 1486: 1485, 1487: 1486, 1488: 1487, 1489: 1488, 1490: 1489, 1491: 1490, 1492: 1491, 1493: 1492, 1494: 1493, 1495: 1494, 1496: 1495, 1497: 1496, 1498: 1497, 1499: 1498, 1500: 1499, 1501: 1500, 1502: 1501, 1503: 1502, 1504: 1503, 1505: 1504, 1506: 1505, 1507: 1506, 1508: 1507, 1509: 1508, 1510: 1509, 1511: 1510, 1512: 1511, 1513: 1512, 1514: 1513, 1515: 1514, 1516: 1515, 1517: 1516, 1518: 1517, 1519: 1518, 1520: 1519, 1521: 1520, 1522: 1521, 1523: 1522, 1524: 1523, 1525: 1524, 1526: 1525, 1527: 1526, 1528: 1527, 1529: 1528, 1530: 1529, 1531: 1530, 1532: 1531, 1533: 1532, 1534: 1533, 1535: 1534, 1536: 1535, 1537: 1536, 1538: 1537, 1539: 1538, 1540: 1539, 1541: 1540, 1542: 1541, 1543: 1542, 1544: 1543, 1545: 1544, 1546: 1545, 1547: 1546, 1548: 1547, 1549: 1548, 1550: 1549, 1551: 1550, 1552: 1551, 1553: 1552, 1554: 1553, 1555: 1554, 1556: 1555, 1557: 1556, 1558: 1557, 1559: 1558, 1560: 1559, 1561: 1560, 1562: 1561, 1563: 1562, 1564: 1563, 1565: 1564, 1566: 1565, 1567: 1566, 1568: 1567, 1569: 1568, 1570: 1569, 1571: 1570, 1572: 1571, 1573: 1572, 1574: 1573, 1575: 1574, 1576: 1575, 1577: 1576, 1578: 1577, 1579: 1578, 1580: 1579, 1581: 1580, 1582: 1581, 1583: 1582, 1584: 1583, 1585: 1584, 1586: 1585, 1587: 1586, 1588: 1587, 1589: 1588, 1590: 1589, 1591: 1590, 1592: 1591, 1593: 1592, 1594: 1593, 1595: 1594, 1596: 1595, 1597: 1596, 1598: 1597, 1599: 1598, 1600: 1599, 1601: 1600, 1602: 1601, 1603: 1602, 1604: 1603, 1605: 1604, 1606: 1605, 1607: 1606, 1608: 1607, 1609: 1608, 1610: 1609, 1611: 1610, 1612: 1611, 1613: 1612, 1614: 1613, 1615: 1614, 1616: 1615, 1617: 1616, 1618: 1617, 1619: 1618, 1620: 1619, 1621: 1620, 1622: 1621, 1623: 1622, 1624: 1623, 1625: 1624, 1626: 1625, 1627: 1626, 1628: 1627, 1629: 1628, 1630: 1629, 1631: 1630, 1632: 1631, 1633: 1632, 1634: 1633, 1635: 1634, 1636: 1635, 1637: 1636, 1638: 1637, 1639: 1638, 1640: 1639, 1641: 1640, 1642: 1641, 1643: 1642, 1644: 1643, 1645: 1644, 1646: 1645, 1647: 1646, 1648: 1647, 1649: 1648, 1650: 1649, 1651: 1650, 1652: 1651, 1653: 1652, 1654: 1653, 1655: 1654, 1656: 1655, 1657: 1656, 1658: 1657, 1659: 1658, 1660: 1659, 1661: 1660, 1662: 1661, 1663: 1662, 1664: 1663, 1665: 1664, 1666: 1665, 1667: 1666, 1668: 1667, 1669: 1668, 1670: 1669, 1671: 1670, 1672: 1671, 1673: 1672, 1674: 1673, 1675: 1674, 1676: 1675, 1677: 1676, 1678: 1677, 1679: 1678, 1680: 1679, 1681: 1680, 1682: 1681, 1683: 1682, 1684: 1683, 1685: 1684, 1686: 1685, 1687: 1686, 1688: 1687, 1689: 1688, 1690: 1689, 1691: 1690, 1692: 1691, 1693: 1692, 1694: 1693, 1695: 1694, 1696: 1695, 1697: 1696, 1698: 1697, 1699: 1698, 1700: 1699, 1701: 1700, 1702: 1701, 1703: 1702, 1704: 1703, 1705: 1704, 1706: 1705, 1707: 1706, 1708: 1707, 1709: 1708, 1710: 1709, 1711: 1710, 1712: 1711, 1713: 1712, 1714: 1713, 1715: 1714, 1716: 1715, 1717: 1716, 1718: 1717, 1719: 1718, 1720: 1719, 1721: 1720, 1722: 1721, 1723: 1722, 1724: 1723, 1725: 1724, 1726: 1725, 1727: 1726, 1728: 1727, 1729: 1728, 1730: 1729, 1731: 1730, 1732: 1731, 1733: 1732, 1734: 1733, 1735: 1734, 1736: 1735, 1737: 1736, 1738: 1737, 1739: 1738, 1740: 1739, 1741: 1740, 1742: 1741, 1743: 1742, 1744: 1743, 1745: 1744, 1746: 1745, 1747: 1746, 1748: 1747, 1749: 1748, 1750: 1749, 1751: 1750, 1752: 1751, 1753: 1752, 1754: 1753, 1755: 1754, 1756: 1755, 1757: 1756, 1758: 1757, 1759: 1758, 1760: 1759, 1761: 1760, 1762: 1761, 1763: 1762, 1764: 1763, 1765: 1764, 1766: 1765, 1767: 1766, 1768: 1767, 1769: 1768, 1770: 1769, 1771: 1770, 1772: 1771, 1773: 1772, 1774: 1773, 1775: 1774, 1776: 1775, 1777: 1776, 1778: 1777, 1779: 1778, 1780: 1779, 1781: 1780, 1782: 1781, 1783: 1782, 1784: 1783, 1785: 1784, 1786: 1785, 1787: 1786, 1788: 1787, 1789: 1788, 1790: 1789, 1791: 1790, 1792: 1791, 1793: 1792, 1794: 1793, 1795: 1794, 1796: 1795, 1797: 1796, 1798: 1797, 1799: 1798, 1800: 1799, 1801: 1800, 1802: 1801, 1803: 1802, 1804: 1803, 1805: 1804, 1806: 1805, 1807: 1806, 1808: 1807, 1809: 1808, 1810: 1809, 1811: 1810, 1812: 1811, 1813: 1812, 1814: 1813, 1815: 1814, 1816: 1815, 1817: 1816, 1818: 1817, 1819: 1818, 1820: 1819, 1821: 1820, 1822: 1821, 1823: 1822, 1824: 1823, 1825: 1824, 1826: 1825, 1827: 1826, 1828: 1827, 1829: 1828, 1830: 1829, 1831: 1830, 1832: 1831, 1833: 1832, 1834: 1833, 1835: 1834, 1836: 1835, 1837: 1836, 1838: 1837, 1839: 1838, 1840: 1839, 1841: 1840, 1842: 1841, 1843: 1842, 1844: 1843, 1845: 1844, 1846: 1845, 1847: 1846, 1848: 1847, 1849: 1848, 1850: 1849, 1851: 1850, 1852: 1851, 1853: 1852, 1854: 1853, 1855: 1854, 1856: 1855, 1857: 1856, 1858: 1857, 1859: 1858, 1860: 1859, 1861: 1860, 1862: 1861, 1863: 1862, 1864: 1863, 1865: 1864, 1866: 1865, 1867: 1866, 1868: 1867, 1869: 1868, 1870: 1869, 1871: 1870, 1872: 1871, 1873: 1872, 1874: 1873, 1875: 1874, 1876: 1875, 1877: 1876, 1878: 1877, 1879: 1878, 1880: 1879, 1881: 1880, 1882: 1881, 1883: 1882, 1884: 1883, 1885: 1884, 1886: 1885, 1887: 1886, 1888: 1887, 1889: 1888, 1890: 1889, 1891: 1890, 1892: 1891, 1893: 1892, 1894: 1893, 1895: 1894, 1896: 1895, 1897: 1896, 1898: 1897, 1899: 1898, 1900: 1899, 1901: 1900, 1902: 1901, 1903: 1902, 1904: 1903, 1905: 1904, 1906: 1905, 1907: 1906, 1908: 1907, 1909: 1908, 1910: 1909, 1911: 1910, 1912: 1911, 1913: 1912, 1914: 1913, 1915: 1914, 1916: 1915, 1917: 1916, 1918: 1917, 1919: 1918, 1920: 1919, 1921: 1920, 1922: 1921, 1923: 1922, 1924: 1923, 1925: 1924, 1926: 1925, 1927: 1926, 1928: 1927, 1929: 1928, 1930: 1929, 1931: 1930, 1932: 1931, 1933: 1932, 1934: 1933, 1935: 1934, 1936: 1935, 1937: 1936, 1938: 1937, 1939: 1938, 1940: 1939, 1941: 1940, 1942: 1941, 1943: 1942, 1944: 1943, 1945: 1944, 1946: 1945, 1947: 1946, 1948: 1947, 1949: 1948, 1950: 1949, 1951: 1950, 1952: 1951, 1953: 1952, 1954: 1953, 1955: 1954, 1956: 1955, 1957: 1956, 1958: 1957, 1959: 1958, 1960: 1959, 1961: 1960, 1962: 1961, 1963: 1962, 1964: 1963, 1965: 1964, 1966: 1965, 1967: 1966, 1968: 1967, 1969: 1968, 1970: 1969, 1971: 1970, 1972: 1971, 1973: 1972, 1974: 1973, 1975: 1974, 1976: 1975, 1977: 1976, 1978: 1977, 1979: 1978, 1980: 1979, 1981: 1980, 1982: 1981, 1983: 1982, 1984: 1983, 1985: 1984, 1986: 1985, 1987: 1986, 1988: 1987, 1989: 1988, 1990: 1989, 1991: 1990, 1992: 1991, 1993: 1992, 1994: 1993, 1995: 1994, 1996: 1995, 1997: 1996, 1998: 1997, 1999: 1998, 2000: 1999, 2001: 2000, 2002: 2001, 2003: 2002, 2004: 2003, 2005: 2004, 2006: 2005, 2007: 2006, 2008: 2007, 2009: 2008, 2010: 2009, 2011: 2010, 2012: 2011, 2013: 2012, 2014: 2013, 2015: 2014, 2016: 2015, 2017: 2016, 2018: 2017, 2019: 2018, 2020: 2019, 2021: 2020, 2022: 2021, 2023: 2022, 2024: 2023, 2025: 2024, 2026: 2025, 2027: 2026, 2028: 2027, 2029: 2028, 2030: 2029, 2031: 2030, 2032: 2031, 2033: 2032, 2034: 2033, 2035: 2034, 2036: 2035, 2037: 2036, 2038: 2037, 2039: 2038, 2040: 2039, 2041: 2040, 2042: 2041, 2043: 2042, 2044: 2043, 2045: 2044, 2046: 2045, 2047: 2046, 2048: 2047, 2049: 2048, 2050: 2049, 2051: 2050, 2052: 2051, 2053: 2052, 2054: 2053, 2055: 2054, 2056: 2055, 2057: 2056, 2058: 2057, 2059: 2058, 2060: 2059, 2061: 2060, 2062: 2061, 2063: 2062, 2064: 2063, 2065: 2064, 2066: 2065, 2067: 2066, 2068: 2067, 2069: 2068, 2070: 2069, 2071: 2070, 2072: 2071, 2073: 2072, 2074: 2073, 2075: 2074, 2076: 2075, 2077: 2076, 2078: 2077, 2079: 2078, 2080: 2079, 2081: 2080, 2082: 2081, 2083: 2082, 2084: 2083, 2085: 2084, 2086: 2085, 2087: 2086, 2088: 2087, 2089: 2088, 2090: 2089, 2091: 2090, 2092: 2091, 2093: 2092, 2094: 2093, 2095: 2094, 2096: 2095, 2097: 2096, 2098: 2097, 2099: 2098, 2100: 2099, 2101: 2100, 2102: 2101, 2103: 2102, 2104: 2103, 2105: 2104, 2106: 2105, 2107: 2106, 2108: 2107, 2109: 2108, 2110: 2109, 2111: 2110, 2112: 2111, 2113: 2112, 2114: 2113, 2115: 2114, 2116: 2115, 2117: 2116, 2118: 2117, 2119: 2118, 2120: 2119, 2121: 2120, 2122: 2121, 2123: 2122, 2124: 2123, 2125: 2124, 2126: 2125, 2127: 2126, 2128: 2127, 2129: 2128, 2130: 2129, 2131: 2130, 2132: 2131, 2133: 2132, 2134: 2133, 2135: 2134, 2136: 2135, 2137: 2136, 2138: 2137, 2139: 2138, 2140: 2139, 2141: 2140, 2142: 2141, 2143: 2142, 2144: 2143, 2145: 2144, 2146: 2145, 2147: 2146, 2148: 2147, 2149: 2148, 2150: 2149, 2151: 2150, 2152: 2151, 2153: 2152, 2154: 2153, 2155: 2154, 2156: 2155, 2157: 2156, 2158: 2157, 2159: 2158, 2160: 2159, 2161: 2160, 2162: 2161, 2163: 2162, 2164: 2163, 2165: 2164, 2166: 2165, 2167: 2166, 2168: 2167, 2169: 2168, 2170: 2169, 2171: 2170, 2172: 2171, 2173: 2172, 2174: 2173, 2175: 2174, 2176: 2175, 2177: 2176, 2178: 2177, 2179: 2178, 2180: 2179, 2181: 2180, 2182: 2181, 2183: 2182, 2184: 2183, 2185: 2184, 2186: 2185, 2187: 2186, 2188: 2187, 2189: 2188, 2190: 2189, 2191: 2190, 2192: 2191, 2193: 2192, 2194: 2193, 2195: 2194, 2196: 2195, 2197: 2196, 2198: 2197, 2199: 2198, 2200: 2199, 2201: 2200, 2202: 2201, 2203: 2202, 2204: 2203, 2205: 2204, 2206: 2205, 2207: 2206, 2208: 2207, 2209: 2208, 2210: 2209, 2211: 2210, 2212: 2211, 2213: 2212, 2214: 2213, 2215: 2214, 2216: 2215, 2217: 2216, 2218: 2217, 2219: 2218, 2220: 2219, 2221: 2220, 2222: 2221, 2223: 2222, 2224: 2223, 2225: 2224, 2226: 2225, 2227: 2226, 2228: 2227, 2229: 2228, 2230: 2229, 2231: 2230, 2232: 2231, 2233: 2232, 2234: 2233, 2235: 2234, 2236: 2235, 2237: 2236, 2238: 2237, 2239: 2238, 2240: 2239, 2241: 2240, 2242: 2241, 2243: 2242, 2244: 2243, 2245: 2244, 2246: 2245, 2247: 2246, 2248: 2247, 2249: 2248, 2250: 2249, 2251: 2250, 2252: 2251, 2253: 2252, 2254: 2253, 2255: 2254, 2256: 2255, 2257: 2256, 2258: 2257, 2259: 2258, 2260: 2259, 2261: 2260, 2262: 2261, 2263: 2262, 2264: 2263, 2265: 2264, 2266: 2265, 2267: 2266, 2268: 2267, 2269: 2268, 2270: 2269, 2271: 2270, 2272: 2271, 2273: 2272, 2274: 2273, 2275: 2274, 2276: 2275, 2277: 2276, 2278: 2277, 2279: 2278, 2280: 2279, 2281: 2280, 2282: 2281, 2283: 2282, 2284: 2283, 2285: 2284, 2286: 2285, 2287: 2286, 2288: 2287, 2289: 2288, 2290: 2289, 2291: 2290, 2292: 2291, 2293: 2292, 2294: 2293, 2295: 2294, 2296: 2295, 2297: 2296, 2298: 2297, 2299: 2298, 2300: 2299, 2301: 2300, 2302: 2301, 2303: 2302, 2304: 2303, 2305: 2304, 2306: 2305, 2307: 2306, 2308: 2307, 2309: 2308, 2310: 2309, 2311: 2310, 2312: 2311, 2313: 2312, 2314: 2313, 2315: 2314, 2316: 2315, 2317: 2316, 2318: 2317, 2319: 2318, 2320: 2319, 2321: 2320, 2322: 2321, 2323: 2322, 2324: 2323, 2325: 2324, 2326: 2325, 2327: 2326, 2328: 2327, 2329: 2328, 2330: 2329, 2331: 2330, 2332: 2331, 2333: 2332, 2334: 2333, 2335: 2334, 2336: 2335, 2337: 2336, 2338: 2337, 2339: 2338, 2340: 2339, 2341: 2340, 2342: 2341, 2343: 2342, 2344: 2343, 2345: 2344, 2346: 2345, 2347: 2346, 2348: 2347, 2349: 2348, 2350: 2349, 2351: 2350, 2352: 2351, 2353: 2352, 2354: 2353, 2355: 2354, 2356: 2355, 2357: 2356, 2358: 2357, 2359: 2358, 2360: 2359, 2361: 2360, 2362: 2361, 2363: 2362, 2364: 2363, 2365: 2364, 2366: 2365, 2367: 2366, 2368: 2367, 2369: 2368, 2370: 2369, 2371: 2370, 2372: 2371, 2373: 2372, 2374: 2373, 2375: 2374, 2376: 2375, 2377: 2376, 2378: 2377, 2379: 2378, 2380: 2379, 2381: 2380, 2382: 2381, 2383: 2382, 2384: 2383, 2385: 2384, 2386: 2385, 2387: 2386, 2388: 2387, 2389: 2388, 2390: 2389, 2391: 2390, 2392: 2391, 2393: 2392, 2394: 2393, 2395: 2394, 2396: 2395, 2397: 2396, 2398: 2397, 2399: 2398, 2400: 2399, 2401: 2400, 2402: 2401, 2403: 2402, 2404: 2403, 2405: 2404, 2406: 2405, 2407: 2406, 2408: 2407, 2409: 2408, 2410: 2409, 2411: 2410, 2412: 2411, 2413: 2412, 2414: 2413, 2415: 2414, 2416: 2415, 2417: 2416, 2418: 2417, 2419: 2418, 2420: 2419, 2421: 2420, 2422: 2421, 2423: 2422, 2424: 2423, 2425: 2424, 2426: 2425, 2427: 2426, 2428: 2427, 2429: 2428, 2430: 2429, 2431: 2430, 2432: 2431, 2433: 2432, 2434: 2433, 2435: 2434, 2436: 2435, 2437: 2436, 2438: 2437, 2439: 2438, 2440: 2439, 2441: 2440, 2442: 2441, 2443: 2442, 2444: 2443, 2445: 2444, 2446: 2445, 2447: 2446, 2448: 2447, 2449: 2448, 2450: 2449, 2451: 2450, 2452: 2451, 2453: 2452, 2454: 2453, 2455: 2454, 2456: 2455, 2457: 2456, 2458: 2457, 2459: 2458, 2460: 2459, 2461: 2460, 2462: 2461, 2463: 2462, 2464: 2463, 2465: 2464, 2466: 2465, 2467: 2466, 2468: 2467, 2469: 2468, 2470: 2469, 2471: 2470, 2472: 2471, 2473: 2472, 2474: 2473, 2475: 2474, 2476: 2475, 2477: 2476, 2478: 2477, 2479: 2478, 2480: 2479, 2481: 2480, 2482: 2481, 2483: 2482, 2484: 2483, 2485: 2484, 2486: 2485, 2487: 2486, 2488: 2487, 2489: 2488, 2490: 2489, 2491: 2490, 2492: 2491, 2493: 2492, 2494: 2493, 2495: 2494, 2496: 2495, 2497: 2496, 2498: 2497, 2499: 2498, 2500: 2499, 2501: 2500, 2502: 2501, 2503: 2502, 2504: 2503, 2505: 2504, 2506: 2505, 2507: 2506, 2508: 2507, 2509: 2508, 2510: 2509, 2511: 2510, 2512: 2511, 2513: 2512, 2514: 2513, 2515: 2514, 2516: 2515, 2517: 2516, 2518: 2517, 2519: 2518, 2520: 2519, 2521: 2520, 2522: 2521, 2523: 2522, 2524: 2523, 2525: 2524, 2526: 2525, 2527: 2526, 2528: 2527, 2529: 2528, 2530: 2529, 2531: 2530, 2532: 2531, 2533: 2532, 2534: 2533, 2535: 2534, 2536: 2535, 2537: 2536, 2538: 2537, 2539: 2538, 2540: 2539, 2541: 2540, 2542: 2541, 2543: 2542, 2544: 2543, 2545: 2544, 2546: 2545, 2547: 2546, 2548: 2547, 2549: 2548, 2550: 2549, 2551: 2550, 2552: 2551, 2553: 2552, 2554: 2553, 2555: 2554, 2556: 2555, 2557: 2556, 2558: 2557, 2559: 2558, 2560: 2559, 2561: 2560, 2562: 2561, 2563: 2562, 2564: 2563, 2565: 2564, 2566: 2565, 2567: 2566, 2568: 2567, 2569: 2568, 2570: 2569, 2571: 2570, 2572: 2571, 2573: 2572, 2574: 2573, 2575: 2574, 2576: 2575, 2577: 2576, 2578: 2577, 2579: 2578, 2580: 2579, 2581: 2580, 2582: 2581, 2583: 2582, 2584: 2583, 2585: 2584, 2586: 2585, 2587: 2586, 2588: 2587, 2589: 2588, 2590: 2589, 2591: 2590, 2592: 2591, 2593: 2592, 2594: 2593, 2595: 2594, 2596: 2595, 2597: 2596, 2598: 2597, 2599: 2598, 2600: 2599, 2601: 2600, 2602: 2601, 2603: 2602, 2604: 2603, 2605: 2604, 2606: 2605, 2607: 2606, 2608: 2607, 2609: 2608, 2610: 2609, 2611: 2610, 2612: 2611, 2613: 2612, 2614: 2613, 2615: 2614, 2616: 2615, 2617: 2616, 2618: 2617, 2619: 2618, 2620: 2619, 2621: 2620, 2622: 2621, 2623: 2622, 2624: 2623, 2625: 2624, 2626: 2625, 2627: 2626, 2628: 2627, 2629: 2628, 2630: 2629, 2631: 2630, 2632: 2631, 2633: 2632, 2634: 2633, 2635: 2634, 2636: 2635, 2637: 2636, 2638: 2637, 2639: 2638, 2640: 2639, 2641: 2640, 2642: 2641, 2643: 2642, 2644: 2643, 2645: 2644, 2646: 2645, 2647: 2646, 2648: 2647, 2649: 2648, 2650: 2649, 2651: 2650, 2652: 2651, 2653: 2652, 2654: 2653, 2655: 2654, 2656: 2655, 2657: 2656, 2658: 2657, 2659: 2658, 2660: 2659, 2661: 2660, 2662: 2661, 2663: 2662, 2664: 2663, 2665: 2664, 2666: 2665, 2667: 2666, 2668: 2667, 2669: 2668, 2670: 2669, 2671: 2670, 2672: 2671, 2673: 2672, 2674: 2673, 2675: 2674, 2676: 2675, 2677: 2676, 2678: 2677, 2679: 2678, 2680: 2679, 2681: 2680, 2682: 2681, 2683: 2682, 2684: 2683, 2685: 2684, 2686: 2685, 2687: 2686, 2688: 2687, 2689: 2688, 2690: 2689, 2691: 2690, 2692: 2691, 2693: 2692, 2694: 2693, 2695: 2694, 2696: 2695, 2697: 2696, 2698: 2697, 2699: 2698, 2700: 2699, 2701: 2700, 2702: 2701, 2703: 2702, 2704: 2703, 2705: 2704, 2706: 2705, 2707: 2706, 2708: 2707, 2709: 2708, 2710: 2709, 2711: 2710, 2712: 2711, 2713: 2712, 2714: 2713, 2715: 2714, 2716: 2715, 2717: 2716, 2718: 2717, 2719: 2718, 2720: 2719, 2721: 2720, 2722: 2721, 2723: 2722, 2724: 2723, 2725: 2724, 2726: 2725, 2727: 2726, 2728: 2727, 2729: 2728, 2730: 2729, 2731: 2730, 2732: 2731, 2733: 2732, 2734: 2733, 2735: 2734, 2736: 2735, 2737: 2736, 2738: 2737, 2739: 2738, 2740: 2739, 2741: 2740, 2742: 2741, 2743: 2742, 2744: 2743, 2745: 2744, 2746: 2745, 2747: 2746, 2748: 2747, 2749: 2748, 2750: 2749, 2751: 2750, 2752: 2751, 2753: 2752, 2754: 2753, 2755: 2754, 2756: 2755, 2757: 2756, 2758: 2757, 2759: 2758, 2760: 2759, 2761: 2760, 2762: 2761, 2763: 2762, 2764: 2763, 2765: 2764, 2766: 2765, 2767: 2766, 2768: 2767, 2769: 2768, 2770: 2769, 2771: 2770, 2772: 2771, 2773: 2772, 2774: 2773, 2775: 2774, 2776: 2775, 2777: 2776, 2778: 2777, 2779: 2778, 2780: 2779, 2781: 2780, 2782: 2781, 2783: 2782, 2784: 2783, 2785: 2784, 2786: 2785, 2787: 2786, 2788: 2787, 2789: 2788, 2790: 2789, 2791: 2790, 2792: 2791, 2793: 2792, 2794: 2793, 2795: 2794, 2796: 2795, 2797: 2796, 2798: 2797, 2799: 2798, 2800: 2799, 2801: 2800, 2802: 2801, 2803: 2802, 2804: 2803, 2805: 2804, 2806: 2805, 2807: 2806, 2808: 2807, 2809: 2808, 2810: 2809, 2811: 2810, 2812: 2811, 2813: 2812, 2814: 2813, 2815: 2814, 2816: 2815, 2817: 2816, 2818: 2817, 2819: 2818, 2820: 2819, 2821: 2820, 2822: 2821, 2823: 2822, 2824: 2823, 2825: 2824, 2826: 2825, 2827: 2826, 2828: 2827, 2829: 2828, 2830: 2829, 2831: 2830, 2832: 2831, 2833: 2832, 2834: 2833, 2835: 2834, 2836: 2835, 2837: 2836, 2838: 2837, 2839: 2838, 2840: 2839, 2841: 2840, 2842: 2841, 2843: 2842, 2844: 2843, 2845: 2844, 2846: 2845, 2847: 2846, 2848: 2847, 2849: 2848, 2850: 2849, 2851: 2850, 2852: 2851, 2853: 2852, 2854: 2853, 2855: 2854, 2856: 2855, 2857: 2856, 2858: 2857, 2859: 2858, 2860: 2859, 2861: 2860, 2862: 2861, 2863: 2862, 2864: 2863, 2865: 2864, 2866: 2865, 2867: 2866, 2868: 2867, 2869: 2868, 2870: 2869, 2871: 2870, 2872: 2871, 2873: 2872, 2874: 2873, 2875: 2874, 2876: 2875, 2877: 2876, 2878: 2877, 2879: 2878, 2880: 2879, 2881: 2880, 2882: 2881, 2883: 2882, 2884: 2883, 2885: 2884, 2886: 2885, 2887: 2886, 2888: 2887, 2889: 2888, 2890: 2889, 2891: 2890, 2892: 2891, 2893: 2892, 2894: 2893, 2895: 2894, 2896: 2895, 2897: 2896, 2898: 2897, 2899: 2898, 2900: 2899, 2901: 2900, 2902: 2901, 2903: 2902, 2904: 2903, 2905: 2904, 2906: 2905, 2907: 2906, 2908: 2907, 2909: 2908, 2910: 2909, 2911: 2910, 2912: 2911, 2913: 2912, 2914: 2913, 2915: 2914, 2916: 2915, 2917: 2916, 2918: 2917, 2919: 2918, 2920: 2919, 2921: 2920, 2922: 2921, 2923: 2922, 2924: 2923, 2925: 2924, 2926: 2925, 2927: 2926, 2928: 2927, 2929: 2928, 2930: 2929, 2931: 2930, 2932: 2931, 2933: 2932, 2934: 2933, 2935: 2934, 2936: 2935, 2937: 2936, 2938: 2937, 2939: 2938, 2940: 2939, 2941: 2940, 2942: 2941, 2943: 2942, 2944: 2943, 2945: 2944, 2946: 2945, 2947: 2946, 2948: 2947, 2949: 2948, 2950: 2949, 2951: 2950, 2952: 2951, 2953: 2952, 2954: 2953, 2955: 2954, 2956: 2955, 2957: 2956, 2958: 2957, 2959: 2958, 2960: 2959, 2961: 2960, 2962: 2961, 2963: 2962, 2964: 2963, 2965: 2964, 2966: 2965, 2967: 2966, 2968: 2967, 2969: 2968, 2970: 2969, 2971: 2970, 2972: 2971, 2973: 2972, 2974: 2973, 2975: 2974, 2976: 2975, 2977: 2976, 2978: 2977, 2979: 2978, 2980: 2979, 2981: 2980, 2982: 2981, 2983: 2982, 2984: 2983, 2985: 2984, 2986: 2985, 2987: 2986, 2988: 2987, 2989: 2988, 2990: 2989, 2991: 2990, 2992: 2991, 2993: 2992, 2994: 2993, 2995: 2994, 2996: 2995, 2997: 2996, 2998: 2997, 2999: 2998, 3000: 2999, 3001: 3000, 3002: 3001, 3003: 3002, 3004: 3003, 3005: 3004, 3006: 3005, 3007: 3006, 3008: 3007, 3009: 3008, 3010: 3009, 3011: 3010, 3012: 3011, 3013: 3012, 3014: 3013, 3015: 3014, 3016: 3015, 3017: 3016, 3018: 3017, 3019: 3018, 3020: 3019, 3021: 3020, 3022: 3021, 3023: 3022, 3024: 3023, 3025: 3024, 3026: 3025, 3027: 3026, 3028: 3027, 3029: 3028, 3030: 3029, 3031: 3030, 3032: 3031, 3033: 3032, 3034: 3033, 3035: 3034, 3036: 3035, 3037: 3036, 3038: 3037, 3039: 3038, 3040: 3039, 3041: 3040, 3042: 3041, 3043: 3042, 3044: 3043, 3045: 3044, 3046: 3045, 3047: 3046, 3048: 3047, 3049: 3048, 3050: 3049, 3051: 3050, 3052: 3051, 3053: 3052, 3054: 3053, 3055: 3054, 3056: 3055, 3057: 3056, 3058: 3057, 3059: 3058, 3060: 3059, 3061: 3060, 3062: 3061, 3063: 3062, 3064: 3063, 3065: 3064, 3066: 3065, 3067: 3066, 3068: 3067, 3069: 3068, 3070: 3069, 3071: 3070, 3072: 3071, 3073: 3072, 3074: 3073, 3075: 3074, 3076: 3075, 3077: 3076, 3078: 3077, 3079: 3078, 3080: 3079, 3081: 3080, 3082: 3081, 3083: 3082, 3084: 3083, 3085: 3084, 3086: 3085, 3087: 3086, 3088: 3087, 3089: 3088, 3090: 3089, 3091: 3090, 3092: 3091, 3093: 3092, 3094: 3093, 3095: 3094, 3096: 3095, 3097: 3096, 3098: 3097, 3099: 3098, 3100: 3099, 3101: 3100, 3102: 3101, 3103: 3102, 3104: 3103, 3105: 3104, 3106: 3105, 3107: 3106, 3108: 3107, 3109: 3108, 3110: 3109, 3111: 3110, 3112: 3111, 3113: 3112, 3114: 3113, 3115: 3114, 3116: 3115, 3117: 3116, 3118: 3117, 3119: 3118, 3120: 3119, 3121: 3120, 3122: 3121, 3123: 3122, 3124: 3123, 3125: 3124, 3126: 3125, 3127: 3126, 3128: 3127, 3129: 3128, 3130: 3129, 3131: 3130, 3132: 3131, 3133: 3132, 3134: 3133, 3135: 3134, 3136: 3135, 3137: 3136, 3138: 3137, 3139: 3138, 3140: 3139, 3141: 3140, 3142: 3141, 3143: 3142, 3144: 3143, 3145: 3144, 3146: 3145, 3147: 3146, 3148: 3147, 3149: 3148, 3150: 3149, 3151: 3150, 3152: 3151, 3153: 3152, 3154: 3153, 3155: 3154, 3156: 3155, 3157: 3156, 3158: 3157, 3159: 3158, 3160: 3159, 3161: 3160, 3162: 3161, 3163: 3162, 3164: 3163, 3165: 3164, 3166: 3165, 3167: 3166, 3168: 3167, 3169: 3168, 3170: 3169, 3171: 3170, 3172: 3171, 3173: 3172, 3174: 3173, 3175: 3174, 3176: 3175, 3177: 3176, 3178: 3177, 3179: 3178, 3180: 3179, 3181: 3180, 3182: 3181, 3183: 3182, 3184: 3183, 3185: 3184, 3186: 3185, 3187: 3186, 3188: 3187, 3189: 3188, 3190: 3189, 3191: 3190, 3192: 3191, 3193: 3192, 3194: 3193, 3195: 3194, 3196: 3195, 3197: 3196, 3198: 3197, 3199: 3198, 3200: 3199, 3201: 3200, 3202: 3201, 3203: 3202, 3204: 3203, 3205: 3204, 3206: 3205, 3207: 3206, 3208: 3207, 3209: 3208, 3210: 3209, 3211: 3210, 3212: 3211, 3213: 3212, 3214: 3213, 3215: 3214, 3216: 3215, 3217: 3216, 3218: 3217, 3219: 3218, 3220: 3219, 3221: 3220, 3222: 3221, 3223: 3222, 3224: 3223, 3225: 3224, 3226: 3225, 3227: 3226, 3228: 3227, 3229: 3228, 3230: 3229, 3231: 3230, 3232: 3231, 3233: 3232, 3234: 3233, 3235: 3234, 3236: 3235, 3237: 3236, 3238: 3237, 3239: 3238, 3240: 3239, 3241: 3240, 3242: 3241, 3243: 3242, 3244: 3243, 3245: 3244, 3246: 3245, 3247: 3246, 3248: 3247, 3249: 3248, 3250: 3249, 3251: 3250, 3252: 3251, 3253: 3252, 3254: 3253, 3255: 3254, 3256: 3255, 3257: 3256, 3258: 3257, 3259: 3258, 3260: 3259, 3261: 3260, 3262: 3261, 3263: 3262, 3264: 3263, 3265: 3264, 3266: 3265, 3267: 3266, 3268: 3267, 3269: 3268, 3270: 3269, 3271: 3270, 3272: 3271, 3273: 3272, 3274: 3273, 3275: 3274, 3276: 3275, 3277: 3276, 3278: 3277, 3279: 3278, 3280: 3279, 3281: 3280, 3282: 3281, 3283: 3282, 3284: 3283, 3285: 3284, 3286: 3285, 3287: 3286, 3288: 3287, 3289: 3288, 3290: 3289, 3291: 3290, 3292: 3291, 3293: 3292, 3294: 3293, 3295: 3294, 3296: 3295, 3297: 3296, 3298: 3297, 3299: 3298, 3300: 3299, 3301: 3300, 3302: 3301, 3303: 3302, 3304: 3303, 3305: 3304, 3306: 3305, 3307: 3306, 3308: 3307, 3309: 3308, 3310: 3309, 3311: 3310, 3312: 3311, 3313: 3312, 3314: 3313, 3315: 3314, 3316: 3315, 3317: 3316, 3318: 3317, 3319: 3318, 3320: 3319, 3321: 3320, 3322: 3321, 3323: 3322, 3324: 3323, 3325: 3324, 3326: 3325, 3327: 3326, 3328: 3327, 3329: 3328, 3330: 3329, 3331: 3330, 3332: 3331, 3333: 3332, 3334: 3333, 3335: 3334, 3336: 3335, 3337: 3336, 3338: 3337, 3339: 3338, 3340: 3339, 3341: 3340, 3342: 3341, 3343: 3342, 3344: 3343, 3345: 3344, 3346: 3345, 3347: 3346, 3348: 3347, 3349: 3348, 3350: 3349, 3351: 3350, 3352: 3351, 3353: 3352, 3354: 3353, 3355: 3354, 3356: 3355, 3357: 3356, 3358: 3357, 3359: 3358, 3360: 3359, 3361: 3360, 3362: 3361, 3363: 3362, 3364: 3363, 3365: 3364, 3366: 3365, 3367: 3366, 3368: 3367, 3369: 3368, 3370: 3369, 3371: 3370, 3372: 3371, 3373: 3372, 3374: 3373, 3375: 3374, 3376: 3375, 3377: 3376, 3378: 3377, 3379: 3378, 3380: 3379, 3381: 3380, 3382: 3381, 3383: 3382, 3384: 3383, 3385: 3384, 3386: 3385, 3387: 3386, 3388: 3387, 3389: 3388, 3390: 3389, 3391: 3390, 3392: 3391, 3393: 3392, 3394: 3393, 3395: 3394, 3396: 3395, 3397: 3396, 3398: 3397, 3399: 3398, 3400: 3399, 3401: 3400, 3402: 3401, 3403: 3402, 3404: 3403, 3405: 3404, 3406: 3405, 3407: 3406, 3408: 3407, 3409: 3408, 3410: 3409, 3411: 3410, 3412: 3411, 3413: 3412, 3414: 3413, 3415: 3414, 3416: 3415, 3417: 3416, 3418: 3417, 3419: 3418, 3420: 3419, 3421: 3420, 3422: 3421, 3423: 3422, 3424: 3423, 3425: 3424, 3426: 3425, 3427: 3426, 3428: 3427, 3429: 3428, 3430: 3429, 3431: 3430, 3432: 3431, 3433: 3432, 3434: 3433, 3435: 3434, 3436: 3435, 3437: 3436, 3438: 3437, 3439: 3438, 3440: 3439, 3441: 3440, 3442: 3441, 3443: 3442, 3444: 3443, 3445: 3444, 3446: 3445, 3447: 3446, 3448: 3447, 3449: 3448, 3450: 3449, 3451: 3450, 3452: 3451, 3453: 3452, 3454: 3453, 3455: 3454, 3456: 3455, 3457: 3456, 3458: 3457, 3459: 3458, 3460: 3459, 3461: 3460, 3462: 3461, 3463: 3462, 3464: 3463, 3465: 3464, 3466: 3465, 3467: 3466, 3468: 3467, 3469: 3468, 3470: 3469, 3471: 3470, 3472: 3471, 3473: 3472, 3474: 3473, 3475: 3474, 3476: 3475, 3477: 3476, 3478: 3477, 3479: 3478, 3480: 3479, 3481: 3480, 3482: 3481, 3483: 3482, 3484: 3483, 3485: 3484, 3486: 3485, 3487: 3486, 3488: 3487, 3489: 3488, 3490: 3489, 3491: 3490, 3492: 3491, 3493: 3492, 3494: 3493, 3495: 3494, 3496: 3495, 3497: 3496, 3498: 3497, 3499: 3498, 3500: 3499, 3501: 3500, 3502: 3501, 3503: 3502, 3504: 3503, 3505: 3504, 3506: 3505, 3507: 3506, 3508: 3507, 3509: 3508, 3510: 3509, 3511: 3510, 3512: 3511, 3513: 3512, 3514: 3513, 3515: 3514, 3516: 3515, 3517: 3516, 3518: 3517, 3519: 3518, 3520: 3519, 3521: 3520, 3522: 3521, 3523: 3522, 3524: 3523, 3525: 3524, 3526: 3525, 3527: 3526, 3528: 3527, 3529: 3528, 3530: 3529, 3531: 3530, 3532: 3531, 3533: 3532, 3534: 3533, 3535: 3534, 3536: 3535, 3537: 3536, 3538: 3537, 3539: 3538, 3540: 3539, 3541: 3540, 3542: 3541, 3543: 3542, 3544: 3543, 3545: 3544, 3546: 3545, 3547: 3546, 3548: 3547, 3549: 3548, 3550: 3549, 3551: 3550, 3552: 3551, 3553: 3552, 3554: 3553, 3555: 3554, 3556: 3555, 3557: 3556, 3558: 3557, 3559: 3558, 3560: 3559, 3561: 3560, 3562: 3561, 3563: 3562, 3564: 3563, 3565: 3564, 3566: 3565, 3567: 3566, 3568: 3567, 3569: 3568, 3570: 3569, 3571: 3570, 3572: 3571, 3573: 3572, 3574: 3573, 3575: 3574, 3576: 3575, 3577: 3576, 3578: 3577, 3579: 3578, 3580: 3579, 3581: 3580, 3582: 3581, 3583: 3582, 3584: 3583, 3585: 3584, 3586: 3585, 3587: 3586, 3588: 3587, 3589: 3588, 3590: 3589, 3591: 3590, 3592: 3591, 3593: 3592, 3594: 3593, 3595: 3594, 3596: 3595, 3597: 3596, 3598: 3597, 3599: 3598, 3600: 3599, 3601: 3600, 3602: 3601, 3603: 3602, 3604: 3603, 3605: 3604, 3606: 3605, 3607: 3606, 3608: 3607, 3609: 3608, 3610: 3609, 3611: 3610, 3612: 3611, 3613: 3612, 3614: 3613, 3615: 3614, 3616: 3615, 3617: 3616, 3618: 3617, 3619: 3618, 3620: 3619, 3621: 3620, 3622: 3621, 3623: 3622, 3624: 3623, 3625: 3624, 3626: 3625, 3627: 3626, 3628: 3627, 3629: 3628, 3630: 3629, 3631: 3630, 3632: 3631, 3633: 3632, 3634: 3633, 3635: 3634, 3636: 3635, 3637: 3636, 3638: 3637, 3639: 3638, 3640: 3639, 3641: 3640, 3642: 3641, 3643: 3642, 3644: 3643, 3645: 3644, 3646: 3645, 3647: 3646, 3648: 3647, 3649: 3648, 3650: 3649, 3651: 3650, 3652: 3651, 3653: 3652, 3654: 3653, 3655: 3654, 3656: 3655, 3657: 3656, 3658: 3657, 3659: 3658, 3660: 3659, 3661: 3660, 3662: 3661, 3663: 3662, 3664: 3663, 3665: 3664, 3666: 3665, 3667: 3666, 3668: 3667, 3669: 3668, 3670: 3669, 3671: 3670, 3672: 3671, 3673: 3672, 3674: 3673, 3675: 3674, 3676: 3675, 3677: 3676, 3678: 3677, 3679: 3678, 3680: 3679, 3681: 3680, 3682: 3681, 3683: 3682, 3684: 3683, 3685: 3684, 3686: 3685, 3687: 3686, 3688: 3687, 3689: 3688, 3690: 3689, 3691: 3690, 3692: 3691, 3693: 3692, 3694: 3693, 3695: 3694, 3696: 3695, 3697: 3696, 3698: 3697, 3699: 3698, 3700: 3699, 3701: 3700, 3702: 3701, 3703: 3702, 3704: 3703, 3705: 3704, 3706: 3705, 3707: 3706, 3708: 3707, 3709: 3708, 3710: 3709, 3711: 3710, 3712: 3711, 3713: 3712, 3714: 3713, 3715: 3714, 3716: 3715, 3717: 3716, 3718: 3717, 3719: 3718, 3720: 3719, 3721: 3720, 3722: 3721, 3723: 3722, 3724: 3723, 3725: 3724, 3726: 3725, 3727: 3726, 3728: 3727, 3729: 3728, 3730: 3729, 3731: 3730, 3732: 3731, 3733: 3732, 3734: 3733, 3735: 3734, 3736: 3735, 3737: 3736, 3738: 3737, 3739: 3738, 3740: 3739, 3741: 3740, 3742: 3741, 3743: 3742, 3744: 3743, 3745: 3744, 3746: 3745, 3747: 3746, 3748: 3747, 3749: 3748, 3750: 3749, 3751: 3750, 3752: 3751, 3753: 3752, 3754: 3753, 3755: 3754, 3756: 3755, 3757: 3756, 3758: 3757, 3759: 3758, 3760: 3759, 3761: 3760, 3762: 3761, 3763: 3762, 3764: 3763, 3765: 3764, 3766: 3765, 3767: 3766, 3768: 3767, 3769: 3768, 3770: 3769, 3771: 3770, 3772: 3771, 3773: 3772, 3774: 3773, 3775: 3774, 3776: 3775, 3777: 3776, 3778: 3777, 3779: 3778, 3780: 3779, 3781: 3780, 3782: 3781, 3783: 3782, 3784: 3783, 3785: 3784, 3786: 3785, 3787: 3786, 3788: 3787, 3789: 3788, 3790: 3789, 3791: 3790, 3792: 3791, 3793: 3792, 3794: 3793, 3795: 3794, 3796: 3795, 3797: 3796, 3798: 3797, 3799: 3798, 3800: 3799, 3801: 3800, 3802: 3801, 3803: 3802, 3804: 3803, 3805: 3804, 3806: 3805, 3807: 3806, 3808: 3807, 3809: 3808, 3810: 3809, 3811: 3810, 3812: 3811, 3813: 3812, 3814: 3813, 3815: 3814, 3816: 3815, 3817: 3816, 3818: 3817, 3819: 3818, 3820: 3819, 3821: 3820, 3822: 3821, 3823: 3822, 3824: 3823, 3825: 3824, 3826: 3825, 3827: 3826, 3828: 3827, 3829: 3828, 3830: 3829, 3831: 3830, 3832: 3831, 3833: 3832, 3834: 3833, 3835: 3834, 3836: 3835, 3837: 3836, 3838: 3837, 3839: 3838, 3840: 3839, 3841: 3840, 3842: 3841, 3843: 3842, 3844: 3843, 3845: 3844, 3846: 3845, 3847: 3846, 3848: 3847, 3849: 3848, 3850: 3849, 3851: 3850, 3852: 3851, 3853: 3852, 3854: 3853, 3855: 3854, 3856: 3855, 3857: 3856, 3858: 3857, 3859: 3858, 3860: 3859, 3861: 3860, 3862: 3861, 3863: 3862, 3864: 3863, 3865: 3864, 3866: 3865, 3867: 3866, 3868: 3867, 3869: 3868, 3870: 3869, 3871: 3870, 3872: 3871, 3873: 3872, 3874: 3873, 3875: 3874, 3876: 3875, 3877: 3876, 3878: 3877, 3879: 3878, 3880: 3879, 3881: 3880, 3882: 3881, 3883: 3882, 3884: 3883, 3885: 3884, 3886: 3885, 3887: 3886, 3888: 3887, 3889: 3888, 3890: 3889, 3891: 3890, 3892: 3891, 3893: 3892, 3894: 3893, 3895: 3894, 3896: 3895, 3897: 3896, 3898: 3897, 3899: 3898, 3900: 3899, 3901: 3900, 3902: 3901, 3903: 3902, 3904: 3903, 3905: 3904, 3906: 3905, 3907: 3906, 3908: 3907, 3909: 3908, 3910: 3909, 3911: 3910, 3912: 3911, 3913: 3912, 3914: 3913, 3915: 3914, 3916: 3915, 3917: 3916, 3918: 3917, 3919: 3918, 3920: 3919, 3921: 3920, 3922: 3921, 3923: 3922, 3924: 3923, 3925: 3924, 3926: 3925, 3927: 3926, 3928: 3927, 3929: 3928, 3930: 3929, 3931: 3930, 3932: 3931, 3933: 3932, 3934: 3933, 3935: 3934, 3936: 3935, 3937: 3936, 3938: 3937, 3939: 3938, 3940: 3939, 3941: 3940, 3942: 3941, 3943: 3942, 3944: 3943, 3945: 3944, 3946: 3945, 3947: 3946, 3948: 3947, 3949: 3948, 3950: 3949, 3951: 3950, 3952: 3951, 3953: 3952, 3954: 3953, 3955: 3954, 3956: 3955, 3957: 3956, 3958: 3957, 3959: 3958, 3960: 3959, 3961: 3960, 3962: 3961, 3963: 3962, 3964: 3963, 3965: 3964, 3966: 3965, 3967: 3966, 3968: 3967, 3969: 3968, 3970: 3969, 3971: 3970, 3972: 3971, 3973: 3972, 3974: 3973, 3975: 3974, 3976: 3975, 3977: 3976, 3978: 3977, 3979: 3978, 3980: 3979, 3981: 3980, 3982: 3981, 3983: 3982, 3984: 3983, 3985: 3984, 3986: 3985, 3987: 3986, 3988: 3987, 3989: 3988, 3990: 3989, 3991: 3990, 3992: 3991, 3993: 3992, 3994: 3993, 3995: 3994, 3996: 3995, 3997: 3996, 3998: 3997, 3999: 3998, 4000: 3999, 4001: 4000, 4002: 4001, 4003: 4002, 4004: 4003, 4005: 4004, 4006: 4005, 4007: 4006, 4008: 4007, 4009: 4008, 4010: 4009, 4011: 4010, 4012: 4011, 4013: 4012, 4014: 4013, 4015: 4014, 4016: 4015, 4017: 4016, 4018: 4017, 4019: 4018, 4020: 4019, 4021: 4020, 4022: 4021, 4023: 4022, 4024: 4023, 4025: 4024, 4026: 4025, 4027: 4026, 4028: 4027, 4029: 4028, 4030: 4029, 4031: 4030, 4032: 4031, 4033: 4032, 4034: 4033, 4035: 4034, 4036: 4035, 4037: 4036, 4038: 4037, 4039: 4038, 4040: 4039, 4041: 4040, 4042: 4041, 4043: 4042, 4044: 4043, 4045: 4044, 4046: 4045, 4047: 4046, 4048: 4047, 4049: 4048, 4050: 4049, 4051: 4050, 4052: 4051, 4053: 4052, 4054: 4053, 4055: 4054, 4056: 4055, 4057: 4056, 4058: 4057, 4059: 4058, 4060: 4059, 4061: 4060, 4062: 4061, 4063: 4062, 4064: 4063, 4065: 4064, 4066: 4065, 4067: 4066, 4068: 4067, 4069: 4068, 4070: 4069, 4071: 4070, 4072: 4071, 4073: 4072, 4074: 4073, 4075: 4074, 4076: 4075, 4077: 4076, 4078: 4077, 4079: 4078, 4080: 4079, 4081: 4080, 4082: 4081, 4083: 4082, 4084: 4083, 4085: 4084, 4086: 4085, 4087: 4086, 4088: 4087, 4089: 4088, 4090: 4089, 4091: 4090, 4092: 4091, 4093: 4092, 4094: 4093, 4095: 4094, 4096: 4095, 4097: 4096, 4098: 4097, 4099: 4098, 4100: 4099, 4101: 4100, 4102: 4101, 4103: 4102, 4104: 4103, 4105: 4104, 4106: 4105, 4107: 4106, 4108: 4107, 4109: 4108, 4110: 4109, 4111: 4110, 4112: 4111, 4113: 4112, 4114: 4113, 4115: 4114, 4116: 4115, 4117: 4116, 4118: 4117, 4119: 4118, 4120: 4119, 4121: 4120, 4122: 4121, 4123: 4122, 4124: 4123, 4125: 4124, 4126: 4125, 4127: 4126, 4128: 4127, 4129: 4128, 4130: 4129, 4131: 4130, 4132: 4131, 4133: 4132, 4134: 4133, 4135: 4134, 4136: 4135, 4137: 4136, 4138: 4137, 4139: 4138, 4140: 4139, 4141: 4140, 4142: 4141, 4143: 4142, 4144: 4143, 4145: 4144, 4146: 4145, 4147: 4146, 4148: 4147, 4149: 4148, 4150: 4149, 4151: 4150, 4152: 4151, 4153: 4152, 4154: 4153, 4155: 4154, 4156: 4155, 4157: 4156, 4158: 4157, 4159: 4158, 4160: 4159, 4161: 4160, 4162: 4161, 4163: 4162, 4164: 4163, 4165: 4164, 4166: 4165, 4167: 4166, 4168: 4167, 4169: 4168, 4170: 4169, 4171: 4170, 4172: 4171, 4173: 4172, 4174: 4173, 4175: 4174, 4176: 4175, 4177: 4176, 4178: 4177, 4179: 4178, 4180: 4179, 4181: 4180, 4182: 4181, 4183: 4182, 4184: 4183, 4185: 4184, 4186: 4185, 4187: 4186, 4188: 4187, 4189: 4188, 4190: 4189, 4191: 4190, 4192: 4191, 4193: 4192, 4194: 4193, 4195: 4194, 4196: 4195, 4197: 4196, 4198: 4197, 4199: 4198, 4200: 4199, 4201: 4200, 4202: 4201, 4203: 4202, 4204: 4203, 4205: 4204, 4206: 4205, 4207: 4206, 4208: 4207, 4209: 4208, 4210: 4209, 4211: 4210, 4212: 4211, 4213: 4212, 4214: 4213, 4215: 4214, 4216: 4215, 4217: 4216, 4218: 4217, 4219: 4218, 4220: 4219, 4221: 4220, 4222: 4221, 4223: 4222, 4224: 4223, 4225: 4224, 4226: 4225, 4227: 4226, 4228: 4227, 4229: 4228, 4230: 4229, 4231: 4230, 4232: 4231, 4233: 4232, 4234: 4233, 4235: 4234, 4236: 4235, 4237: 4236, 4238: 4237, 4239: 4238, 4240: 4239, 4241: 4240, 4242: 4241, 4243: 4242, 4244: 4243, 4245: 4244, 4246: 4245, 4247: 4246, 4248: 4247, 4249: 4248, 4250: 4249, 4251: 4250, 4252: 4251, 4253: 4252, 4254: 4253, 4255: 4254, 4256: 4255, 4257: 4256, 4258: 4257, 4259: 4258, 4260: 4259, 4261: 4260, 4262: 4261, 4263: 4262, 4264: 4263, 4265: 4264, 4266: 4265, 4267: 4266, 4268: 4267, 4269: 4268, 4270: 4269, 4271: 4270, 4272: 4271, 4273: 4272, 4274: 4273, 4275: 4274, 4276: 4275, 4277: 4276, 4278: 4277, 4279: 4278, 4280: 4279, 4281: 4280, 4282: 4281, 4283: 4282, 4284: 4283, 4285: 4284, 4286: 4285, 4287: 4286, 4288: 4287, 4289: 4288, 4290: 4289, 4291: 4290, 4292: 4291, 4293: 4292, 4294: 4293, 4295: 4294, 4296: 4295, 4297: 4296, 4298: 4297, 4299: 4298, 4300: 4299, 4301: 4300, 4302: 4301, 4303: 4302, 4304: 4303, 4305: 4304, 4306: 4305, 4307: 4306, 4308: 4307, 4309: 4308, 4310: 4309, 4311: 4310, 4312: 4311, 4313: 4312, 4314: 4313, 4315: 4314, 4316: 4315, 4317: 4316, 4318: 4317, 4319: 4318, 4320: 4319, 4321: 4320, 4322: 4321, 4323: 4322, 4324: 4323, 4325: 4324, 4326: 4325, 4327: 4326, 4328: 4327, 4329: 4328, 4330: 4329, 4331: 4330, 4332: 4331, 4333: 4332, 4334: 4333, 4335: 4334, 4336: 4335, 4337: 4336, 4338: 4337, 4339: 4338, 4340: 4339, 4341: 4340, 4342: 4341, 4343: 4342, 4344: 4343, 4345: 4344, 4346: 4345, 4347: 4346, 4348: 4347, 4349: 4348, 4350: 4349, 4351: 4350, 4352: 4351, 4353: 4352, 4354: 4353, 4355: 4354, 4356: 4355, 4357: 4356, 4358: 4357, 4359: 4358, 4360: 4359, 4361: 4360, 4362: 4361, 4363: 4362, 4364: 4363, 4365: 4364, 4366: 4365, 4367: 4366, 4368: 4367, 4369: 4368, 4370: 4369, 4371: 4370, 4372: 4371, 4373: 4372, 4374: 4373, 4375: 4374, 4376: 4375, 4377: 4376, 4378: 4377, 4379: 4378, 4380: 4379, 4381: 4380, 4382: 4381, 4383: 4382, 4384: 4383, 4385: 4384, 4386: 4385, 4387: 4386, 4388: 4387, 4389: 4388, 4390: 4389, 4391: 4390, 4392: 4391, 4393: 4392, 4394: 4393, 4395: 4394, 4396: 4395, 4397: 4396, 4398: 4397, 4399: 4398, 4400: 4399, 4401: 4400, 4402: 4401, 4403: 4402, 4404: 4403, 4405: 4404, 4406: 4405, 4407: 4406, 4408: 4407, 4409: 4408, 4410: 4409, 4411: 4410, 4412: 4411, 4413: 4412, 4414: 4413, 4415: 4414, 4416: 4415, 4417: 4416, 4418: 4417, 4419: 4418, 4420: 4419, 4421: 4420, 4422: 4421, 4423: 4422, 4424: 4423, 4425: 4424, 4426: 4425, 4427: 4426, 4428: 4427, 4429: 4428, 4430: 4429, 4431: 4430, 4432: 4431, 4433: 4432, 4434: 4433, 4435: 4434, 4436: 4435, 4437: 4436, 4438: 4437, 4439: 4438, 4440: 4439, 4441: 4440, 4442: 4441, 4443: 4442, 4444: 4443, 4445: 4444, 4446: 4445, 4447: 4446, 4448: 4447, 4449: 4448, 4450: 4449, 4451: 4450, 4452: 4451, 4453: 4452, 4454: 4453, 4455: 4454, 4456: 4455, 4457: 4456, 4458: 4457, 4459: 4458, 4460: 4459, 4461: 4460, 4462: 4461, 4463: 4462, 4464: 4463, 4465: 4464, 4466: 4465, 4467: 4466, 4468: 4467, 4469: 4468, 4470: 4469, 4471: 4470, 4472: 4471, 4473: 4472, 4474: 4473, 4475: 4474, 4476: 4475, 4477: 4476, 4478: 4477, 4479: 4478, 4480: 4479, 4481: 4480, 4482: 4481, 4483: 4482, 4484: 4483, 4485: 4484, 4486: 4485, 4487: 4486, 4488: 4487, 4489: 4488, 4490: 4489, 4491: 4490, 4492: 4491, 4493: 4492, 4494: 4493, 4495: 4494, 4496: 4495, 4497: 4496, 4498: 4497, 4499: 4498, 4500: 4499, 4501: 4500, 4502: 4501, 4503: 4502, 4504: 4503, 4505: 4504, 4506: 4505, 4507: 4506, 4508: 4507, 4509: 4508, 4510: 4509, 4511: 4510, 4512: 4511, 4513: 4512, 4514: 4513, 4515: 4514, 4516: 4515, 4517: 4516, 4518: 4517, 4519: 4518, 4520: 4519, 4521: 4520, 4522: 4521, 4523: 4522, 4524: 4523, 4525: 4524, 4526: 4525, 4527: 4526, 4528: 4527, 4529: 4528, 4530: 4529, 4531: 4530, 4532: 4531, 4533: 4532, 4534: 4533, 4535: 4534, 4536: 4535, 4537: 4536, 4538: 4537, 4539: 4538, 4540: 4539, 4541: 4540, 4542: 4541, 4543: 4542, 4544: 4543, 4545: 4544, 4546: 4545, 4547: 4546, 4548: 4547, 4549: 4548, 4550: 4549, 4551: 4550, 4552: 4551, 4553: 4552, 4554: 4553, 4555: 4554, 4556: 4555, 4557: 4556, 4558: 4557, 4559: 4558, 4560: 4559, 4561: 4560, 4562: 4561, 4563: 4562, 4564: 4563, 4565: 4564, 4566: 4565, 4567: 4566, 4568: 4567, 4569: 4568, 4570: 4569, 4571: 4570, 4572: 4571, 4573: 4572, 4574: 4573, 4575: 4574, 4576: 4575, 4577: 4576, 4578: 4577, 4579: 4578, 4580: 4579, 4581: 4580, 4582: 4581, 4583: 4582, 4584: 4583, 4585: 4584, 4586: 4585, 4587: 4586, 4588: 4587, 4589: 4588, 4590: 4589, 4591: 4590, 4592: 4591, 4593: 4592, 4594: 4593, 4595: 4594, 4596: 4595, 4597: 4596, 4598: 4597, 4599: 4598, 4600: 4599, 4601: 4600, 4602: 4601, 4603: 4602, 4604: 4603, 4605: 4604, 4606: 4605, 4607: 4606, 4608: 4607, 4609: 4608, 4610: 4609, 4611: 4610, 4612: 4611, 4613: 4612, 4614: 4613, 4615: 4614, 4616: 4615, 4617: 4616, 4618: 4617, 4619: 4618, 4620: 4619, 4621: 4620, 4622: 4621, 4623: 4622, 4624: 4623, 4625: 4624, 4626: 4625, 4627: 4626, 4628: 4627, 4629: 4628, 4630: 4629, 4631: 4630, 4632: 4631, 4633: 4632, 4634: 4633, 4635: 4634, 4636: 4635, 4637: 4636, 4638: 4637, 4639: 4638, 4640: 4639, 4641: 4640, 4642: 4641, 4643: 4642, 4644: 4643, 4645: 4644, 4646: 4645, 4647: 4646, 4648: 4647, 4649: 4648, 4650: 4649, 4651: 4650, 4652: 4651, 4653: 4652, 4654: 4653, 4655: 4654, 4656: 4655, 4657: 4656, 4658: 4657, 4659: 4658, 4660: 4659, 4661: 4660, 4662: 4661, 4663: 4662, 4664: 4663, 4665: 4664, 4666: 4665, 4667: 4666, 4668: 4667, 4669: 4668, 4670: 4669, 4671: 4670, 4672: 4671, 4673: 4672, 4674: 4673, 4675: 4674, 4676: 4675, 4677: 4676, 4678: 4677, 4679: 4678, 4680: 4679, 4681: 4680, 4682: 4681, 4683: 4682, 4684: 4683, 4685: 4684, 4686: 4685, 4687: 4686, 4688: 4687, 4689: 4688, 4690: 4689, 4691: 4690, 4692: 4691, 4693: 4692, 4694: 4693, 4695: 4694, 4696: 4695, 4697: 4696, 4698: 4697, 4699: 4698, 4700: 4699, 4701: 4700, 4702: 4701, 4703: 4702, 4704: 4703, 4705: 4704, 4706: 4705, 4707: 4706, 4708: 4707, 4709: 4708, 4710: 4709, 4711: 4710, 4712: 4711, 4713: 4712, 4714: 4713, 4715: 4714, 4716: 4715, 4717: 4716, 4718: 4717, 4719: 4718, 4720: 4719, 4721: 4720, 4722: 4721, 4723: 4722, 4724: 4723, 4725: 4724, 4726: 4725, 4727: 4726, 4728: 4727, 4729: 4728, 4730: 4729, 4731: 4730, 4732: 4731, 4733: 4732, 4734: 4733, 4735: 4734, 4736: 4735, 4737: 4736, 4738: 4737, 4739: 4738, 4740: 4739, 4741: 4740, 4742: 4741, 4743: 4742, 4744: 4743, 4745: 4744, 4746: 4745, 4747: 4746, 4748: 4747, 4749: 4748, 4750: 4749, 4751: 4750, 4752: 4751, 4753: 4752, 4754: 4753, 4755: 4754, 4756: 4755, 4757: 4756, 4758: 4757, 4759: 4758, 4760: 4759, 4761: 4760, 4762: 4761, 4763: 4762, 4764: 4763, 4765: 4764, 4766: 4765, 4767: 4766, 4768: 4767, 4769: 4768, 4770: 4769, 4771: 4770, 4772: 4771, 4773: 4772, 4774: 4773, 4775: 4774, 4776: 4775, 4777: 4776, 4778: 4777, 4779: 4778, 4780: 4779, 4781: 4780, 4782: 4781, 4783: 4782, 4784: 4783, 4785: 4784, 4786: 4785, 4787: 4786, 4788: 4787, 4789: 4788, 4790: 4789, 4791: 4790, 4792: 4791, 4793: 4792, 4794: 4793, 4795: 4794, 4796: 4795, 4797: 4796, 4798: 4797, 4799: 4798, 4800: 4799, 4801: 4800, 4802: 4801, 4803: 4802, 4804: 4803, 4805: 4804, 4806: 4805, 4807: 4806, 4808: 4807, 4809: 4808, 4810: 4809, 4811: 4810, 4812: 4811, 4813: 4812, 4814: 4813, 4815: 4814, 4816: 4815, 4817: 4816, 4818: 4817, 4819: 4818, 4820: 4819, 4821: 4820, 4822: 4821, 4823: 4822, 4824: 4823, 4825: 4824, 4826: 4825, 4827: 4826, 4828: 4827, 4829: 4828, 4830: 4829, 4831: 4830, 4832: 4831, 4833: 4832, 4834: 4833, 4835: 4834, 4836: 4835, 4837: 4836, 4838: 4837, 4839: 4838, 4840: 4839, 4841: 4840, 4842: 4841, 4843: 4842, 4844: 4843, 4845: 4844, 4846: 4845, 4847: 4846, 4848: 4847, 4849: 4848, 4850: 4849, 4851: 4850, 4852: 4851, 4853: 4852, 4854: 4853, 4855: 4854, 4856: 4855, 4857: 4856, 4858: 4857, 4859: 4858, 4860: 4859, 4861: 4860, 4862: 4861, 4863: 4862, 4864: 4863, 4865: 4864, 4866: 4865, 4867: 4866, 4868: 4867, 4869: 4868, 4870: 4869, 4871: 4870, 4872: 4871, 4873: 4872, 4874: 4873, 4875: 4874, 4876: 4875, 4877: 4876, 4878: 4877, 4879: 4878, 4880: 4879, 4881: 4880, 4882: 4881, 4883: 4882, 4884: 4883, 4885: 4884, 4886: 4885, 4887: 4886, 4888: 4887, 4889: 4888, 4890: 4889, 4891: 4890, 4892: 4891, 4893: 4892, 4894: 4893, 4895: 4894, 4896: 4895, 4897: 4896, 4898: 4897, 4899: 4898, 4900: 4899, 4901: 4900, 4902: 4901, 4903: 4902, 4904: 4903, 4905: 4904, 4906: 4905, 4907: 4906, 4908: 4907, 4909: 4908, 4910: 4909, 4911: 4910, 4912: 4911, 4913: 4912, 4914: 4913, 4915: 4914, 4916: 4915, 4917: 4916, 4918: 4917, 4919: 4918, 4920: 4919, 4921: 4920, 4922: 4921, 4923: 4922, 4924: 4923, 4925: 4924, 4926: 4925, 4927: 4926, 4928: 4927, 4929: 4928, 4930: 4929, 4931: 4930, 4932: 4931, 4933: 4932, 4934: 4933, 4935: 4934, 4936: 4935, 4937: 4936, 4938: 4937, 4939: 4938, 4940: 4939, 4941: 4940, 4942: 4941, 4943: 4942, 4944: 4943, 4945: 4944, 4946: 4945, 4947: 4946, 4948: 4947, 4949: 4948, 4950: 4949, 4951: 4950, 4952: 4951, 4953: 4952, 4954: 4953, 4955: 4954, 4956: 4955, 4957: 4956, 4958: 4957, 4959: 4958, 4960: 4959, 4961: 4960, 4962: 4961, 4963: 4962, 4964: 4963, 4965: 4964, 4966: 4965, 4967: 4966, 4968: 4967, 4969: 4968, 4970: 4969, 4971: 4970, 4972: 4971, 4973: 4972, 4974: 4973, 4975: 4974, 4976: 4975, 4977: 4976, 4978: 4977, 4979: 4978, 4980: 4979, 4981: 4980, 4982: 4981, 4983: 4982, 4984: 4983, 4985: 4984, 4986: 4985, 4987: 4986, 4988: 4987, 4989: 4988, 4990: 4989, 4991: 4990, 4992: 4991, 4993: 4992, 4994: 4993, 4995: 4994, 4996: 4995, 4997: 4996, 4998: 4997, 4999: 4998, 5000: 4999, 5001: 5000, 5002: 5001, 5003: 5002, 5004: 5003, 5005: 5004, 5006: 5005, 5007: 5006, 5008: 5007, 5009: 5008, 5010: 5009, 5011: 5010, 5012: 5011, 5013: 5012, 5014: 5013, 5015: 5014, 5016: 5015, 5017: 5016, 5018: 5017, 5019: 5018, 5020: 5019, 5021: 5020, 5022: 5021, 5023: 5022, 5024: 5023, 5025: 5024, 5026: 5025, 5027: 5026, 5028: 5027, 5029: 5028, 5030: 5029, 5031: 5030, 5032: 5031, 5033: 5032, 5034: 5033, 5035: 5034, 5036: 5035, 5037: 5036, 5038: 5037, 5039: 5038, 5040: 5039, 5041: 5040, 5042: 5041, 5043: 5042, 5044: 5043, 5045: 5044, 5046: 5045, 5047: 5046, 5048: 5047, 5049: 5048, 5050: 5049, 5051: 5050, 5052: 5051, 5053: 5052, 5054: 5053, 5055: 5054, 5056: 5055, 5057: 5056, 5058: 5057, 5059: 5058, 5060: 5059, 5061: 5060, 5062: 5061, 5063: 5062, 5064: 5063, 5065: 5064, 5066: 5065, 5067: 5066, 5068: 5067, 5069: 5068, 5070: 5069, 5071: 5070, 5072: 5071, 5073: 5072, 5074: 5073, 5075: 5074, 5076: 5075, 5077: 5076, 5078: 5077, 5079: 5078, 5080: 5079, 5081: 5080, 5082: 5081, 5083: 5082, 5084: 5083, 5085: 5084, 5086: 5085, 5087: 5086, 5088: 5087, 5089: 5088, 5090: 5089, 5091: 5090, 5092: 5091, 5093: 5092, 5094: 5093, 5095: 5094, 5096: 5095, 5097: 5096, 5098: 5097, 5099: 5098, 5100: 5099, 5101: 5100, 5102: 5101, 5103: 5102, 5104: 5103, 5105: 5104, 5106: 5105, 5107: 5106, 5108: 5107, 5109: 5108, 5110: 5109, 5111: 5110, 5112: 5111, 5113: 5112, 5114: 5113, 5115: 5114, 5116: 5115, 5117: 5116, 5118: 5117, 5119: 5118, 5120: 5119, 5121: 5120, 5122: 5121, 5123: 5122, 5124: 5123, 5125: 5124, 5126: 5125, 5127: 5126, 5128: 5127, 5129: 5128, 5130: 5129, 5131: 5130, 5132: 5131, 5133: 5132, 5134: 5133, 5135: 5134, 5136: 5135, 5137: 5136, 5138: 5137, 5139: 5138, 5140: 5139, 5141: 5140, 5142: 5141, 5143: 5142, 5144: 5143, 5145: 5144, 5146: 5145, 5147: 5146, 5148: 5147, 5149: 5148, 5150: 5149, 5151: 5150, 5152: 5151, 5153: 5152, 5154: 5153, 5155: 5154, 5156: 5155, 5157: 5156, 5158: 5157, 5159: 5158, 5160: 5159, 5161: 5160, 5162: 5161, 5163: 5162, 5164: 5163, 5165: 5164, 5166: 5165, 5167: 5166, 5168: 5167, 5169: 5168, 5170: 5169, 5171: 5170, 5172: 5171, 5173: 5172, 5174: 5173, 5175: 5174, 5176: 5175, 5177: 5176, 5178: 5177, 5179: 5178, 5180: 5179, 5181: 5180, 5182: 5181, 5183: 5182, 5184: 5183, 5185: 5184, 5186: 5185, 5187: 5186, 5188: 5187, 5189: 5188, 5190: 5189, 5191: 5190, 5192: 5191, 5193: 5192, 5194: 5193, 5195: 5194, 5196: 5195, 5197: 5196, 5198: 5197, 5199: 5198, 5200: 5199, 5201: 5200, 5202: 5201, 5203: 5202, 5204: 5203, 5205: 5204, 5206: 5205, 5207: 5206, 5208: 5207, 5209: 5208, 5210: 5209, 5211: 5210, 5212: 5211, 5213: 5212, 5214: 5213, 5215: 5214, 5216: 5215, 5217: 5216, 5218: 5217, 5219: 5218, 5220: 5219, 5221: 5220, 5222: 5221, 5223: 5222, 5224: 5223, 5225: 5224, 5226: 5225, 5227: 5226, 5228: 5227, 5229: 5228, 5230: 5229, 5231: 5230, 5232: 5231, 5233: 5232, 5234: 5233, 5235: 5234, 5236: 5235, 5237: 5236, 5238: 5237, 5239: 5238, 5240: 5239, 5241: 5240, 5242: 5241, 5243: 5242, 5244: 5243, 5245: 5244, 5246: 5245, 5247: 5246, 5248: 5247, 5249: 5248, 5250: 5249, 5251: 5250, 5252: 5251, 5253: 5252, 5254: 5253, 5255: 5254, 5256: 5255, 5257: 5256, 5258: 5257, 5259: 5258, 5260: 5259, 5261: 5260, 5262: 5261, 5263: 5262, 5264: 5263, 5265: 5264, 5266: 5265, 5267: 5266, 5268: 5267, 5269: 5268, 5270: 5269, 5271: 5270, 5272: 5271, 5273: 5272, 5274: 5273, 5275: 5274, 5276: 5275, 5277: 5276, 5278: 5277, 5279: 5278, 5280: 5279, 5281: 5280, 5282: 5281, 5283: 5282, 5284: 5283, 5285: 5284, 5286: 5285, 5287: 5286, 5288: 5287, 5289: 5288, 5290: 5289, 5291: 5290, 5292: 5291, 5293: 5292, 5294: 5293, 5295: 5294, 5296: 5295, 5297: 5296, 5298: 5297, 5299: 5298, 5300: 5299, 5301: 5300, 5302: 5301, 5303: 5302, 5304: 5303, 5305: 5304, 5306: 5305, 5307: 5306, 5308: 5307, 5309: 5308, 5310: 5309, 5311: 5310, 5312: 5311, 5313: 5312, 5314: 5313, 5315: 5314, 5316: 5315, 5317: 5316, 5318: 5317, 5319: 5318, 5320: 5319, 5321: 5320, 5322: 5321, 5323: 5322, 5324: 5323, 5325: 5324, 5326: 5325, 5327: 5326, 5328: 5327, 5329: 5328, 5330: 5329, 5331: 5330, 5332: 5331, 5333: 5332, 5334: 5333, 5335: 5334, 5336: 5335, 5337: 5336, 5338: 5337, 5339: 5338, 5340: 5339, 5341: 5340, 5342: 5341, 5343: 5342, 5344: 5343, 5345: 5344, 5346: 5345, 5347: 5346, 5348: 5347, 5349: 5348, 5350: 5349, 5351: 5350, 5352: 5351, 5353: 5352, 5354: 5353, 5355: 5354, 5356: 5355, 5357: 5356, 5358: 5357, 5359: 5358, 5360: 5359, 5361: 5360, 5362: 5361, 5363: 5362, 5364: 5363, 5365: 5364, 5366: 5365, 5367: 5366, 5368: 5367, 5369: 5368, 5370: 5369, 5371: 5370, 5372: 5371, 5373: 5372, 5374: 5373, 5375: 5374, 5376: 5375, 5377: 5376, 5378: 5377, 5379: 5378, 5380: 5379, 5381: 5380, 5382: 5381, 5383: 5382, 5384: 5383, 5385: 5384, 5386: 5385, 5387: 5386, 5388: 5387, 5389: 5388, 5390: 5389, 5391: 5390, 5392: 5391, 5393: 5392, 5394: 5393, 5395: 5394, 5396: 5395, 5397: 5396, 5398: 5397, 5399: 5398, 5400: 5399, 5401: 5400, 5402: 5401, 5403: 5402, 5404: 5403, 5405: 5404, 5406: 5405, 5407: 5406, 5408: 5407, 5409: 5408, 5410: 5409, 5411: 5410, 5412: 5411, 5413: 5412, 5414: 5413, 5415: 5414, 5416: 5415, 5417: 5416, 5418: 5417, 5419: 5418, 5420: 5419, 5421: 5420, 5422: 5421, 5423: 5422, 5424: 5423, 5425: 5424, 5426: 5425, 5427: 5426, 5428: 5427, 5429: 5428, 5430: 5429, 5431: 5430, 5432: 5431, 5433: 5432, 5434: 5433, 5435: 5434, 5436: 5435, 5437: 5436, 5438: 5437, 5439: 5438, 5440: 5439, 5441: 5440, 5442: 5441, 5443: 5442, 5444: 5443, 5445: 5444, 5446: 5445, 5447: 5446, 5448: 5447, 5449: 5448, 5450: 5449, 5451: 5450, 5452: 5451, 5453: 5452, 5454: 5453, 5455: 5454, 5456: 5455, 5457: 5456, 5458: 5457, 5459: 5458, 5460: 5459, 5461: 5460, 5462: 5461, 5463: 5462, 5464: 5463, 5465: 5464, 5466: 5465, 5467: 5466, 5468: 5467, 5469: 5468, 5470: 5469, 5471: 5470, 5472: 5471, 5473: 5472, 5474: 5473, 5475: 5474, 5476: 5475, 5477: 5476, 5478: 5477, 5479: 5478, 5480: 5479, 5481: 5480, 5482: 5481, 5483: 5482, 5484: 5483, 5485: 5484, 5486: 5485, 5487: 5486, 5488: 5487, 5489: 5488, 5490: 5489, 5491: 5490, 5492: 5491, 5493: 5492, 5494: 5493, 5495: 5494, 5496: 5495, 5497: 5496, 5498: 5497, 5499: 5498, 5500: 5499, 5501: 5500, 5502: 5501, 5503: 5502, 5504: 5503, 5505: 5504, 5506: 5505, 5507: 5506, 5508: 5507, 5509: 5508, 5510: 5509, 5511: 5510, 5512: 5511, 5513: 5512, 5514: 5513, 5515: 5514, 5516: 5515, 5517: 5516, 5518: 5517, 5519: 5518, 5520: 5519, 5521: 5520, 5522: 5521, 5523: 5522, 5524: 5523, 5525: 5524, 5526: 5525, 5527: 5526, 5528: 5527, 5529: 5528, 5530: 5529, 5531: 5530, 5532: 5531, 5533: 5532, 5534: 5533, 5535: 5534, 5536: 5535, 5537: 5536, 5538: 5537, 5539: 5538, 5540: 5539, 5541: 5540, 5542: 5541, 5543: 5542, 5544: 5543, 5545: 5544, 5546: 5545, 5547: 5546, 5548: 5547, 5549: 5548, 5550: 5549, 5551: 5550, 5552: 5551, 5553: 5552, 5554: 5553, 5555: 5554, 5556: 5555, 5557: 5556, 5558: 5557, 5559: 5558, 5560: 5559, 5561: 5560, 5562: 5561, 5563: 5562, 5564: 5563, 5565: 5564, 5566: 5565, 5567: 5566, 5568: 5567, 5569: 5568, 5570: 5569, 5571: 5570, 5572: 5571, 5573: 5572, 5574: 5573, 5575: 5574, 5576: 5575, 5577: 5576, 5578: 5577, 5579: 5578, 5580: 5579, 5581: 5580, 5582: 5581, 5583: 5582, 5584: 5583, 5585: 5584, 5586: 5585, 5587: 5586, 5588: 5587, 5589: 5588, 5590: 5589, 5591: 5590, 5592: 5591, 5593: 5592, 5594: 5593, 5595: 5594, 5596: 5595, 5597: 5596, 5598: 5597, 5599: 5598, 5600: 5599, 5601: 5600, 5602: 5601, 5603: 5602, 5604: 5603, 5605: 5604, 5606: 5605, 5607: 5606, 5608: 5607, 5609: 5608, 5610: 5609, 5611: 5610, 5612: 5611, 5613: 5612, 5614: 5613, 5615: 5614, 5616: 5615, 5617: 5616, 5618: 5617, 5619: 5618, 5620: 5619, 5621: 5620, 5622: 5621, 5623: 5622, 5624: 5623, 5625: 5624, 5626: 5625, 5627: 5626, 5628: 5627, 5629: 5628, 5630: 5629, 5631: 5630, 5632: 5631, 5633: 5632, 5634: 5633, 5635: 5634, 5636: 5635, 5637: 5636, 5638: 5637, 5639: 5638, 5640: 5639, 5641: 5640, 5642: 5641, 5643: 5642, 5644: 5643, 5645: 5644, 5646: 5645, 5647: 5646, 5648: 5647, 5649: 5648, 5650: 5649, 5651: 5650, 5652: 5651, 5653: 5652, 5654: 5653, 5655: 5654, 5656: 5655, 5657: 5656, 5658: 5657, 5659: 5658, 5660: 5659, 5661: 5660, 5662: 5661, 5663: 5662, 5664: 5663, 5665: 5664, 5666: 5665, 5667: 5666, 5668: 5667, 5669: 5668, 5670: 5669, 5671: 5670, 5672: 5671, 5673: 5672, 5674: 5673, 5675: 5674, 5676: 5675, 5677: 5676, 5678: 5677, 5679: 5678, 5680: 5679, 5681: 5680, 5682: 5681, 5683: 5682, 5684: 5683, 5685: 5684, 5686: 5685, 5687: 5686, 5688: 5687, 5689: 5688, 5690: 5689, 5691: 5690, 5692: 5691, 5693: 5692, 5694: 5693, 5695: 5694, 5696: 5695, 5697: 5696, 5698: 5697, 5699: 5698, 5700: 5699, 5701: 5700, 5702: 5701, 5703: 5702, 5704: 5703, 5705: 5704, 5706: 5705, 5707: 5706, 5708: 5707, 5709: 5708, 5710: 5709, 5711: 5710, 5712: 5711, 5713: 5712, 5714: 5713, 5715: 5714, 5716: 5715, 5717: 5716, 5718: 5717, 5719: 5718, 5720: 5719, 5721: 5720, 5722: 5721, 5723: 5722, 5724: 5723, 5725: 5724, 5726: 5725, 5727: 5726, 5728: 5727, 5729: 5728, 5730: 5729, 5731: 5730, 5732: 5731, 5733: 5732, 5734: 5733, 5735: 5734, 5736: 5735, 5737: 5736, 5738: 5737, 5739: 5738, 5740: 5739, 5741: 5740, 5742: 5741, 5743: 5742, 5744: 5743, 5745: 5744, 5746: 5745, 5747: 5746, 5748: 5747, 5749: 5748, 5750: 5749, 5751: 5750, 5752: 5751, 5753: 5752, 5754: 5753, 5755: 5754, 5756: 5755, 5757: 5756, 5758: 5757, 5759: 5758, 5760: 5759, 5761: 5760, 5762: 5761, 5763: 5762, 5764: 5763, 5765: 5764, 5766: 5765, 5767: 5766, 5768: 5767, 5769: 5768, 5770: 5769, 5771: 5770, 5772: 5771, 5773: 5772, 5774: 5773, 5775: 5774, 5776: 5775, 5777: 5776, 5778: 5777, 5779: 5778, 5780: 5779, 5781: 5780, 5782: 5781, 5783: 5782, 5784: 5783, 5785: 5784, 5786: 5785, 5787: 5786, 5788: 5787, 5789: 5788, 5790: 5789, 5791: 5790, 5792: 5791, 5793: 5792, 5794: 5793, 5795: 5794, 5796: 5795, 5797: 5796, 5798: 5797, 5799: 5798, 5800: 5799, 5801: 5800, 5802: 5801, 5803: 5802, 5804: 5803, 5805: 5804, 5806: 5805, 5807: 5806, 5808: 5807, 5809: 5808, 5810: 5809, 5811: 5810, 5812: 5811, 5813: 5812, 5814: 5813, 5815: 5814, 5816: 5815, 5817: 5816, 5818: 5817, 5819: 5818, 5820: 5819, 5821: 5820, 5822: 5821, 5823: 5822, 5824: 5823, 5825: 5824, 5826: 5825, 5827: 5826, 5828: 5827, 5829: 5828, 5830: 5829, 5831: 5830, 5832: 5831, 5833: 5832, 5834: 5833, 5835: 5834, 5836: 5835, 5837: 5836, 5838: 5837, 5839: 5838, 5840: 5839, 5841: 5840, 5842: 5841, 5843: 5842, 5844: 5843, 5845: 5844, 5846: 5845, 5847: 5846, 5848: 5847, 5849: 5848, 5850: 5849, 5851: 5850, 5852: 5851, 5853: 5852, 5854: 5853, 5855: 5854, 5856: 5855, 5857: 5856, 5858: 5857, 5859: 5858, 5860: 5859, 5861: 5860, 5862: 5861, 5863: 5862, 5864: 5863, 5865: 5864, 5866: 5865, 5867: 5866, 5868: 5867, 5869: 5868, 5870: 5869, 5871: 5870, 5872: 5871, 5873: 5872, 5874: 5873, 5875: 5874, 5876: 5875, 5877: 5876, 5878: 5877, 5879: 5878, 5880: 5879, 5881: 5880, 5882: 5881, 5883: 5882, 5884: 5883, 5885: 5884, 5886: 5885, 5887: 5886, 5888: 5887, 5889: 5888, 5890: 5889, 5891: 5890, 5892: 5891, 5893: 5892, 5894: 5893, 5895: 5894, 5896: 5895, 5897: 5896, 5898: 5897, 5899: 5898, 5900: 5899, 5901: 5900, 5902: 5901, 5903: 5902, 5904: 5903, 5905: 5904, 5906: 5905, 5907: 5906, 5908: 5907, 5909: 5908, 5910: 5909, 5911: 5910, 5912: 5911, 5913: 5912, 5914: 5913, 5915: 5914, 5916: 5915, 5917: 5916, 5918: 5917, 5919: 5918, 5920: 5919, 5921: 5920, 5922: 5921, 5923: 5922, 5924: 5923, 5925: 5924, 5926: 5925, 5927: 5926, 5928: 5927, 5929: 5928, 5930: 5929, 5931: 5930, 5932: 5931, 5933: 5932, 5934: 5933, 5935: 5934, 5936: 5935, 5937: 5936, 5938: 5937, 5939: 5938, 5940: 5939, 5941: 5940, 5942: 5941, 5943: 5942, 5944: 5943, 5945: 5944, 5946: 5945, 5947: 5946, 5948: 5947, 5949: 5948, 5950: 5949, 5951: 5950, 5952: 5951, 5953: 5952, 5954: 5953, 5955: 5954, 5956: 5955, 5957: 5956, 5958: 5957, 5959: 5958, 5960: 5959, 5961: 5960, 5962: 5961, 5963: 5962, 5964: 5963, 5965: 5964, 5966: 5965, 5967: 5966, 5968: 5967, 5969: 5968, 5970: 5969, 5971: 5970, 5972: 5971, 5973: 5972, 5974: 5973, 5975: 5974, 5976: 5975, 5977: 5976, 5978: 5977, 5979: 5978, 5980: 5979, 5981: 5980, 5982: 5981, 5983: 5982, 5984: 5983, 5985: 5984, 5986: 5985, 5987: 5986, 5988: 5987, 5989: 5988, 5990: 5989, 5991: 5990, 5992: 5991, 5993: 5992, 5994: 5993, 5995: 5994, 5996: 5995, 5997: 5996, 5998: 5997, 5999: 5998, 6000: 5999, 6001: 6000, 6002: 6001, 6003: 6002, 6004: 6003, 6005: 6004, 6006: 6005, 6007: 6006, 6008: 6007, 6009: 6008, 6010: 6009, 6011: 6010, 6012: 6011, 6013: 6012, 6014: 6013, 6015: 6014, 6016: 6015, 6017: 6016, 6018: 6017, 6019: 6018, 6020: 6019, 6021: 6020, 6022: 6021, 6023: 6022, 6024: 6023, 6025: 6024, 6026: 6025, 6027: 6026, 6028: 6027, 6029: 6028, 6030: 6029, 6031: 6030, 6032: 6031, 6033: 6032, 6034: 6033, 6035: 6034, 6036: 6035, 6037: 6036, 6038: 6037, 6039: 6038, 6040: 6039}\n",
            "{1193: 0, 661: 1, 914: 2, 3408: 3, 2355: 4, 1197: 5, 1287: 6, 2804: 7, 594: 8, 919: 9, 595: 10, 938: 11, 2398: 12, 2918: 13, 1035: 14, 2791: 15, 2687: 16, 2018: 17, 3105: 18, 2797: 19, 2321: 20, 720: 21, 1270: 22, 527: 23, 2340: 24, 48: 25, 1097: 26, 1721: 27, 1545: 28, 745: 29, 2294: 30, 3186: 31, 1566: 32, 588: 33, 1907: 34, 783: 35, 1836: 36, 1022: 37, 2762: 38, 150: 39, 1: 40, 1961: 41, 1962: 42, 2692: 43, 260: 44, 1028: 45, 1029: 46, 1207: 47, 2028: 48, 531: 49, 3114: 50, 608: 51, 1246: 52, 1357: 53, 3068: 54, 1537: 55, 647: 56, 2194: 57, 648: 58, 2268: 59, 2628: 60, 1103: 61, 2916: 62, 3468: 63, 1210: 64, 1792: 65, 1687: 66, 1213: 67, 3578: 68, 2881: 69, 3030: 70, 1217: 71, 434: 72, 2126: 73, 3107: 74, 3108: 75, 3035: 76, 1253: 77, 1610: 78, 292: 79, 2236: 80, 3071: 81, 902: 82, 368: 83, 1259: 84, 3147: 85, 1544: 86, 1293: 87, 1188: 88, 3255: 89, 3256: 90, 3257: 91, 110: 92, 2278: 93, 2490: 94, 1834: 95, 3471: 96, 589: 97, 1690: 98, 3654: 99, 2852: 100, 1945: 101, 982: 102, 1873: 103, 2858: 104, 1225: 105, 515: 106, 442: 107, 2312: 108, 265: 109, 1408: 110, 1084: 111, 3699: 112, 480: 113, 1442: 114, 2067: 115, 1265: 116, 1370: 117, 1801: 118, 1372: 119, 2353: 120, 3334: 121, 2427: 122, 590: 123, 1196: 124, 1552: 125, 736: 126, 1198: 127, 593: 128, 2359: 129, 95: 130, 2717: 131, 2571: 132, 1917: 133, 2396: 134, 3735: 135, 1953: 136, 1597: 137, 3809: 138, 1954: 139, 1955: 140, 235: 141, 1124: 142, 1957: 143, 163: 144, 21: 145, 165: 146, 1090: 147, 380: 148, 2501: 149, 349: 150, 457: 151, 1096: 152, 920: 153, 459: 154, 1527: 155, 3418: 156, 1385: 157, 3451: 158, 3095: 159, 780: 160, 498: 161, 2728: 162, 2002: 163, 1784: 164, 2943: 165, 2006: 166, 318: 167, 1968: 168, 3678: 169, 1244: 170, 356: 171, 1245: 172, 3893: 173, 1247: 174, 3421: 175, 1641: 176, 1394: 177, 3534: 178, 104: 179, 2735: 180, 1431: 181, 3868: 182, 1079: 183, 2997: 184, 1615: 185, 1291: 186, 653: 187, 2167: 188, 1580: 189, 3619: 190, 1049: 191, 1261: 192, 552: 193, 1266: 194, 733: 195, 1378: 196, 1379: 197, 3552: 198, 1304: 199, 2470: 200, 3168: 201, 2617: 202, 3671: 203, 2871: 204, 2115: 205, 1136: 206, 2081: 207, 2951: 208, 1214: 209, 1036: 210, 3702: 211, 2366: 212, 1387: 213, 3527: 214, 1201: 215, 2947: 216, 1240: 217, 2987: 218, 2333: 219, 1175: 220, 39: 221, 288: 222, 2337: 223, 1535: 224, 1392: 225, 1466: 226, 860: 227, 1683: 228, 866: 229, 1684: 230, 2770: 231, 215: 232, 1759: 233, 501: 234, 506: 235, 1250: 236, 3793: 237, 509: 238, 41: 239, 2058: 240, 3799: 241, 47: 242, 2700: 243, 296: 244, 581: 245, 1617: 246, 728: 247, 299: 248, 3079: 249, 2560: 250, 1909: 251, 224: 252, 3728: 253, 229: 254, 6: 255, 3006: 256, 1046: 257, 800: 258, 50: 259, 52: 260, 1191: 261, 1192: 262, 3081: 263, 377: 264, 1268: 265, 3083: 266, 3513: 267, 2428: 268, 2282: 269, 3514: 270, 1554: 271, 1912: 272, 2716: 273, 1485: 274, 2289: 275, 162: 276, 1127: 277, 3016: 278, 2070: 279, 1704: 280, 3163: 281, 2437: 282, 2291: 283, 1635: 284, 1279: 285, 2721: 286, 2723: 287, 1921: 288, 2725: 289, 1923: 290, 2580: 291, 3386: 292, 3744: 293, 968: 294, 896: 295, 3020: 296, 1788: 297, 176: 298, 461: 299, 1429: 300, 2159: 301, 1715: 302, 1643: 303, 3249: 304, 3176: 305, 1719: 306, 2806: 307, 2734: 308, 1649: 309, 321: 310, 2013: 311, 3100: 312, 2952: 313, 1794: 314, 2599: 315, 1500: 316, 2959: 317, 1509: 318, 1722: 319, 1650: 320, 908: 321, 1653: 322, 2384: 323, 1729: 324, 3476: 325, 2890: 326, 3113: 327, 16: 328, 2029: 329, 194: 330, 551: 331, 1513: 332, 3046: 333, 2318: 334, 1517: 335, 1089: 336, 3260: 337, 913: 338, 1730: 339, 3409: 340, 2607: 341, 1449: 342, 1732: 343, 1733: 344, 2390: 345, 1734: 346, 3266: 347, 3267: 348, 3624: 349, 2395: 350, 1594: 351, 2683: 352, 412: 353, 2759: 354, 994: 355, 1884: 356, 1885: 357, 272: 358, 24: 359, 3051: 360, 348: 361, 2323: 362, 1093: 363, 29: 364, 562: 365, 1095: 366, 1529: 367, 2188: 368, 497: 369, 202: 370, 1747: 371, 2908: 372, 1966: 373, 3499: 374, 353: 375, 32: 376, 1243: 377, 1897: 378, 1171: 379, 3786: 380, 34: 381, 357: 382, 36: 383, 714: 384, 2406: 385, 1101: 386, 3717: 387, 1030: 388, 1688: 389, 364: 390, 3501: 391, 3072: 392, 3074: 393, 3508: 394, 1043: 395, 597: 396, 383: 397, 2506: 398, 3524: 399, 1569: 400, 2082: 401, 3600: 402, 3604: 403, 2802: 404, 3536: 405, 3753: 406, 3682: 407, 2017: 408, 3685: 409, 3610: 410, 1296: 411, 838: 412, 1007: 413, 1947: 414, 2966: 415, 266: 416, 17: 417, 1441: 418, 1088: 419, 912: 420, 199: 421, 1806: 422, 2469: 423, 2100: 424, 1959: 425, 1380: 426, 569: 427, 1674: 428, 3565: 429, 861: 430, 1997: 431, 1573: 432, 474: 433, 1221: 434, 2336: 435, 3425: 436, 1393: 437, 1682: 438, 508: 439, 3213: 440, 42: 441, 650: 442, 3500: 443, 3148: 444, 2702: 445, 1476: 446, 1693: 447, 151: 448, 510: 449, 4: 450, 1621: 451, 3155: 452, 58: 453, 2712: 454, 2429: 455, 1840: 456, 1916: 457, 1488: 458, 230: 459, 1120: 460, 161: 461, 1411: 462, 524: 463, 1059: 464, 454: 465, 1701: 466, 1274: 467, 741: 468, 1277: 469, 1639: 470, 3528: 471, 2297: 472, 465: 473, 1711: 474, 538: 475, 393: 476, 2442: 477, 73: 478, 3246: 479, 3173: 480, 105: 481, 253: 482, 3250: 483, 3252: 484, 476: 485, 111: 486, 3259: 487, 1589: 488, 2023: 489, 14: 490, 337: 491, 2314: 492, 2600: 493, 269: 494, 555: 495, 1660: 496, 3265: 497, 1735: 498, 3481: 499, 2686: 500, 2688: 501, 345: 502, 2320: 503, 25: 504, 2324: 505, 2329: 506, 1810: 507, 2541: 508, 1673: 509, 1678: 510, 1027: 511, 2699: 512, 282: 513, 367: 514, 223: 515, 3298: 516, 3948: 517, 805: 518, 3510: 519, 300: 520, 1777: 521, 3301: 522, 1343: 523, 3160: 524, 529: 525, 3452: 526, 1060: 527, 1356: 528, 1358: 529, 3178: 530, 3751: 531, 3826: 532, 3755: 533, 2302: 534, 1148: 535, 2166: 536, 3253: 537, 1584: 538, 1223: 539, 1446: 540, 3623: 541, 778: 542, 1669: 543, 3484: 544, 3916: 545, 1233: 546, 1307: 547, 3270: 548, 1310: 549, 428: 550, 2622: 551, 3358: 552, 3359: 553, 1756: 554, 1320: 555, 2124: 556, 2125: 557, 2054: 558, 1252: 559, 1254: 560, 3869: 561, 1256: 562, 1257: 563, 1831: 564, 3363: 565, 586: 566, 587: 567, 3438: 568, 3439: 569, 3296: 570, 2496: 571, 2497: 572, 2: 573, 2498: 574, 153: 575, 7: 576, 2133: 577, 2135: 578, 2136: 579, 2137: 580, 802: 581, 2138: 582, 1409: 583, 1339: 584, 1269: 585, 2640: 586, 592: 587, 596: 588, 3447: 589, 1918: 590, 2140: 591, 2072: 592, 1271: 593, 1345: 594, 2077: 595, 2078: 596, 1276: 597, 743: 598, 671: 599, 1278: 600, 3525: 601, 1927: 602, 2657: 603, 3388: 604, 316: 605, 317: 606, 248: 607, 2080: 608, 1282: 609, 1283: 610, 750: 611, 2087: 612, 1286: 613, 3608: 614, 2662: 615, 3466: 616, 2300: 617, 180: 618, 329: 619, 3034: 620, 186: 621, 2161: 622, 3037: 623, 2090: 624, 3039: 625, 2091: 626, 830: 627, 2093: 628, 904: 629, 2094: 630, 1292: 631, 2096: 632, 1294: 633, 765: 634, 2746: 635, 1009: 636, 1948: 637, 333: 638, 339: 639, 2316: 640, 1371: 641, 2174: 642, 1374: 643, 1375: 644, 915: 645, 1376: 646, 1377: 647, 916: 648, 918: 649, 1012: 650, 2826: 651, 3629: 652, 1015: 653, 1016: 654, 1019: 655, 3489: 656, 344: 657, 275: 658, 2252: 659, 277: 660, 923: 661, 924: 662, 3701: 663, 3703: 664, 926: 665, 3704: 666, 1020: 667, 784: 668, 858: 669, 1023: 670, 1025: 671, 2693: 672, 1967: 673, 351: 674, 2405: 675, 2407: 676, 3066: 677, 2193: 678, 932: 679, 1031: 680, 1104: 681, 1032: 682, 435: 683, 943: 684, 3723: 685, 1042: 686, 370: 687, 2423: 688, 3153: 689, 2424: 690, 3086: 691, 3087: 692, 953: 693, 954: 694, 3591: 695, 2863: 696, 3593: 697, 1125: 698, 520: 699, 3668: 700, 2795: 701, 1129: 702, 2431: 703, 62: 704, 3309: 705, 1633: 706, 2436: 707, 3097: 708, 3099: 709, 3812: 710, 2000: 711, 963: 712, 2001: 713, 1200: 714, 2003: 715, 1203: 716, 2005: 717, 1204: 718, 969: 719, 2872: 720, 3675: 721, 2946: 722, 898: 723, 2009: 724, 2874: 725, 899: 726, 1135: 727, 2948: 728, 539: 729, 2371: 730, 3247: 731, 3174: 732, 3175: 733, 2375: 734, 2378: 735, 971: 736, 2011: 737, 2012: 738, 2015: 739, 1215: 740, 1073: 741, 3688: 742, 541: 743, 542: 744, 543: 745, 3254: 746, 2453: 747, 2529: 748, 1654: 749, 1583: 750, 3189: 751, 116: 752, 1586: 753, 2021: 754, 1220: 755, 1080: 756, 2967: 757, 2968: 758, 2530: 759, 3264: 760, 3194: 761, 2393: 762, 3198: 763, 2399: 764, 1302: 765, 1230: 766, 2105: 767, 2033: 768, 2108: 769, 1234: 770, 2109: 771, 1091: 772, 3347: 773, 203: 774, 1676: 775, 208: 776, 2111: 777, 2040: 778, 2041: 779, 3928: 780, 2043: 781, 2045: 782, 2046: 783, 2047: 784, 2049: 785, 1753: 786, 216: 787, 2706: 788, 2639: 789, 2710: 790, 663: 791, 3448: 792, 231: 793, 2076: 794, 246: 795, 249: 796, 1288: 797, 3396: 798, 3101: 799, 2598: 800, 2306: 801, 764: 802, 342: 803, 1887: 804, 2325: 805, 3129: 806, 2907: 807, 788: 808, 2766: 809, 2335: 810, 1461: 811, 3146: 812, 1546: 813, 440: 814, 441: 815, 2507: 816, 1563: 817, 1498: 818, 2883: 819, 3182: 820, 85: 821, 88: 822, 986: 823, 481: 824, 2539: 825, 1665: 826, 2106: 827, 708: 828, 3362: 829, 813: 830, 3897: 831, 934: 832, 3658: 833, 1303: 834, 999: 835, 2616: 836, 3785: 837, 1331: 838, 1262: 839, 2641: 840, 3036: 841, 3479: 842, 10: 843, 2822: 844, 3494: 845, 421: 846, 3070: 847, 2414: 848, 1479: 849, 517: 850, 952: 851, 60: 852, 3745: 853, 2370: 854, 1216: 855, 2528: 856, 1587: 857, 3269: 858, 3417: 859, 3354: 860, 1263: 861, 2572: 862, 2731: 863, 3033: 864, 2243: 865, 2694: 866, 2920: 867, 1982: 868, 2976: 869, 2485: 870, 141: 871, 3798: 872, 2707: 873, 2567: 874, 3004: 875, 3005: 876, 2719: 877, 160: 878, 748: 879, 2724: 880, 2581: 881, 1783: 882, 1422: 883, 3461: 884, 3535: 885, 257: 886, 832: 887, 762: 888, 2676: 889, 1883: 890, 2763: 891, 3566: 892, 2764: 893, 1892: 894, 1608: 895, 1396: 896, 2840: 897, 2841: 898, 3646: 899, 500: 900, 3145: 901, 2272: 902, 2273: 903, 1619: 904, 1625: 905, 1487: 906, 1702: 907, 2433: 908, 70: 909, 1644: 910, 1645: 911, 2882: 912, 2387: 913, 2389: 914, 2961: 915, 553: 916, 628: 917, 3261: 918, 2605: 919, 1804: 920, 1805: 921, 2391: 922, 2394: 923, 3773: 924, 1092: 925, 1672: 926, 2555: 927, 2629: 928, 2701: 929, 2568: 930, 2713: 931, 1911: 932, 3516: 933, 2643: 934, 2720: 935, 2722: 936, 2805: 937, 2828: 938, 2761: 939, 2856: 940, 2369: 941, 2888: 942, 2392: 943, 2975: 944, 1179: 945, 2553: 946, 2554: 947, 3932: 948, 3863: 949, 1185: 950, 3503: 951, 3879: 952, 3375: 953, 1779: 954, 164: 955, 3457: 956, 319: 957, 247: 958, 1428: 959, 1284: 960, 2660: 961, 2661: 962, 2663: 963, 2664: 964, 2667: 965, 2668: 966, 3032: 967, 2311: 968, 2173: 969, 198: 970, 2752: 971, 340: 972, 3700: 973, 2901: 974, 3638: 975, 30: 976, 1601: 977, 3713: 978, 2912: 979, 3576: 980, 503: 981, 293: 982, 1614: 983, 2346: 984, 942: 985, 446: 986, 1624: 987, 3156: 988, 2287: 989, 2288: 990, 3662: 991, 3594: 992, 3300: 993, 1206: 994, 1069: 995, 76: 996, 2377: 997, 2010: 998, 3827: 999, 610: 1000, 1077: 1001, 2526: 1002, 2527: 1003, 2454: 1004, 2455: 1005, 3696: 1006, 2533: 1007, 1301: 1008, 707: 1009, 2613: 1010, 2542: 1011, 496: 1012, 2549: 1013, 1748: 1014, 3927: 1015, 2116: 1016, 2117: 1017, 2985: 1018, 2989: 1019, 2123: 1020, 2052: 1021, 2993: 1022, 1186: 1023, 222: 1024, 158: 1025, 3877: 1026, 2139: 1027, 3440: 1028, 737: 1029, 2718: 1030, 2573: 1031, 302: 1032, 232: 1033, 2141: 1034, 2142: 1035, 168: 1036, 2143: 1037, 2145: 1038, 1344: 1039, 3889: 1040, 1275: 1041, 3526: 1042, 313: 1043, 2153: 1044, 2083: 1045, 2085: 1046, 2089: 1047, 2807: 1048, 2739: 1049, 3397: 1050, 3398: 1051, 3399: 1052, 327: 1053, 1367: 1054, 839: 1055, 1005: 1056, 405: 1057, 1876: 1058, 261: 1059, 262: 1060, 2248: 1061, 1013: 1062, 1882: 1063, 1956: 1064, 26: 1065, 2253: 1066, 3705: 1067, 3633: 1068, 3635: 1069, 1960: 1070, 3639: 1071, 2402: 1072, 2404: 1073, 1606: 1074, 1391: 1075, 1033: 1076, 291: 1077, 44: 1078, 2348: 1079, 940: 1080, 2421: 1081, 2422: 1082, 1126: 1083, 1562: 1084, 1499: 1085, 1064: 1086, 532: 1087, 466: 1088, 2373: 1089, 2014: 1090, 2953: 1091, 2019: 1092, 616: 1093, 546: 1094, 2450: 1095, 475: 1096, 86: 1097, 2020: 1098, 2025: 1099, 2893: 1100, 3698: 1101, 485: 1102, 1591: 1103, 1739: 1104, 3911: 1105, 1094: 1106, 493: 1107, 2042: 1108, 1242: 1109, 3930: 1110, 1321: 1111, 2990: 1112, 2991: 1113, 1327: 1114, 1258: 1115, 2633: 1116, 2638: 1117, 1407: 1118, 1334: 1119, 2064: 1120, 2644: 1121, 2646: 1122, 2647: 1123, 2574: 1124, 1772: 1125, 2648: 1126, 2649: 1127, 1340: 1128, 2653: 1129, 1350: 1130, 2160: 1131, 330: 1132, 1373: 1133, 842: 1134, 785: 1135, 2836: 1136, 420: 1137, 3208: 1138, 2338: 1139, 2195: 1140, 1974: 1141, 879: 1142, 2782: 1143, 2789: 1144, 3082: 1145, 2860: 1146, 2790: 1147, 3596: 1148, 1994: 1149, 2502: 1150, 2367: 1151, 2296: 1152, 2004: 1153, 2949: 1154, 1717: 1155, 2376: 1156, 3752: 1157, 1219: 1158, 3325: 1159, 1655: 1160, 2103: 1161, 3273: 1162, 1694: 1163, 1468: 1164, 585: 1165, 3000: 1166, 2800: 1167, 3053: 1168, 3268: 1169, 3774: 1170, 3355: 1171, 1754: 1172, 145: 1173, 1689: 1174, 2122: 1175, 2134: 1176, 1405: 1177, 3017: 1178, 1347: 1179, 818: 1180, 3450: 1181, 678: 1182, 312: 1183, 173: 1184, 2150: 1185, 1425: 1186, 3896: 1187, 1799: 1188, 256: 1189, 185: 1190, 2163: 1191, 1438: 1192, 833: 1193, 2671: 1194, 910: 1195, 2249: 1196, 771: 1197, 849: 1198, 3120: 1199, 3052: 1200, 2189: 1201, 786: 1202, 429: 1203, 2263: 1204, 2265: 1205, 1034: 1206, 798: 1207, 799: 1208, 1037: 1209, 3210: 1210, 2413: 1211, 2416: 1212, 1047: 1213, 3660: 1214, 3661: 1215, 2792: 1216, 1991: 1217, 2794: 1218, 65: 1219, 1205: 1220, 3243: 1221, 2374: 1222, 473: 1223, 81: 1224, 3258: 1225, 112: 1226, 3835: 1227, 1222: 1228, 3917: 1229, 2478: 1230, 1248: 1231, 1249: 1232, 3420: 1233, 3505: 1234, 1189: 1235, 3507: 1236, 3435: 1237, 659: 1238, 2202: 1239, 1267: 1240, 1199: 1241, 2642: 1242, 1845: 1243, 3952: 1244, 2148: 1245, 2149: 1246, 3521: 1247, 674: 1248, 2726: 1249, 2808: 1250, 3104: 1251, 187: 1252, 903: 1253, 3618: 1254, 3474: 1255, 11: 1256, 2241: 1257, 3044: 1258, 196: 1259, 911: 1260, 2176: 1261, 3551: 1262, 3556: 1263, 1958: 1264, 2322: 1265, 2259: 1266, 1388: 1267, 3634: 1268, 3708: 1269, 1965: 1270, 2409: 1271, 2917: 1272, 431: 1273, 2410: 1274, 2411: 1275, 45: 1276, 2419: 1277, 951: 1278, 521: 1279, 3740: 1280, 3741: 1281, 2511: 1282, 1212: 1283, 1218: 1284, 3763: 1285, 1227: 1286, 556: 1287, 3338: 1288, 125: 1289, 3770: 1290, 1306: 1291, 2973: 1292, 3920: 1293, 1313: 1294, 2118: 1295, 2119: 1296, 3424: 1297, 3361: 1298, 2132: 1299, 303: 1300, 2144: 1301, 175: 1302, 2301: 1303, 2245: 1304, 2757: 1305, 3707: 1306, 425: 1307, 2915: 1308, 372: 1309, 2352: 1310, 1057: 1311, 468: 1312, 1663: 1313, 2709: 1314, 157: 1315, 1920: 1316, 688: 1317, 3676: 1318, 3422: 1319, 3423: 1320, 719: 1321, 3426: 1322, 3287: 1323, 2558: 1324, 217: 1325, 2053: 1326, 2059: 1327, 724: 1328, 3502: 1329, 3506: 1330, 3360: 1331, 1833: 1332, 3: 1333, 5: 1334, 804: 1335, 3441: 1336, 234: 1337, 236: 1338, 237: 1339, 2146: 1340, 673: 1341, 315: 1342, 2154: 1343, 1285: 1344, 252: 1345, 3614: 1346, 1298: 1347, 3543: 1348, 1003: 1349, 694: 1350, 3040: 1351, 2313: 1352, 267: 1353, 195: 1354, 2247: 1355, 1880: 1356, 413: 1357, 416: 1358, 1888: 1359, 276: 1360, 278: 1361, 3056: 1362, 1381: 1363, 1457: 1364, 852: 1365, 2906: 1366, 1021: 1367, 350: 1368, 424: 1369, 3130: 1370, 2403: 1371, 3206: 1372, 3063: 1373, 2261: 1374, 38: 1375, 2262: 1376, 1463: 1377, 1390: 1378, 2266: 1379, 2269: 1380, 1100: 1381, 432: 1382, 2779: 1383, 361: 1384, 2412: 1385, 1541: 1386, 3219: 1387, 2418: 1388, 3584: 1389, 511: 1390, 518: 1391, 445: 1392, 2420: 1393, 3152: 1394, 378: 1395, 1556: 1396, 3590: 1397, 450: 1398, 2798: 1399, 381: 1400, 455: 1401, 1703: 1402, 3308: 1403, 64: 1404, 3098: 1405, 2942: 1406, 2875: 1407, 605: 1408, 609: 1409, 463: 1410, 1713: 1411, 1640: 1412, 467: 1413, 74: 1414, 3248: 1415, 2447: 1416, 2950: 1417, 3684: 1418, 3686: 1419, 612: 1420, 540: 1421, 3689: 1422, 471: 1423, 472: 1424, 2459: 1425, 1588: 1426, 118: 1427, 3690: 1428, 550: 1429, 3331: 1430, 3263: 1431, 487: 1432, 2463: 1433, 94: 1434, 122: 1435, 1593: 1436, 3846: 1437, 491: 1438, 3274: 1439, 2473: 1440, 499: 1441, 207: 1442, 135: 1443, 1180: 1444, 3364: 1445, 2066: 1446, 3469: 1447, 905: 1448, 922: 1449, 2186: 1450, 930: 1451, 947: 1452, 3730: 1453, 955: 1454, 528: 1455, 3683: 1456, 1237: 1457, 2550: 1458, 144: 1459, 901: 1460, 906: 1461, 3548: 1462, 334: 1463, 846: 1464, 928: 1465, 1208: 1466, 1224: 1467, 3366: 1468, 3370: 1469, 1785: 1470, 3102: 1471, 3062: 1472, 3726: 1473, 2363: 1474, 2944: 1475, 3836: 1476, 3769: 1477, 1085: 1478, 3405: 1479, 2534: 1480, 3197: 1481, 494: 1482, 1176: 1483, 3943: 1484, 3949: 1485, 1922: 1486, 3554: 1487, 1041: 1488, 1657: 1489, 2544: 1490, 2208: 1491, 2065: 1492, 3012: 1493, 3022: 1494, 3028: 1495, 1281: 1496, 3462: 1497, 1937: 1498, 1297: 1499, 2747: 1500, 921: 1501, 3200: 1502, 933: 1503, 3640: 1504, 1976: 1505, 946: 1506, 2922: 1507, 2780: 1508, 3088: 1509, 957: 1510, 2935: 1511, 2936: 1512, 3096: 1513, 961: 1514, 2870: 1515, 3244: 1516, 1235: 1517, 3341: 1518, 3349: 1519, 3429: 1520, 3286: 1521, 28: 1522, 3159: 1523, 3821: 1524, 3787: 1525, 1680: 1526, 3935: 1527, 1183: 1528, 3504: 1529, 2637: 1530, 2565: 1531, 154: 1532, 1699: 1533, 2206: 1534, 1333: 1535, 3018: 1536, 3019: 1537, 2071: 1538, 1272: 1539, 1348: 1540, 2650: 1541, 2303: 1542, 1295: 1543, 907: 1544, 1299: 1545, 3546: 1546, 2817: 1547, 2674: 1548, 1946: 1549, 3110: 1550, 3111: 1551, 2178: 1552, 1017: 1553, 3121: 1554, 2183: 1555, 927: 1556, 3498: 1557, 3203: 1558, 3204: 1559, 1464: 1560, 931: 1561, 2344: 1562, 2921: 1563, 949: 1564, 3727: 1565, 2926: 1566, 3587: 1567, 3733: 1568, 2932: 1569, 2867: 1570, 3599: 1571, 3230: 1572, 3167: 1573, 3169: 1574, 2941: 1575, 1130: 1576, 1061: 1577, 3681: 1578, 3760: 1579, 3693: 1580, 1152: 1581, 1086: 1582, 2467: 1583, 1300: 1584, 3844: 1585, 1231: 1586, 3340: 1587, 2612: 1588, 565: 1589, 3271: 1590, 2983: 1591, 1835: 1592, 3387: 1593, 837: 1594, 1895: 1595, 3712: 1596, 3597: 1597, 2796: 1598, 2432: 1599, 2379: 1600, 2380: 1601, 2382: 1602, 2383: 1603, 2471: 1604, 1251: 1605, 2708: 1606, 1760: 1607, 3365: 1608, 155: 1609, 3871: 1610, 803: 1611, 1264: 1612, 3512: 1613, 2575: 1614, 1419: 1615, 824: 1616, 2088: 1617, 2732: 1618, 3467: 1619, 2238: 1620, 2239: 1621, 3473: 1622, 3549: 1623, 1949: 1624, 2171: 1625, 2682: 1626, 3567: 1627, 1964: 1628, 3060: 1629, 2331: 1630, 3061: 1631, 863: 1632, 2919: 1633, 3649: 1634, 945: 1635, 3725: 1636, 948: 1637, 3091: 1638, 965: 1639, 3320: 1640, 1078: 1641, 2385: 1642, 3831: 1643, 1081: 1644, 2969: 1645, 123: 1646, 1162: 1647, 2611: 1648, 2474: 1649, 3852: 1650, 1172: 1651, 3788: 1652, 1827: 1653, 233: 1654, 172: 1655, 178: 1656, 2155: 1657, 2815: 1658, 1875: 1659, 3480: 1660, 2250: 1661, 3706: 1662, 1963: 1663, 1603: 1664, 2334: 1665, 1395: 1666, 2774: 1667, 507: 1668, 3142: 1669, 1616: 1670, 449: 1671, 1480: 1672, 1147: 1673, 3697: 1674, 3196: 1675, 2972: 1676, 2540: 1677, 3864: 1678, 1977: 1679, 1353: 1680, 691: 1681, 2677: 1682, 13: 1683, 779: 1684, 1894: 1685, 46: 1686, 1620: 1687, 92: 1688, 490: 1689, 2772: 1690, 3157: 1691, 2027: 1692, 3519: 1693, 2669: 1694, 258: 1695, 2816: 1696, 2748: 1697, 3628: 1698, 3643: 1699, 2430: 1700, 897: 1701, 976: 1702, 2524: 1703, 3406: 1704, 2537: 1705, 3412: 1706, 1658: 1707, 2546: 1708, 3937: 1709, 1924: 1710, 1518: 1711, 3555: 1712, 2681: 1713, 2408: 1714, 379: 1715, 3802: 1716, 880: 1717, 3807: 1718, 66: 1719, 3758: 1720, 2520: 1721, 2456: 1722, 1590: 1723, 2034: 1724, 3780: 1725, 2986: 1726, 3011: 1727, 2097: 1728, 3612: 1729, 1952: 1730, 2846: 1731, 1983: 1732, 1984: 1733, 1985: 1734, 1986: 1735, 891: 1736, 107: 1737, 3251: 1738, 2460: 1739, 2461: 1740, 2462: 1741, 3771: 1742, 2107: 1743, 2110: 1744, 1821: 1745, 3284: 1746, 140: 1747, 218: 1748, 3436: 1749, 2491: 1750, 2492: 1751, 2205: 1752, 3873: 1753, 3874: 1754, 1914: 1755, 305: 1756, 1414: 1757, 1782: 1758, 753: 1759, 2738: 1760, 900: 1761, 2168: 1762, 3540: 1763, 909: 1764, 697: 1765, 3045: 1766, 1014: 1767, 2829: 1768, 1018: 1769, 1453: 1770, 1600: 1771, 355: 1772, 35: 1773, 287: 1774, 289: 1775, 2339: 1776, 1398: 1777, 937: 1778, 2849: 1779, 2415: 1780, 2417: 1781, 3076: 1782, 371: 1783, 447: 1784, 2426: 1785, 2356: 1786, 1632: 1787, 2292: 1788, 3814: 1789, 2443: 1790, 469: 1791, 1571: 1792, 2884: 1793, 1226: 1794, 1083: 1795, 489: 1796, 2468: 1797, 1666: 1798, 2037: 1799, 633: 1800, 492: 1801, 566: 1802, 205: 1803, 1677: 1804, 3280: 1805, 3939: 1806, 847: 1807, 1969: 1808, 1102: 1809, 1970: 1810, 1971: 1811, 1972: 1812, 1973: 1813, 1975: 1814, 1978: 1815, 1979: 1816, 366: 1817, 1980: 1818, 1981: 1819, 3677: 1820, 2523: 1821, 575: 1822, 2050: 1823, 599: 1824, 2152: 1825, 1359: 1826, 829: 1827, 835: 1828, 836: 1829, 1526: 1830, 1459: 1831, 2401: 1832, 1602: 1833, 1474: 1834, 3404: 1835, 2531: 1836, 2532: 1837, 991: 1838, 996: 1839, 1752: 1840, 1762: 1841, 239: 1842, 170: 1843, 1931: 1844, 1797: 1845, 3615: 1846, 1944: 1847, 3477: 1848, 336: 1849, 15: 1850, 19: 1851, 1010: 1852, 1011: 1853, 3483: 1854, 2827: 1855, 410: 1856, 346: 1857, 419: 1858, 423: 1859, 280: 1860, 360: 1861, 2857: 1862, 513: 1863, 514: 1864, 516: 1865, 374: 1866, 54: 1867, 376: 1868, 453: 1869, 533: 1870, 534: 1871, 2016: 1872, 2965: 1873, 486: 1874, 3926: 1875, 159: 1876, 1054: 1877, 89: 1878, 3861: 1879, 3509: 1880, 3390: 1881, 3616: 1882, 23: 1883, 2007: 1884, 1337: 1885, 2500: 1886, 3617: 1887, 3553: 1888, 886: 1889, 93: 1890, 1177: 1891, 571: 1892, 718: 1893, 2120: 1894, 1184: 1895, 580: 1896, 1190: 1897, 735: 1898, 1342: 1899, 1417: 1900, 1352: 1901, 1280: 1902, 2232: 1903, 2162: 1904, 2165: 1905, 1290: 1906, 1365: 1907, 766: 1908, 2315: 1909, 1522: 1910, 2328: 1911, 2264: 1912, 3067: 1913, 1609: 1914, 1611: 1915, 3078: 1916, 2349: 1917, 1623: 1918, 1627: 1919, 1483: 1920, 950: 1921, 3307: 1922, 3092: 1923, 893: 1924, 2517: 1925, 100: 1926, 3179: 1927, 1648: 1928, 3326: 1929, 1726: 1930, 2606: 1931, 126: 1932, 3342: 1933, 1816: 1934, 3285: 1935, 1686: 1936, 148: 1937, 3437: 1938, 1769: 1939, 1913: 1940, 1848: 1941, 307: 1942, 309: 1943, 242: 1944, 177: 1945, 3605: 1946, 3464: 1947, 1861: 1948, 3393: 1949, 322: 1950, 326: 1951, 184: 1952, 259: 1953, 188: 1954, 3478: 1955, 190: 1956, 193: 1957, 18: 1958, 268: 1959, 3620: 1960, 3550: 1961, 2750: 1962, 1950: 1963, 3557: 1964, 341: 1965, 415: 1966, 22: 1967, 427: 1968, 281: 1969, 358: 1970, 3571: 1971, 436: 1972, 290: 1973, 365: 1974, 2851: 1975, 2781: 1976, 2787: 1977, 519: 1978, 448: 1979, 55: 1980, 1051: 1981, 2793: 1982, 522: 1983, 382: 1984, 456: 1985, 3747: 1986, 1211: 1987, 2956: 1988, 611: 1989, 617: 1990, 3764: 1991, 482: 1992, 3918: 1993, 3919: 1994, 1305: 1995, 2038: 1996, 561: 1997, 2112: 1998, 2114: 1999, 1173: 2000, 3049: 2001, 3217: 2002, 2788: 2003, 3672: 2004, 2786: 2005, 3794: 2006, 3797: 2007, 2310: 2008, 3820: 2009, 3694: 2010, 1228: 2011, 2057: 2012, 3024: 2013, 695: 2014, 2184: 2015, 2364: 2016, 2365: 2017, 3328: 2018, 2615: 2019, 1862: 2020, 2744: 2021, 3663: 2022, 3664: 2023, 392: 2024, 2891: 2025, 3923: 2026, 1311: 2027, 2147: 2028, 1421: 2029, 3201: 2030, 3134: 2031, 3224: 2032, 3089: 2033, 959: 2034, 978: 2035, 3185: 2036, 3414: 2037, 3350: 2038, 314: 2039, 1935: 2040, 3545: 2041, 2670: 2042, 1951: 2043, 3655: 2044, 3808: 2045, 3811: 2046, 3742: 2047, 3816: 2048, 1066: 2049, 615: 2050, 3910: 2051, 1241: 2052, 113: 2053, 1731: 2054, 2583: 2055, 3882: 2056, 3238: 2057, 3316: 2058, 3190: 2059, 3511: 2060, 3564: 2061, 3743: 2062, 3908: 2063, 3784: 2064, 3789: 2065, 2130: 2066, 1401: 2067, 806: 2068, 2069: 2069, 664: 2070, 2212: 2071, 3015: 2072, 2079: 2073, 3103: 2074, 3109: 2075, 1432: 2076, 1363: 2077, 1366: 2078, 2177: 2079, 848: 2080, 1450: 2081, 782: 2082, 929: 2083, 2341: 2084, 1477: 2085, 1629: 2086, 956: 2087, 2435: 2088, 2290: 2089, 960: 2090, 3317: 2091, 974: 2092, 1727: 2093, 2457: 2094, 3330: 2095, 2472: 2096, 132: 2097, 3430: 2098, 225: 2099, 3518: 2100, 3529: 2101, 2729: 2102, 3602: 2103, 1934: 2104, 1938: 2105, 254: 2106, 182: 2107, 3613: 2108, 2819: 2109, 2820: 2110, 2755: 2111, 418: 2112, 279: 2113, 437: 2114, 3724: 2115, 3729: 2116, 1050: 2117, 3738: 2118, 2939: 2119, 451: 2120, 2940: 2121, 1209: 2122, 78: 2123, 79: 2124, 82: 2125, 1082: 2126, 3841: 2127, 1161: 2128, 630: 2129, 1099: 2130, 3929: 2131, 640: 2132, 3007: 2133, 3115: 2134, 2505: 2135, 1707: 2136, 166: 2137, 2596: 2138, 2672: 2139, 2678: 2140, 1416: 2141, 2913: 2142, 9: 2143, 2803: 2144, 1919: 2145, 637: 2146, 973: 2147, 1939: 2148, 2929: 2149, 3112: 2150, 3069: 2151, 1926: 2152, 2690: 2153, 2434: 2154, 2439: 2155, 1904: 2156, 40: 2157, 2995: 2158, 43: 2159, 2979: 2160, 1187: 2161, 3124: 2162, 8: 2163, 692: 2164, 2170: 2165, 2196: 2166, 2448: 2167, 990: 2168, 2625: 2169, 3444: 2170, 240: 2171, 1858: 2172, 1004: 2173, 2879: 2174, 464: 2175, 3767: 2176, 3768: 2177, 704: 2178, 869: 2179, 2357: 2180, 577: 2181, 801: 2182, 2092: 2183, 3054: 2184, 1460: 2185, 1551: 2186, 2354: 2187, 1489: 2188, 885: 2189, 1495: 2190, 1582: 2191, 3400: 2192, 1592: 2193, 2559: 2194, 146: 2195, 238: 2196, 169: 2197, 181: 2198, 502: 2199, 362: 2200, 87: 2201, 2899: 2202, 558: 2203, 700: 2204, 2036: 2205, 631: 2206, 634: 2207, 709: 2208, 711: 2209, 3946: 2210, 3898: 2211, 3710: 2212, 536: 2213, 3783: 2214, 2771: 2215, 1131: 2216, 3282: 2217, 2499: 2218, 156: 2219, 3606: 2220, 1871: 2221, 417: 2222, 1024: 2223, 298: 2224, 72: 2225, 84: 2226, 2971: 2227, 568: 2228, 2873: 2229, 2024: 2230, 1178: 2231, 1260: 2232, 3093: 2233, 2924: 2234, 69: 2235, 2519: 2236, 2861: 2237, 941: 2238, 3324: 2239, 3299: 2240, 3825: 2241, 3914: 2242, 3859: 2243, 754: 2244, 3118: 2245, 583: 2246, 2157: 2247, 826: 2248, 2347: 2249, 3384: 2250, 438: 2251, 1112: 2252, 390: 2253, 2927: 2254, 2060: 2255, 1437: 2256, 2190: 2257, 3141: 2258, 2279: 2259, 993: 2260, 2582: 2261, 12: 2262, 294: 2263, 373: 2264, 63: 2265, 2880: 2266, 477: 2267, 2073: 2268, 1238: 2269, 810: 2270, 3895: 2271, 2084: 2272, 2169: 2273, 1605: 2274, 3225: 2275, 1595: 2276, 1750: 2277, 2566: 2278, 3515: 2279, 2714: 2280, 3453: 2281, 3454: 2282, 1881: 2283, 2876: 2284, 3824: 2285, 2102: 2286, 3776: 2287, 2978: 2288, 2048: 2289, 667: 2290, 1599: 2291, 2476: 2292, 204: 2293, 1681: 2294, 2818: 2295, 3933: 2296, 1349: 2297, 3837: 2298, 1542: 2299, 2203: 2300, 3870: 2301, 2204: 2302, 2210: 2303, 1507: 2304, 936: 2305, 944: 2306, 1596: 2307, 1929: 2308, 1936: 2309, 1940: 2310, 2904: 2311, 3736: 2312, 2937: 2313, 1824: 2314, 2938: 2315, 3901: 2316, 2535: 2317, 3936: 2318, 71: 2319, 3791: 2320, 3872: 2321, 851: 2322, 3177: 2323, 3357: 2324, 1755: 2325, 3580: 2326, 2877: 2327, 3754: 2328, 3915: 2329, 2285: 2330, 998: 2331, 3029: 2332, 1515: 2333, 2181: 2334, 1661: 2335, 1925: 2336, 1942: 2337, 1167: 2338, 3938: 2339, 3913: 2340, 3925: 2341, 2098: 2342, 2231: 2343, 2280: 2344, 1860: 2345, 1325: 2346, 2182: 2347, 3883: 2348, 3327: 2349, 2099: 2350, 3537: 2351, 1995: 2352, 2121: 2353, 1322: 2354, 1326: 2355, 1328: 2356, 1329: 2357, 3941: 2358, 3942: 2359, 3013: 2360, 2327: 2361, 3138: 2362, 2368: 2363, 2515: 2364, 2451: 2365, 2525: 2366, 3403: 2367, 2634: 2368, 2635: 2369, 2645: 2370, 2652: 2371, 2736: 2372, 2665: 2373, 324: 2374, 251: 2375, 328: 2376, 332: 2377, 407: 2378, 273: 2379, 3491: 2380, 3659: 2381, 1987: 2382, 1988: 2383, 3806: 2384, 1992: 2385, 1128: 2386, 1993: 2387, 1996: 2388, 1999: 2389, 2878: 2390, 606: 2391, 2026: 2392, 3840: 2393, 3843: 2394, 2104: 2395, 3921: 2396, 2113: 2397, 892: 2398, 241: 2399, 3538: 2400, 3934: 2401, 742: 2402, 3792: 2403, 3001: 2404, 3014: 2405, 1355: 2406, 687: 2407, 2242: 2408, 1389: 2409, 2260: 2410, 2267: 2411, 3211: 2412, 2343: 2413, 875: 2414, 3304: 2415, 2518: 2416, 101: 2417, 2381: 2418, 1807: 2419, 2551: 2420, 1841: 2421, 3389: 2422, 3465: 2423, 2741: 2424, 2745: 2425, 2749: 2426, 20: 2427, 1890: 2428, 3497: 2429, 2928: 2430, 2866: 2431, 458: 2432, 387: 2433, 603: 2434, 544: 2435, 3766: 2436, 3849: 2437, 3125: 2438, 1415: 2439, 171: 2440, 1879: 2441, 1063: 2442, 715: 2443, 3865: 2444, 3795: 2445, 3150: 2446, 2284: 2447, 2561: 2448, 1889: 2449, 2769: 2450, 3720: 2451, 3822: 2452, 3756: 2453, 3857: 2454, 3132: 2455, 3073: 2456, 3154: 2457, 3311: 2458, 1404: 2459, 1439: 2460, 1472: 2461, 1647: 2462, 1662: 2463, 1053: 2464, 384: 2465, 2458: 2466, 2654: 2467, 1855: 2468, 645: 2469, 574: 2470, 649: 2471, 665: 2472, 668: 2473, 1354: 2474, 781: 2475, 1543: 2476, 117: 2477, 2609: 2478, 3416: 2479, 211: 2480, 147: 2481, 1900: 2482, 306: 2483, 1859: 2484, 406: 2485, 2696: 2486, 2697: 2487, 2925: 2488, 3819: 2489, 3746: 2490, 535: 2491, 627: 2492, 97: 2493, 2361: 2494, 3064: 2495, 129: 2496, 1670: 2497, 3579: 2498, 3884: 2499, 3719: 2500, 512: 2501, 548: 2502, 1289: 2503, 1454: 2504, 793: 2505, 3094: 2506, 1780: 2507, 1856: 2508, 1932: 2509, 3392: 2510, 3395: 2511, 1111: 2512, 3813: 2513, 549: 2514, 2998: 2515, 2360: 2516, 213: 2517, 206: 2518, 2495: 2519, 3539: 2520, 3627: 2521, 3679: 2522, 1941: 2523, 3801: 2524, 3135: 2525, 935: 2526, 3292: 2527, 3371: 2528, 2570: 2529, 2801: 2530, 2862: 2531, 3834: 2532, 3853: 2533, 3855: 2534, 1194: 2535, 760: 2536, 1667: 2537, 808: 2538, 2086: 2539, 2240: 2540, 1445: 2541, 3214: 2542, 870: 2543, 2626: 2544, 3431: 2545, 3432: 2546, 3433: 2547, 3434: 2548, 2494: 2549, 227: 2550, 3385: 2551, 3394: 2552, 1008: 2553, 408: 2554, 338: 2555, 426: 2556, 3585: 2557, 460: 2558, 3117: 2559, 1516: 2560, 3055: 2561, 787: 2562, 3077: 2563, 3192: 2564, 3272: 2565, 3275: 2566, 2621: 2567, 1910: 2568, 308: 2569, 2730: 2570, 320: 2571, 2594: 2572, 2812: 2573, 3625: 2574, 3718: 2575, 363: 2576, 2859: 2577, 1123: 2578, 1055: 2579, 1202: 2580, 391: 2581, 3903: 2582, 3906: 2583, 3858: 2584, 759: 2585, 3860: 2586, 3950: 2587, 1502: 2588, 1539: 2589, 1612: 2590, 3302: 2591, 1564: 2592, 987: 2593, 2482: 2594, 1767: 2595, 179: 2596, 1896: 2597, 3581: 2598, 3598: 2599, 68: 2600, 3749: 2601, 3823: 2602, 2962: 2603, 1236: 2604, 638: 2605, 325: 2606, 274: 2607, 1581: 2608, 3415: 2609, 3470: 2610, 1273: 2611, 2255: 2612, 2295: 2613, 3199: 2614, 209: 2615, 271: 2616, 2905: 2617, 352: 2618, 2977: 2619, 564: 2620, 639: 2621, 1812: 2622, 1998: 2623, 2988: 2624, 2068: 2625, 670: 2626, 1361: 2627, 2330: 2628, 214: 2629, 523: 2630, 602: 2631, 83: 2632, 2022: 2633, 809: 2634, 1456: 2635, 1604: 2636, 1465: 2637, 1473: 2638, 1475: 2639, 1497: 2640, 2514: 2641, 2516: 2642, 1744: 2643, 2548: 2644, 1902: 2645, 152: 2646, 1771: 2647, 1866: 2648, 2597: 2649, 1869: 2650, 3709: 2651, 2835: 2652, 1119: 2653, 479: 2654, 2898: 2655, 98: 2656, 2974: 2657, 3782: 2658, 2996: 2659, 1255: 2660, 3520: 2661, 2656: 2662, 2666: 2663, 3592: 2664, 2035: 2665, 3922: 2666, 3924: 2667, 831: 2668, 1613: 2669, 2504: 2670, 2513: 2671, 984: 2672, 3401: 2673, 3262: 2674, 3673: 2675, 3674: 2676, 201: 2677, 876: 2678, 2372: 2679, 3329: 2680, 1728: 2681, 1928: 2682, 2587: 2683, 1930: 2684, 1933: 2685, 255: 2686, 1943: 2687, 3475: 2688, 1169: 2689, 3002: 2690, 669: 2691, 3010: 2692, 3951: 2693, 1413: 2694, 3885: 2695, 680: 2696, 3038: 2697, 3047: 2698, 2180: 2699, 854: 2700, 3075: 2701, 2351: 2702, 3235: 2703, 1631: 2704, 3090: 2705, 3241: 2706, 2512: 2707, 2440: 2708, 1572: 2709, 970: 2710, 3188: 2711, 2488: 2712, 2630: 2713, 3379: 2714, 2579: 2715, 3456: 2716, 2659: 2717, 183: 2718, 3547: 2719, 2824: 2720, 3559: 2721, 2689: 2722, 2830: 2723, 3568: 2724, 3731: 2725, 2864: 2726, 1132: 2727, 1068: 2728, 3680: 2729, 99: 2730, 2970: 2731, 1232: 2732, 3127: 2733, 2271: 2734, 3281: 2735, 2590: 2736, 1044: 2737, 3041: 2738, 3391: 2739, 3715: 2740, 3144: 2741, 1825: 2742, 31: 2743, 1323: 2744, 2475: 2745, 3449: 2746, 2552: 2747, 573: 2748, 2994: 2749, 3008: 2750, 685: 2751, 3128: 2752, 1397: 2753, 1399: 2754, 2276: 2755, 1547: 2756, 1482: 2757, 1725: 2758, 988: 2759, 2610: 2760, 1811: 2761, 2479: 2762, 2493: 2763, 2711: 2764, 301: 2765, 2679: 2766, 3711: 2767, 369: 2768, 57: 2769, 388: 2770, 613: 2771, 2963: 2772, 621: 2773, 483: 2774, 3839: 2775, 409: 2776, 1062: 2777, 3886: 2778, 761: 2779, 1626: 2780, 2614: 2781, 504: 2782, 3810: 2783, 547: 2784, 2894: 2785, 776: 2786, 137: 2787, 3909: 2788, 747: 2789, 717: 2790, 3867: 2791, 3796: 2792, 725: 2793, 3031: 2794, 2305: 2795, 1503: 2796, 767: 2797, 774: 2798, 2425: 2799, 3158: 2800, 3245: 2801, 3181: 2802, 2602: 2803, 1741: 2804, 2624: 2805, 2483: 2806, 1844: 2807, 3459: 2808, 2585: 2809, 3532: 2810, 1867: 2811, 1795: 2812, 1796: 2813, 1891: 2814, 2768: 2815, 2844: 2816, 1105: 2817, 1058: 2818, 525: 2819, 67: 2820, 80: 2821, 3902: 2822, 488: 2823, 632: 2824, 635: 2825, 495: 2826, 1646: 2827, 1550: 2828, 2445: 2829, 27: 2830, 295: 2831, 3761: 2832, 3162: 2833, 1874: 2834, 2865: 2835, 1346: 2836, 3180: 2837, 1746: 2838, 2651: 2839, 1854: 2840, 174: 2841, 191: 2842, 414: 2843, 354: 2844, 430: 2845, 433: 2846, 2889: 2847, 710: 2848, 1642: 2849, 2589: 2850, 2695: 2851, 3945: 2852, 2307: 2853, 3165: 2854, 3653: 2855, 2129: 2856, 3947: 2857, 149: 2858, 3149: 2859, 2785: 2860, 1427: 2861, 917: 2862, 1523: 2863, 1531: 2864, 2999: 2865, 1410: 2866, 2809: 2867, 1317: 2868, 2051: 2869, 2151: 2870, 3042: 2871, 3043: 2872, 3048: 2873, 2345: 2874, 2286: 2875, 3161: 2876, 964: 2877, 102: 2878, 119: 2879, 131: 2880, 3427: 2881, 1839: 2882, 1857: 2883, 1863: 2884, 3622: 2885, 2685: 2886, 3496: 2887, 505: 2888, 444: 2889, 3804: 2890, 537: 2891, 3695: 2892, 2031: 2893, 2032: 2894, 2900: 2895, 1484: 2896, 1076: 2897, 570: 2898, 662: 2899, 1533: 2900, 1471: 2901, 877: 2902, 3187: 2903, 1585: 2904, 1664: 2905, 3343: 2906, 263: 2907, 3562: 2908, 3716: 2909, 1114: 2910, 1150: 2911, 2964: 2912, 2062: 2913, 3050: 2914, 2569: 2915, 3563: 2916, 2839: 2917, 3851: 2918, 2075: 2919, 3544: 2920, 811: 2921, 751: 2922, 1508: 2923, 3221: 2924, 958: 2925, 128: 2926, 3577: 2927, 2008: 2928, 77: 2929, 3830: 2930, 2897: 2931, 3854: 2932, 250: 2933, 1423: 2934, 844: 2935, 3215: 2936, 3222: 2937, 3171: 2938, 3714: 2939, 3586: 2940, 3734: 2941, 2704: 2942, 1382: 2943, 3139: 2944, 2477: 2945, 3367: 2946, 2655: 2947, 3487: 2948, 2902: 2949, 3732: 2950, 210: 2951, 2627: 2952, 3667: 2953, 1870: 2954, 2751: 2955, 1134: 2956, 3765: 2957, 3572: 2958, 2799: 2959, 619: 2960, 2848: 2961, 1598: 2962, 3931: 2963, 2992: 2964, 1330: 2965, 1335: 2966, 3021: 2967, 841: 2968, 3058: 2969, 3351: 2970, 2636: 2971, 2740: 2972, 3488: 2973, 2903: 2974, 3573: 2975, 2784: 2976, 3833: 2977, 3838: 2978, 3692: 2979, 2095: 2980, 3339: 2981, 2362: 2982, 2388: 2983, 3569: 2984, 652: 2985, 755: 2986, 834: 2987, 882: 2988, 3345: 2989, 2886: 2990, 3777: 2991, 1496: 2992, 656: 2993, 3119: 2994, 3318: 2995, 3335: 2996, 3344: 2997, 3346: 2998, 2545: 2999, 1743: 3000, 1695: 3001, 3490: 3002, 3651: 3003, 2855: 3004, 1989: 3005, 1990: 3006, 2868: 3007, 600: 3008, 1165: 3009, 1002: 3010, 3372: 3011, 840: 3012, 865: 3013, 867: 3014, 2446: 3015, 1679: 3016, 1822: 3017, 3531: 3018, 3645: 3019, 3669: 3020, 1164: 3021, 1362: 3022, 3446: 3023, 681: 3024, 1332: 3025, 2464: 3026, 3276: 3027, 3133: 3028, 3310: 3029, 3665: 3030, 3781: 3031, 1826: 3032, 343: 3033, 484: 3034, 2219: 3035, 2256: 3036, 726: 3037, 3106: 3038, 2237: 3039, 2521: 3040, 2386: 3041, 3289: 3042, 3445: 3043, 331: 3044, 375: 3045, 722: 3046, 3894: 3047, 1384: 3048, 2673: 3049, 2825: 3050, 2843: 3051, 1039: 3052, 2933: 3053, 1163: 3054, 1525: 3055, 3239: 3056, 1490: 3057, 3240: 3058, 243: 3059, 1798: 3060, 470: 3061, 1351: 3062, 1511: 3063, 2175: 3064, 2281: 3065, 2293: 3066, 1651: 3067, 3183: 3068, 997: 3069, 2620: 3070, 1791: 3071, 1006: 3072, 335: 3073, 422: 3074, 75: 3075, 2885: 3076, 2400: 3077, 1067: 3078, 2733: 3079, 1153: 3080, 1383: 3081, 2810: 3082, 49: 3083, 939: 3084, 1817: 3085, 1749: 3086, 3670: 3087, 124: 3088, 1659: 3089, 228: 3090, 1773: 3091, 2767: 3092, 283: 3093, 478: 3094, 2298: 3095, 881: 3096, 3626: 3097, 807: 3098, 2055: 3099, 2896: 3100, 1906: 3101, 96: 3102, 1406: 3103, 2063: 3104, 3817: 3105, 1149: 3106, 1341: 3107, 2465: 3108, 2754: 3109, 3637: 3110, 2853: 3111, 746: 3112, 2618: 3113, 3374: 3114, 106: 3115, 1809: 3116, 1455: 3117, 705: 3118, 2715: 3119, 1758: 3120, 828: 3121, 2837: 3122, 626: 3123, 1865: 3124, 3739: 3125, 2179: 3126, 3293: 3127, 3912: 3128, 2074: 3129, 1538: 3130, 3790: 3131, 3428: 3132, 2847: 3133, 2854: 3134, 3832: 3135, 3691: 3136, 2128: 3137, 1336: 3138, 2326: 3139, 2737: 3140, 3721: 3141, 2044: 3142, 2982: 3143, 2275: 3144, 1837: 3145, 1113: 3146, 1133: 3147, 347: 3148, 1720: 3149, 1440: 3150, 578: 3151, 3410: 3152, 411: 3153, 658: 3154, 2931: 3155, 2911: 3156, 3892: 3157, 3122: 3158, 3143: 3159, 3368: 3160, 2481: 3161, 2201: 3162, 2342: 3163, 1656: 3164, 1312: 3165, 1000: 3166, 212: 3167, 56: 3168, 1412: 3169, 462: 3170, 121: 3171, 3648: 3172, 1893: 3173, 716: 3174, 2586: 3175, 1579: 3176, 2522: 3177, 37: 3178, 2487: 3179, 3900: 3180, 2056: 3181, 2131: 3182, 731: 3183, 1447: 3184, 2850: 3185, 3805: 3186, 1501: 3187, 103: 3188, 2778: 3189, 1056: 3190, 61: 3191, 1903: 3192, 2486: 3193, 2834: 3194, 200: 3195, 270: 3196, 1899: 3197, 2158: 3198, 3737: 3199, 3875: 3200, 1087: 3201, 2743: 3202, 114: 3203, 3940: 3204, 443: 3205, 2211: 3206, 2227: 3207, 992: 3208, 3291: 3209, 3442: 3210, 1853: 3211, 2164: 3212, 3313: 3213, 2753: 3214, 3632: 3215, 3314: 3216, 2658: 3217, 3611: 3218, 3878: 3219, 888: 3220, 1570: 3221, 3759: 3222, 3775: 3223, 3848: 3224, 402: 3225, 3137: 3226, 576: 3227, 2631: 3228, 297: 3229, 1558: 3230, 1565: 3231, 3588: 3232, 1549: 3233, 1692: 3234, 1168: 3235, 2869: 3236, 3862: 3237, 3140: 3238, 3944: 3239, 2892: 3240, 3866: 3241, 3891: 3242, 3899: 3243, 1026: 3244, 3025: 3245, 3407: 3246, 3463: 3247, 1170: 3248, 304: 3249, 2452: 3250, 2842: 3251, 3223: 3252, 1846: 3253, 1567: 3254, 136: 3255, 3378: 3256, 3232: 3257, 1458: 3258, 2466: 3259, 2536: 3260, 386: 3261, 554: 3262, 2200: 3263, 850: 3264, 545: 3265, 1117: 3266, 614: 3267, 2577: 3268, 167: 3269, 2773: 3270, 1040: 3271, 385: 3272, 3803: 3273, 2593: 3274, 2760: 3275, 1696: 3276, 2397: 3277, 2756: 3278, 3575: 3279, 3845: 3280, 3306: 3281, 2207: 3282, 1494: 3283, 2509: 3284, 3184: 3285, 3647: 3286, 2727: 3287, 244: 3288, 2304: 3289, 2914: 3290, 2960: 3291, 2061: 3292, 2317: 3293, 2185: 3294, 2187: 3295, 1864: 3296, 734: 3297, 2215: 3298, 1493: 3299, 1829: 3300, 2675: 3301, 1151: 3302, 2510: 3303, 1793: 3304, 3570: 3305, 3026: 3306, 2156: 3307, 2251: 3308, 3880: 3309, 1668: 3310, 1814: 3311, 3495: 3312, 1514: 3313, 1561: 3314, 3319: 3315, 359: 3316, 2945: 3317, 310: 3318, 925: 3319, 1901: 3320, 2578: 3321, 59: 3322, 3523: 3323, 2283: 3324, 2449: 3325, 452: 3326, 2244: 3327, 397: 3328, 2332: 3329, 1575: 3330, 756: 3331, 2691: 3332, 2813: 3333, 2538: 3334, 2191: 3335, 792: 3336, 3218: 3337, 3402: 3338, 3800: 3339, 3850: 3340, 3333: 3341, 2981: 3342, 821: 3343, 220: 3344, 1426: 3345, 2350: 3346, 2556: 3347, 1144: 3348, 2934: 3349, 1622: 3350, 1636: 3351, 980: 3352, 814: 3353, 394: 3354, 702: 3355, 744: 3356, 2246: 3357, 1486: 3358, 1154: 3359, 1160: 3360, 1504: 3361, 2197: 3362, 1574: 3363, 33: 3364, 3574: 3365, 2775: 3366, 389: 3367, 1071: 3368, 559: 3369, 1671: 3370, 3482: 3371, 3126: 3372, 1324: 3373, 189: 3374, 1174: 3375, 1898: 3376, 108: 3377, 2758: 3378, 3209: 3379, 2192: 3380, 1519: 3381, 1098: 3382, 1369: 3383, 3151: 3384, 1038: 3385, 2923: 3386, 3027: 3387, 1433: 3388, 3847: 3389, 3757: 3390, 3772: 3391, 2257: 3392, 3492: 3393, 598: 3394, 563: 3395, 729: 3396, 730: 3397, 758: 3398, 2233: 3399, 2234: 3400, 2441: 3401, 245: 3402, 1872: 3403, 264: 3404, 3636: 3405, 1116: 3406, 672: 3407, 682: 3408, 698: 3409, 3116: 3410, 862: 3411, 2503: 3412, 895: 3413, 2557: 3414, 2705: 3415, 197: 3416, 2765: 3417, 53: 3418, 526: 3419, 90: 3420, 567: 3421, 962: 3422, 618: 3423, 2172: 3424, 120: 3425, 2209: 3426, 703: 3427, 3003: 3428, 967: 3429, 2814: 3430, 2823: 3431, 3486: 3432, 3642: 3433, 972: 3434, 641: 3435, 2608: 3436, 1444: 3437, 1850: 3438, 3657: 3439, 1138: 3440, 2776: 3441, 1436: 3442, 769: 3443, 985: 3444, 1675: 3445, 2576: 3446, 3542: 3447, 192: 3448, 2127: 3449, 887: 3450, 712: 3451, 2831: 3452, 2358: 3453, 1849: 3454, 1121: 3455, 1181: 3456, 2562: 3457, 3205: 3458, 3644: 3459, 401: 3460, 2221: 3461, 3131: 3462, 3228: 3463, 1315: 3464, 864: 3465, 219: 3466, 3294: 3467, 3305: 3468, 3380: 3469, 643: 3470, 3419: 3471, 2632: 3472, 3888: 3473, 823: 3474, 2619: 3475, 1877: 3476, 3722: 3477, 2101: 3478, 2563: 3479, 3905: 3480, 853: 3481, 3904: 3482, 1548: 3483, 1878: 3484, 666: 3485, 1360: 3486, 1364: 3487, 696: 3488, 3517: 3489, 2984: 3490, 3601: 3491, 3322: 3492, 3303: 3493, 3887: 3494, 579: 3495, 2235: 3496, 789: 3497, 796: 3498, 3212: 3499, 3216: 3500, 2277: 3501, 3220: 3502, 1630: 3503, 977: 3504, 1652: 3505, 2484: 3506, 1852: 3507, 3621: 3508, 2821: 3509, 3493: 3510, 3641: 3511, 1115: 3512, 1118: 3513, 601: 3514, 3828: 3515, 1142: 3516, 1145: 3517, 3687: 3518, 2887: 3519, 623: 3520, 644: 3521, 651: 3522, 3876: 3523, 660: 3524, 1510: 3525, 1386: 3526, 859: 3527, 3136: 3528, 1553: 3529, 3166: 3530, 3312: 3531, 1718: 3532, 3321: 3533, 142: 3534, 1908: 3535, 1764: 3536, 2584: 3537, 1787: 3538, 2742: 3539, 3778: 3540, 3283: 3541, 884: 3542, 3085: 3543, 1685: 3544, 3748: 3545, 1528: 3546, 2591: 3547, 3595: 3548, 815: 3549, 2254: 3550, 2299: 3551, 1520: 3552, 775: 3553, 1420: 3554, 684: 3555, 690: 3556, 1534: 3557, 3652: 3558, 3277: 3559, 3666: 3560, 3522: 3561, 3295: 3562, 3377: 3563, 557: 3564, 1107: 3565, 560: 3566, 3458: 3567, 706: 3568, 2226: 3569, 1815: 3570, 2444: 3571, 3353: 3572, 3288: 3573, 3352: 3574, 1770: 3575, 398: 3576, 989: 3577, 2783: 3578, 1532: 3579, 966: 3580, 874: 3581, 1886: 3582, 2592: 3583, 657: 3584, 3890: 3585, 2039: 3586, 749: 3587, 3818: 3588, 582: 3589, 642: 3590, 3297: 3591, 732: 3592, 2930: 3593, 3057: 3594, 3472: 3595, 130: 3596, 139: 3597, 2955: 3598, 655: 3599, 3485: 3600, 790: 3601, 1915: 3602, 2833: 3603, 1714: 3604, 3207: 3605, 3242: 3606, 3533: 3607, 1851: 3608, 1830: 3609, 3881: 3610, 2777: 3611, 3443: 3612, 757: 3613, 2895: 3614, 889: 3615, 1470: 3616, 981: 3617, 679: 3618, 3373: 3619, 872: 3620, 3381: 3621, 1555: 3622, 3779: 3623, 791: 3624, 3609: 3625, 1430: 3626, 1724: 3627, 2223: 3628, 3233: 3629, 3237: 3630, 3762: 3631, 3172: 3632, 3065: 3633, 3631: 3634, 1139: 3635, 3603: 3636, 3842: 3637, 572: 3638, 2213: 3639, 2217: 3640, 3202: 3641, 975: 3642, 3376: 3643, 311: 3644, 1905: 3645, 2258: 3646, 2623: 3647, 3236: 3648, 396: 3649, 868: 3650, 3413: 3651, 1316: 3652, 878: 3653, 226: 3654, 2811: 3655, 827: 3656, 584: 3657, 1820: 3658, 607: 3659, 701: 3660, 2214: 3661, 763: 3662, 3229: 3663, 820: 3664, 3337: 3665, 138: 3666, 530: 3667, 1070: 3668, 843: 3669, 3336: 3670, 3460: 3671, 3123: 3672, 133: 3673, 3290: 3674, 1709: 3675, 3164: 3676, 3315: 3677, 1832: 3678, 439: 3679, 134: 3680, 2480: 3681, 1842: 3682, 2309: 3683, 3084: 3684, 2218: 3685, 2308: 3686, 624: 3687, 1434: 3688, 1868: 3689, 404: 3690, 2543: 3691, 591: 3692, 3656: 3693, 2438: 3694, 3323: 3695, 127: 3696, 3382: 3697, 1843: 3698, 286: 3699, 3530: 3700, 2198: 3701, 2703: 3702, 2845: 3703, 3607: 3704, 2909: 3705}\n",
            "[   0    0    0 ... 6039 6039 6039]\n",
            "[  0   1   2 ... 365 152  26]\n",
            "[[5. 3. 3. ... 0. 0. 0.]\n",
            " [5. 0. 0. ... 0. 0. 0.]\n",
            " [0. 0. 0. ... 0. 0. 0.]\n",
            " ...\n",
            " [0. 0. 0. ... 0. 0. 0.]\n",
            " [0. 0. 4. ... 0. 0. 0.]\n",
            " [4. 0. 0. ... 0. 0. 0.]]\n",
            "(6040, 3706)\n",
            "700630\n"
          ]
        }
      ]
    },
    {
      "cell_type": "code",
      "source": [
        "# calculate the prediction_mat by the baseline estimation recommendation algorithm\n",
        "# Your Code Here...\n",
        "\n",
        "mean_rating = (np.average(train_df['Rating']))\n",
        "b_user = np.zeros(num_user)\n",
        "b_movie = np.zeros(num_movie)\n",
        "prediction_mat = np.zeros([num_user,num_movie])\n",
        "\n",
        "\n",
        "for i in range(num_user):\n",
        "  count1 = num_movie\n",
        "  if np.sum(train_mat[i,:]) == 0:\n",
        "    b_user[i] = 0\n",
        "    continue\n",
        "  for k in range(num_movie):\n",
        "    if train_mat[i][k] == 0:\n",
        "      count1 = count1 - 1\n",
        "  b_user[i] = ((np.sum(train_mat[i,:]))/(count1))- mean_rating\n",
        "\n",
        "for j in range(num_movie):\n",
        "  count2 = num_user\n",
        "  if np.sum(train_mat[:,j]) == 0:\n",
        "    b_movie[j] = 0\n",
        "    continue\n",
        "  for l in range(num_user):\n",
        "    if train_mat[l][j] == 0:\n",
        "      count2 = count2 - 1\n",
        "  b_movie[j] = ((np.sum(train_mat[:,j]))/(count2)) - mean_rating\n",
        "\n",
        "\n",
        "\n",
        "\n",
        "for i in range(num_user):\n",
        "  for j in range(num_movie):\n",
        "    if test_mat[i][j] > 0:\n",
        "      prediction_mat[i][j] = mean_rating + b_user[i] + b_movie[j]\n"
      ],
      "metadata": {
        "id": "SHqawSeQzpR_"
      },
      "execution_count": 82,
      "outputs": []
    },
    {
      "cell_type": "markdown",
      "source": [
        "Now, with this prediction_mat based on the baseline estimate, let's calculate the RMSE to evaluate the quality of the baseline estimate model. Please print out the RMSE of your prediction_mat using test_mat in the next cell.\n"
      ],
      "metadata": {
        "id": "IXRS-CC_zpuT"
      }
    },
    {
      "cell_type": "code",
      "source": [
        "# calculate and print out the RMSE for your prediction_df and the test_df\n",
        "# Your Code Here...\n",
        "import math\n",
        "\n",
        "SE = 0\n",
        "count4 = 0\n",
        "for i in range(num_user):\n",
        "  for j in range(num_movie):\n",
        "    if test_mat[i][j] != 0:\n",
        "      SE = SE + pow((prediction_mat[i][j] - test_mat[i][j]),2)\n",
        "      count4 = count4 +1 \n",
        "\n",
        "\n",
        "RMSE = math.sqrt(SE/ count4)\n",
        "print(\"The RMSE value we obtain using our Baseline estimation Recommendation model is \", RMSE)\n",
        "\n"
      ],
      "metadata": {
        "id": "sqMsJrtTzr8f",
        "colab": {
          "base_uri": "https://localhost:8080/"
        },
        "outputId": "03f9a1f7-4f9b-4944-cc66-bdbe18130c34"
      },
      "execution_count": 83,
      "outputs": [
        {
          "output_type": "stream",
          "name": "stdout",
          "text": [
            "The RMSE value we obtain using our Baseline estimation Recommendation model is  0.9368475159224561\n"
          ]
        }
      ]
    },
    {
      "cell_type": "markdown",
      "source": [
        "The RMSE value we obtain using our Baseline estimation Recommendation model is  0.9380423113333937 "
      ],
      "metadata": {
        "id": "_1aFGpuN2Rut"
      }
    },
    {
      "cell_type": "markdown",
      "source": [
        "## Part 3b: Collaborative Filtering with Jaccard Similarity (15 points)\n",
        "\n",
        "In this part, you need to build a collaborative filtering recommendation model with **Jaccard similarity** to predict user-movie ratings. \n",
        "\n",
        "The prediction of the score for a user-item pair $(u,i)$ should use the formulation: $p_{u,i}=\\bar{r}_u+\\frac{\\sum_{u^\\prime\\in N}s(u,u^\\prime)(r_{u^\\prime,i}-\\bar{r}_{u^\\prime})}{\\sum_{u^\\prime\\in N}|s(u, u^\\prime)|}$ as introduced in class, where $s(u, u^\\prime)$ is the Jaccard similarity. We set the size of $N$ as 10.\n",
        "\n",
        "In the next cell, you need to write your code to implement this algorithm, and generate a numpy array variable named 'prediction_mat' of size (#user, #movie) with each entry showing the predicted rating for the corresponding user-movie pair.\n",
        "\n",
        "* Hint: when you find the nearest neighbor set $N$ of a user $u$, do not include user $u$ in $N$  \n"
      ],
      "metadata": {
        "id": "3V_S-DXXztyu"
      }
    },
    {
      "cell_type": "code",
      "source": [
        "# calculate the prediction_mat by your user-user collaborative filtering recommendation algorithm\n",
        "# Your Code Here...\n",
        "#get user-user similiarity matrix\n",
        "import numpy as np\n",
        "from sklearn.metrics import jaccard_score\n",
        "from sklearn.metrics.pairwise import pairwise_distances\n",
        "jac_sim = 1 - pairwise_distances(train_mat, metric = \"hamming\")\n",
        "\n",
        "\n",
        "\n"
      ],
      "metadata": {
        "id": "Sxf9YBSDz3Gm"
      },
      "execution_count": 42,
      "outputs": []
    },
    {
      "cell_type": "code",
      "source": [
        "#get the neighborhood\n",
        "topten = [{}] * num_user\n",
        "top11 = np.zeros(11)\n",
        "top10 = np.zeros(10)\n",
        "top11v = np.zeros(11)\n",
        "top10v = np.zeros(10)\n",
        "for i in range(num_user):\n",
        "  top11 = np.argsort(jac_sim[i,:])[::-1][:11]\n",
        "  top10 = top11[1:11]\n",
        "  top11v = np.sort(jac_sim[i,:])[::-1][:11]\n",
        "  top10v = top11v[1:10]\n",
        "  topten[i] = dict(zip(top10,top10v))\n"
      ],
      "metadata": {
        "id": "lETeSC177nU8"
      },
      "execution_count": 43,
      "outputs": []
    },
    {
      "cell_type": "code",
      "source": [
        "rbar = np.zeros(num_user)\n",
        "for i in range(num_user):\n",
        "  count1 = num_movie\n",
        "  for k in range(num_movie):\n",
        "    if train_mat[i][k] == 0:\n",
        "      count1 = count1 - 1\n",
        "  if count1 ==  0:\n",
        "      count1 = 1\n",
        "  rbar[i] = ((np.sum(train_mat[i,:]))/(count1))\n"
      ],
      "metadata": {
        "id": "wxvKPvcyFDj9"
      },
      "execution_count": 44,
      "outputs": []
    },
    {
      "cell_type": "code",
      "source": [
        "#get prediction matrix\n",
        "rf = 0\n",
        "pred_mat = np.zeros([num_user,num_movie])\n",
        "for i in range(num_user):\n",
        "  for j in range(num_movie):\n",
        "    if test_mat[i][j] != 0:\n",
        "      rfn = 0\n",
        "      rfd = 0\n",
        "      for u in (topten[i].keys()):\n",
        "        if train_mat[u][j] != 0:\n",
        "          rfn = rfn + ((topten[i][u]) * ((train_mat[u][j])-rbar[u]))\n",
        "          rfd = rfd + abs(topten[i][u])\n",
        "      if(rfd == 0):\n",
        "        rf = 0\n",
        "      else:\n",
        "        rf = rfn/rfd\n",
        "\n",
        "\n",
        "    pred_mat[i][j] = rbar[i] + rf\n",
        "    \n",
        "print(pred_mat)"
      ],
      "metadata": {
        "colab": {
          "base_uri": "https://localhost:8080/"
        },
        "id": "huCDCaN15cZo",
        "outputId": "0145e966-55d1-47ea-c1ca-68d5a769097a"
      },
      "execution_count": 45,
      "outputs": [
        {
          "output_type": "stream",
          "name": "stdout",
          "text": [
            "[[4.18421053 4.18421053 4.18421053 ... 4.18421053 4.18421053 4.18421053]\n",
            " [3.69791667 3.69791667 3.69791667 ... 3.69791667 3.69791667 3.69791667]\n",
            " [3.84848485 3.84848485 3.84848485 ... 3.84848485 3.84848485 3.84848485]\n",
            " ...\n",
            " [4.         4.         4.         ... 4.         4.         4.        ]\n",
            " [3.85882353 3.85882353 3.85882353 ... 3.85882353 3.85882353 3.85882353]\n",
            " [3.59591837 3.59591837 3.59591837 ... 3.59591837 3.59591837 3.59591837]]\n"
          ]
        }
      ]
    },
    {
      "cell_type": "markdown",
      "source": [
        "Please print out the RMSE of your prediction_mat using test_mat in the next cell."
      ],
      "metadata": {
        "id": "jrtLUo75z3kx"
      }
    },
    {
      "cell_type": "code",
      "source": [
        "# calculate and print out the RMSE for your prediction_df and the test_df\n",
        "# Your Code Here...\n",
        "import math\n",
        "count5 = 0\n",
        "SE = 0\n",
        "for i in range(num_user):\n",
        "  for j in range(num_movie):\n",
        "    if test_mat[i][j] != 0:\n",
        "      SE = SE + pow((pred_mat[i][j] - test_mat[i][j]),2)\n",
        "      count5 = count5 +1 \n",
        "\n",
        "\n",
        "RMSE = math.sqrt(SE/ count5)\n",
        "print(\"The RMSE value we obtain using our collaborative filtering Recommendation model is \", RMSE)"
      ],
      "metadata": {
        "id": "cAn9BwQ8z50h",
        "colab": {
          "base_uri": "https://localhost:8080/"
        },
        "outputId": "2f64e201-9c71-4dad-9c89-a68435082c58"
      },
      "execution_count": 46,
      "outputs": [
        {
          "output_type": "stream",
          "name": "stdout",
          "text": [
            "The RMSE value we obtain using our collaborative filtering Recommendation model is  1.0640971185163772\n"
          ]
        }
      ]
    },
    {
      "cell_type": "markdown",
      "source": [
        "Comparing the RMSE results of this collaborative filtering and the baseline estimate algorithm, what do you observe? Is the  collaborative filtering the one producing the best performance? What reasons do you think can explain what you observe?"
      ],
      "metadata": {
        "id": "kANk-3sez7bo"
      }
    },
    {
      "cell_type": "markdown",
      "source": [
        "*Write your answer here...*\n",
        "\n",
        "Comparing the RMSE results of collaborative filtering and the baseline estimate algorithm, I observed that my baseline estimate performed better than the colloborative filtering method.\n",
        "\n",
        "Usually, the collaborative filtering model should work well incomparsion with the base line model, but it doesn't work that well here for the following reasons:\n",
        "\n",
        "CF model doesn't do that well when the training matrix is very sparse, because there is a high chance of missing ratings for many neighbors for a user and still there is a possibility of obtaining high value of jaccard similarity between both the users."
      ],
      "metadata": {
        "id": "rdR-FzXk0BN9"
      }
    },
    {
      "cell_type": "markdown",
      "source": [
        "## Part 3c: Matrix Factorization (15 points)\n",
        "\n",
        "Now we turn to matrix factorization. First, let's implement the matrix factorization (MF for short) model introduced in class. The MF model can be mathematically represented as: \n",
        "\n",
        "<center>$\\underset{\\mathbf{P},\\mathbf{Q}}{\\text{min}}\\,\\,L=\\sum_{(u,i)\\in\\mathcal{O}}(\\mathbf{P}_u\\cdot\\mathbf{Q}^\\top_i-r_{u,i})^2+\\lambda(\\lVert\\mathbf{P}\\rVert^2_{\\text{F}}+\\lVert\\mathbf{Q}\\rVert^2_{\\text{F}})$,</center>\n",
        "    \n",
        "where $\\mathbf{P}$ is the user latent factor matrix of size (#user, #latent); $\\mathbf{Q}$ is the movie latent factor matrix of size (#movie, #latent); $\\mathcal{O}$ is a user-movie pair set containing all user-movie pairs having ratings in train_mat; $r_{u,i}$ represents the rating for user u and movie i; $\\lambda(\\lVert\\mathbf{P}\\rVert^2_{\\text{F}}+\\lVert\\mathbf{Q}\\rVert^2_{\\text{F}})$ is the regularization term to overcome overfitting problem, $\\lambda$ is the regularization weight (a hyper-parameter manually set by developer, i.e., you), and $\\lVert\\mathbf{P}\\rVert^2_{\\text{F}}=\\sum_{x}\\sum_{y}(\\mathbf{P}_{x,y})^2$, $\\lVert\\mathbf{Q}\\rVert^2_{\\text{F}}=\\sum_{x}\\sum_{y}(\\mathbf{Q}_{x,y})^2$. Such an L function is called the **loss function** for the matrix factorization model. The goal of training an MF model is to find appropriate $\\mathbf{P}$ and $\\mathbf{Q}$ to minimize the loss L.\n",
        "\n",
        "To implement such an MF, here we will write a Python class for the model. There are three functions in this MF class: init, train, and predict. \n",
        "\n",
        "* The 'init' function (**already provided**) is to initialize the variables the MF class needs, which takes 5 inputs: train_mat, test_mat, latent, lr, and reg. 'train_mat' and 'test_mat' are the corresponfing training and testing matrices we have. 'latent' represents the latent dimension we set for the MF model. 'lr' represents the learning rate, i.e., the update step in each optimization iteration, default is 0.01. 'reg' represents the regularization weight, i.e., the $\\lambda$ in the MF formulation.\n",
        "\n",
        "* The 'train' function (**partially provided and need to complete**) is to train the MF model given the training data train_mat. There is only one input to this function: an int variable 'epoch' to indicate how many epochs for training the model. The main body of this function should be a loop for 'epoch' iterations. In each iteration, following the algorithm to update the MF model:\n",
        "\n",
        "        1. Randomly shuffle training user-movie pairs  (i.e., user-movie pairs having ratings in train_mat)\n",
        "        2. Have an inner loop to iterate each user-movie pair:\n",
        "                a. given a user-movie pair (u,i), update the user latent factor and movie latent factor by gradient decsent:    \n",
        "<center>$\\mathbf{P}_u=\\mathbf{P}_u-\\gamma [2(\\mathbf{P}_u\\cdot\\mathbf{Q}_i^\\top-r_{u,i})\\cdot\\mathbf{Q}_i+2\\lambda\\mathbf{P}_u]$</center>    \n",
        "<center>$\\mathbf{Q}_i=\\mathbf{Q}_i-\\gamma [2(\\mathbf{P}_u\\cdot\\mathbf{Q}_i^\\top-r_{u,i})\\cdot\\mathbf{P}_u+2\\lambda\\mathbf{Q}_i]$</center>    \n",
        "<center>where $\\mathbf{P}_u$ and $\\mathbf{Q}_i$ are row vectors of size (1, #latent), $\\gamma$ is learning rate (default is 0.01), $\\lambda$ is regularization weight.</center>\n",
        "        \n",
        "        3. After iterating over all user-movie pairs, we have finished the training for the current epoch. Now calculate and print out the value of the loss function L after this epoch, and the RMSE on test_mat by the current MF model. Then append them to lists to keep a record of them.\n",
        "The train function needs to return two lists: 'epoch_loss_list' recording the loss after each training epoch, and 'epoch_test_RMSE_list' recording the RMSE on test_mat after each training epoch.\n",
        "\n",
        "* The 'predict' function (**already provided**) is to calculate the prediction_mat by the learned $\\mathbf{P}$ and $\\mathbf{Q}$.\n",
        "\n",
        "In the next cell, we provide the 'init' and 'predict' functions. You will need to fill in the 'train' function based on the description above. \n",
        "\n",
        "**NOTE that you should not delete or modify the provided code.**"
      ],
      "metadata": {
        "id": "6GCbSqrZ1PwQ"
      }
    },
    {
      "cell_type": "code",
      "source": [
        "import random\n",
        "class MF:\n",
        "    def __init__(self, train_mat, test_mat, latent=5, lr=0.01, reg=0.01):\n",
        "        self.train_mat = train_mat  # the training rating matrix of size (#user, #movie)\n",
        "        self.test_mat = test_mat  # the training rating matrix of size (#user, #movie)\n",
        "        \n",
        "        self.latent = latent  # the latent dimension\n",
        "        self.lr = lr  # learning rate\n",
        "        self.reg = reg  # regularization weight, i.e., the lambda in the objective function\n",
        "        \n",
        "        self.num_user, self.num_movie = train_mat.shape\n",
        "        \n",
        "        self.sample_user, self.sample_movie = self.train_mat.nonzero()  # get the user-movie pairs having ratings in train_mat\n",
        "        self.num_sample = len(self.sample_user)  # the number of user-movie pairs having ratings in train_mat\n",
        "\n",
        "        self.train_indicator_mat = 1.0 * (train_mat > 0)  # binary matrix to indicate whether s user-movie pair has rating or not in train_mat\n",
        "        self.test_indicator_mat = 1.0 * (test_mat > 0)  # binary matrix to indicate whether s user-movie pair has rating or not in test_mat\n",
        "\n",
        "        self.P = np.random.random((self.num_user, self.latent))  # latent factors for users, size (#user, self.latent), randomly initialized\n",
        "        self.Q = np.random.random((self.num_movie, self.latent))  # latent factors for items, size (#movie, self.latent), randomly initialized\n",
        "\n",
        "\n",
        "    def train(self, epoch=20, verbose=True):\n",
        "        epoch_loss_list = []\n",
        "        epoch_test_RMSE_list = []\n",
        "        for e in range(epoch):\n",
        "            user_movie_pairs = list(zip(self.sample_user, self.sample_movie))\n",
        "            random.shuffle(user_movie_pairs)\n",
        "            for u in user_movie_pairs:\n",
        "                movie = int(u[1])\n",
        "                user = int(u[0])\n",
        "                self.updateLatentFactor(user, movie)\n",
        "\n",
        "            loss = 0\n",
        "            for u in user_movie_pairs:\n",
        "                movie = int(u[1])\n",
        "                user = int(u[0])\n",
        "                temp = np.dot(self.P[user], self.Q[movie].transpose()) - self.train_mat[user][movie]\n",
        "                loss += np.square(temp)   \n",
        "\n",
        "            train_loss = loss + (self.reg * (np.sum(np.square(self.Q)) + np.sum(np.square(self.P))))\n",
        "            prediction_mat = self.predict()\n",
        "            test_zeros = np.where(self.test_mat == 0)\n",
        "            prediction_mat[test_zeros] = 0\n",
        "\n",
        "\n",
        "            rmse_0 = np.subtract(prediction_mat, self.test_mat)\n",
        "            rmse_1 = np.sum(np.square(rmse_0))\n",
        "\n",
        "            test_nonzeros = np.count_nonzero(self.test_mat)\n",
        "            rmse_2 = np.divide(rmse_1, test_nonzeros)\n",
        "\n",
        "            rmse = np.sqrt(rmse_2)\n",
        "            print(f\"Epoch number : {e + 1}     Loss = {train_loss}    Test RMSE = {rmse}\")\n",
        "\n",
        "            epoch_loss_list.append(train_loss)\n",
        "            epoch_test_RMSE_list.append(rmse)\n",
        " \n",
        "        return epoch_loss_list, epoch_test_RMSE_list\n",
        "        \n",
        "        \n",
        "        \n",
        "    def updateLatentFactor(self, user, movie):\n",
        "\n",
        "      temp = 2 * (np.dot(self.P[user] , self.Q[movie].transpose()) - self.train_mat[user][movie])\n",
        "      user_latentfactor = self.P[user] - self.lr * (temp * self.Q[movie] + 2 * self.reg*self.P[user])\n",
        "      movie_latentfactor = self.Q[movie] - self.lr * (temp * self.P[user] + 2 * self.reg*self.Q[movie])\n",
        "      self.P[user] = user_latentfactor\n",
        "      self.Q[movie] = movie_latentfactor\n",
        "\n",
        "        \n",
        "    def predict(self):\n",
        "        prediction_mat = np.matmul(self.P, self.Q.T)\n",
        "        return prediction_mat"
      ],
      "metadata": {
        "id": "ISJd_HvQ15ji"
      },
      "execution_count": 29,
      "outputs": []
    },
    {
      "cell_type": "markdown",
      "source": [
        "Now, let's train an MF model based on your implementation. The code is provided, you just need to excute the next cell. The expectations are: \n",
        "\n",
        "* first, the code can be successfully excuted without error; \n",
        "* and second, the training loss and RMSE on **test_mat** of each training epoch should be printed out for all 20 epochs.\n",
        "\n",
        "\n",
        "* Hint: the expected time used for training is around 10s to 60s per training epoch."
      ],
      "metadata": {
        "id": "rIpA5p5v19Oo"
      }
    },
    {
      "cell_type": "code",
      "source": [
        "mf = MF(train_mat, test_mat, latent=5, lr=0.01, reg=0.001)\n",
        "epoch_loss_list, epoch_test_RMSE_list = mf.train(epoch=20)"
      ],
      "metadata": {
        "id": "8xBeR6gH2Avp",
        "colab": {
          "base_uri": "https://localhost:8080/"
        },
        "outputId": "bacce4b9-9101-4da9-ea3b-2e56411f47d1"
      },
      "execution_count": 30,
      "outputs": [
        {
          "output_type": "stream",
          "name": "stdout",
          "text": [
            "Epoch number : 1     Loss = 611133.6792001898    RMSE = 0.9543057731227282\n",
            "Epoch number : 2     Loss = 601493.5281556781    RMSE = 0.9513021828726675\n",
            "Epoch number : 3     Loss = 586422.8215964553    RMSE = 0.9434954017882804\n",
            "Epoch number : 4     Loss = 568516.7345265215    RMSE = 0.9346396455109127\n",
            "Epoch number : 5     Loss = 551371.0978372286    RMSE = 0.9265765913655474\n",
            "Epoch number : 6     Loss = 540686.6942025375    RMSE = 0.9225679167143854\n",
            "Epoch number : 7     Loss = 530678.1751966614    RMSE = 0.9169464892977759\n",
            "Epoch number : 8     Loss = 524547.5735601159    RMSE = 0.9148735238428287\n",
            "Epoch number : 9     Loss = 516975.0458340136    RMSE = 0.9110510463307372\n",
            "Epoch number : 10     Loss = 511349.3767695817    RMSE = 0.9096096558261969\n",
            "Epoch number : 11     Loss = 509424.16058952495    RMSE = 0.9082117522233883\n",
            "Epoch number : 12     Loss = 503942.579971672    RMSE = 0.9053267874714069\n",
            "Epoch number : 13     Loss = 501581.8883825873    RMSE = 0.9035992089227933\n",
            "Epoch number : 14     Loss = 499069.9737314478    RMSE = 0.9030746388189448\n",
            "Epoch number : 15     Loss = 497432.6211518824    RMSE = 0.9031448661063872\n",
            "Epoch number : 16     Loss = 495059.70111430297    RMSE = 0.9018631061742962\n",
            "Epoch number : 17     Loss = 495185.4049428671    RMSE = 0.9020478567112465\n",
            "Epoch number : 18     Loss = 495335.4033827045    RMSE = 0.9030687084614858\n",
            "Epoch number : 19     Loss = 493544.31189812406    RMSE = 0.9028156691072792\n",
            "Epoch number : 20     Loss = 490756.8148296488    RMSE = 0.9001786770800226\n"
          ]
        }
      ]
    },
    {
      "cell_type": "markdown",
      "source": [
        "## Part 3d: Tune Hyper-parameters in Matrix Factorization (10 points)\n",
        "\n",
        "In the previous part, we train an MF model with latent dimension set as 5, regularization weight as 0.001, training epoch as 20. However, it is not clear whether these are good choices or not. Hence, in this part, we will tune these hyper-parameters to train an effective model.\n",
        "\n",
        "A most straightforward but powerful method is to grid search each hyper-parameter and find the best one based on the RMSE on test_mat. In this part, we will do the grid search for train epoch, latent dimension, and regularization weight.\n",
        "\n",
        "#### Tune training epoch####\n",
        "\n",
        "For training epoch, we only need to run the experiment of MF for one time, and record the test RMSE for each epoch and find the epoch that produces the best test RMSE. To visually show the change of test RMSE corresponding to the training epoch, we can plot the test RMSE for each epoch in a figure as shown in the next cell.\n",
        "\n",
        "**Note that you need to first install the matplotlib, then you can excute the next cell**"
      ],
      "metadata": {
        "id": "hAoykVgg2BNl"
      }
    },
    {
      "cell_type": "code",
      "source": [
        "import matplotlib.pyplot as plt\n",
        "\n",
        "fig, ax = plt.subplots(nrows=1, ncols=1, figsize=(8, 4))\n",
        "ax.plot(np.arange(len(epoch_test_RMSE_list)) + 1, epoch_test_RMSE_list, marker='.', linewidth=1.5, markersize=8)\n",
        "ax.set_xticks(np.arange(len(epoch_test_RMSE_list)) + 1)\n",
        "ax.set_ylabel('test RMSE')\n",
        "ax.set_xlabel('epoch')\n",
        "ax.set_title('Tune training epoch')\n",
        "ax.grid(True)\n",
        "plt.tight_layout()\n",
        "plt.show()"
      ],
      "metadata": {
        "id": "GZPsAD8v2NIG",
        "colab": {
          "base_uri": "https://localhost:8080/",
          "height": 297
        },
        "outputId": "5907dd70-08cb-419e-ba67-37ff9d49b101"
      },
      "execution_count": 31,
      "outputs": [
        {
          "output_type": "display_data",
          "data": {
            "text/plain": [
              "<Figure size 576x288 with 1 Axes>"
            ],
            "image/png": "[encoded data removed]"
          },
          "metadata": {
            "needs_background": "light"
          }
        }
      ]
    },
    {
      "cell_type": "markdown",
      "source": [
        "\n",
        "Based on this plot, what is the best epoch for your MF model?"
      ],
      "metadata": {
        "id": "p2e5yapn2Q97"
      }
    },
    {
      "cell_type": "markdown",
      "source": [
        "*Write your answer here.*\n",
        "\n",
        " The best epoch obtained for my MF model is obtained to be 16"
      ],
      "metadata": {
        "id": "WSNd_J7S2Rmj"
      }
    },
    {
      "cell_type": "markdown",
      "source": [
        "#### Tune latent dimension####\n",
        "\n",
        "By this figure, you can find the best epoch for your MF model. Similarly, you can plot how the test RMSE changes when you set different latent dimensions. For this, you need to run the code to initialize and train the MF model for multiple times with different settings of 'latent'. Please run the MF model with 'latent' as {1,3,5,7,9}, and plot the corresponding test RMSE for these five different latent dimensions in the next cell. \n",
        "\n",
        "**Note that for these five runs of experiments, record the test RMSE after E training epochs -- E is the best epoch you find by the 'Tune training epoch' plot. And here, fix regularization weight as 0.001**.\n",
        "\n",
        "**Note that the expected output of the next cell is just the plot, you don't need to show the code and printing of the experiment with different 'latent' here.**"
      ],
      "metadata": {
        "id": "cHPTnd352W2O"
      }
    },
    {
      "cell_type": "code",
      "source": [
        "# Your Code Here...\n",
        "latent = [1,3,5,7,9]\n",
        "test_rmse = []\n",
        "for lt in latent:\n",
        "    print(\" MF with latent dimension setting : \",lt)\n",
        "    mf = MF(train_mat, test_mat, latent=lt, lr=0.01, reg=0.001)\n",
        "    epoch_loss_list, epoch_test_RMSE_list = mf.train(epoch=20)\n",
        "    test_rmse.append(epoch_test_RMSE_list)\n",
        "\n",
        "fig, ax = plt.subplots(nrows=1, ncols=1, figsize=(8, 4))\n",
        "\n",
        "for ind, i in enumerate(test_rmse):\n",
        "    ax.plot(np.arange(len(i)) + 1, i, marker='.', linewidth=1.5, markersize=8, label = \"Latent = \" + str(latent[ind]))\n",
        "    ax.set_xticks(np.arange(len(i)) + 1)\n",
        "ax.set_ylabel('test RMSE')\n",
        "ax.set_xlabel('epoch')\n",
        "ax.set_title('Tune training epoch')\n",
        "ax.grid(True)\n",
        "plt.tight_layout()\n",
        "plt.legend()\n",
        "plt.show()"
      ],
      "metadata": {
        "id": "6Mfr24w02d0D",
        "colab": {
          "base_uri": "https://localhost:8080/",
          "height": 1000
        },
        "outputId": "a0ea52d7-9ded-4f0d-d082-95dc4d76947b"
      },
      "execution_count": 32,
      "outputs": [
        {
          "output_type": "stream",
          "name": "stdout",
          "text": [
            " MF with latent dimension setting :  1\n",
            "Epoch number : 1     Loss = 630811.2485245588    RMSE = 0.9637374785865724\n",
            "Epoch number : 2     Loss = 612089.2118683999    RMSE = 0.9509630254446971\n",
            "Epoch number : 3     Loss = 609114.403013215    RMSE = 0.9474492948813544\n",
            "Epoch number : 4     Loss = 607698.6498984025    RMSE = 0.9475266928569138\n",
            "Epoch number : 5     Loss = 606220.6030652081    RMSE = 0.9460293872444325\n",
            "Epoch number : 6     Loss = 605481.0406847093    RMSE = 0.94549137170906\n",
            "Epoch number : 7     Loss = 603858.617199212    RMSE = 0.9438671508844443\n",
            "Epoch number : 8     Loss = 606715.8241865977    RMSE = 0.9461152191186439\n",
            "Epoch number : 9     Loss = 603652.9348435932    RMSE = 0.9435021605983288\n",
            "Epoch number : 10     Loss = 605095.6928911065    RMSE = 0.9456099574116981\n",
            "Epoch number : 11     Loss = 606363.6475902589    RMSE = 0.9460186715131785\n",
            "Epoch number : 12     Loss = 601836.1078479248    RMSE = 0.9421874664937069\n",
            "Epoch number : 13     Loss = 604977.3663497267    RMSE = 0.9447373798395425\n",
            "Epoch number : 14     Loss = 603784.6707607063    RMSE = 0.9443134463534624\n",
            "Epoch number : 15     Loss = 605002.170773639    RMSE = 0.9446543287093286\n",
            "Epoch number : 16     Loss = 604448.3577190755    RMSE = 0.9450967255022912\n",
            "Epoch number : 17     Loss = 605035.1745401165    RMSE = 0.9448351298517336\n",
            "Epoch number : 18     Loss = 603440.9932513376    RMSE = 0.9438847310391256\n",
            "Epoch number : 19     Loss = 606200.926151332    RMSE = 0.9462443313785205\n",
            "Epoch number : 20     Loss = 603880.4978291081    RMSE = 0.9447597217396451\n",
            " MF with latent dimension setting :  3\n",
            "Epoch number : 1     Loss = 618128.7195541946    RMSE = 0.9573551673838444\n",
            "Epoch number : 2     Loss = 603880.7167630481    RMSE = 0.9483169568700158\n",
            "Epoch number : 3     Loss = 591139.3016025102    RMSE = 0.940779015624806\n",
            "Epoch number : 4     Loss = 576507.4272402531    RMSE = 0.9331811180683124\n",
            "Epoch number : 5     Loss = 561043.2471351287    RMSE = 0.9243406817685281\n",
            "Epoch number : 6     Loss = 554134.2912577273    RMSE = 0.9203294216242314\n",
            "Epoch number : 7     Loss = 547745.3361881411    RMSE = 0.9169472107174346\n",
            "Epoch number : 8     Loss = 543053.5098806568    RMSE = 0.9152726438494103\n",
            "Epoch number : 9     Loss = 539270.8262128825    RMSE = 0.912962606414115\n",
            "Epoch number : 10     Loss = 536027.9107073547    RMSE = 0.9112373348901112\n",
            "Epoch number : 11     Loss = 534357.1092153898    RMSE = 0.9093233128238098\n",
            "Epoch number : 12     Loss = 534095.1813733932    RMSE = 0.910547604884558\n",
            "Epoch number : 13     Loss = 533803.4928473039    RMSE = 0.9105521692656772\n",
            "Epoch number : 14     Loss = 532279.1486978554    RMSE = 0.9084725215437905\n",
            "Epoch number : 15     Loss = 529174.3703866123    RMSE = 0.9076124003827045\n",
            "Epoch number : 16     Loss = 530589.1694824945    RMSE = 0.9079401221962186\n",
            "Epoch number : 17     Loss = 528652.4579859121    RMSE = 0.907525758494239\n",
            "Epoch number : 18     Loss = 528504.6703134334    RMSE = 0.907991559618236\n",
            "Epoch number : 19     Loss = 527828.4057524784    RMSE = 0.9072356198568052\n",
            "Epoch number : 20     Loss = 527781.8120499772    RMSE = 0.907534012815347\n",
            " MF with latent dimension setting :  5\n",
            "Epoch number : 1     Loss = 612179.5050338086    RMSE = 0.954056705171604\n",
            "Epoch number : 2     Loss = 596746.6455174508    RMSE = 0.947387068729305\n",
            "Epoch number : 3     Loss = 579055.2344124367    RMSE = 0.9383624559554361\n",
            "Epoch number : 4     Loss = 562606.520597259    RMSE = 0.930743261419324\n",
            "Epoch number : 5     Loss = 547839.9706636553    RMSE = 0.9246554707810385\n",
            "Epoch number : 6     Loss = 536534.8017505815    RMSE = 0.9187126518818227\n",
            "Epoch number : 7     Loss = 526453.5221173919    RMSE = 0.9144100055744581\n",
            "Epoch number : 8     Loss = 521724.57428744895    RMSE = 0.9125151963686815\n",
            "Epoch number : 9     Loss = 512644.306868367    RMSE = 0.9074551167001299\n",
            "Epoch number : 10     Loss = 509980.4522186329    RMSE = 0.906957238173771\n",
            "Epoch number : 11     Loss = 504502.2558091263    RMSE = 0.9038182347868413\n",
            "Epoch number : 12     Loss = 502305.7042710789    RMSE = 0.9033232410247054\n",
            "Epoch number : 13     Loss = 498700.3199319005    RMSE = 0.9012664523377983\n",
            "Epoch number : 14     Loss = 497460.34747346194    RMSE = 0.9018855412605802\n",
            "Epoch number : 15     Loss = 496170.4823196377    RMSE = 0.9008976280424639\n",
            "Epoch number : 16     Loss = 495810.8067493319    RMSE = 0.9010412326415667\n",
            "Epoch number : 17     Loss = 494239.5846695988    RMSE = 0.9016356468528752\n",
            "Epoch number : 18     Loss = 492190.89980542456    RMSE = 0.8997976583254957\n",
            "Epoch number : 19     Loss = 490360.8090957154    RMSE = 0.8990563047499535\n",
            "Epoch number : 20     Loss = 489494.7249545374    RMSE = 0.8992098316171585\n",
            " MF with latent dimension setting :  7\n",
            "Epoch number : 1     Loss = 606296.9666296717    RMSE = 0.9524463830141405\n",
            "Epoch number : 2     Loss = 594114.9826754946    RMSE = 0.9495810105722406\n",
            "Epoch number : 3     Loss = 575013.8885776774    RMSE = 0.9409202933003895\n",
            "Epoch number : 4     Loss = 553864.9461050548    RMSE = 0.9323566655084217\n",
            "Epoch number : 5     Loss = 536388.8266641498    RMSE = 0.9263493286406239\n",
            "Epoch number : 6     Loss = 522239.3599285761    RMSE = 0.9208119894682834\n",
            "Epoch number : 7     Loss = 513031.26785070746    RMSE = 0.9177615758387514\n",
            "Epoch number : 8     Loss = 503572.92258698307    RMSE = 0.9148802839530055\n",
            "Epoch number : 9     Loss = 495333.95519008493    RMSE = 0.9110585412307471\n",
            "Epoch number : 10     Loss = 490825.03600841394    RMSE = 0.9099380677518482\n",
            "Epoch number : 11     Loss = 486202.7833126022    RMSE = 0.90768884574339\n",
            "Epoch number : 12     Loss = 480948.4812666757    RMSE = 0.9057301224840204\n",
            "Epoch number : 13     Loss = 478021.45882117865    RMSE = 0.9051524929869593\n",
            "Epoch number : 14     Loss = 475036.1696564021    RMSE = 0.903865112627931\n",
            "Epoch number : 15     Loss = 472356.524488462    RMSE = 0.9029638249695905\n",
            "Epoch number : 16     Loss = 470881.12138330244    RMSE = 0.9030369955791514\n",
            "Epoch number : 17     Loss = 469336.801717374    RMSE = 0.9024340931795225\n",
            "Epoch number : 18     Loss = 466888.1164821518    RMSE = 0.9016581348273575\n",
            "Epoch number : 19     Loss = 465609.87106106477    RMSE = 0.901509995166916\n",
            "Epoch number : 20     Loss = 465898.36598335824    RMSE = 0.9023552470782825\n",
            " MF with latent dimension setting :  9\n",
            "Epoch number : 1     Loss = 601981.5280602522    RMSE = 0.9515360341417046\n",
            "Epoch number : 2     Loss = 586819.8432562728    RMSE = 0.9483563311500735\n",
            "Epoch number : 3     Loss = 565907.9408674175    RMSE = 0.9417242065773404\n",
            "Epoch number : 4     Loss = 541314.9729943326    RMSE = 0.9309277791479315\n",
            "Epoch number : 5     Loss = 520681.87443891284    RMSE = 0.9221035214842306\n",
            "Epoch number : 6     Loss = 504857.83810599346    RMSE = 0.9177918978624993\n",
            "Epoch number : 7     Loss = 492108.48254973034    RMSE = 0.9139302058686049\n",
            "Epoch number : 8     Loss = 483850.2144301512    RMSE = 0.9123384304963085\n",
            "Epoch number : 9     Loss = 475587.8704998732    RMSE = 0.9097514392466068\n",
            "Epoch number : 10     Loss = 469032.3654892852    RMSE = 0.90851279823611\n",
            "Epoch number : 11     Loss = 463363.0762471429    RMSE = 0.9065602182121382\n",
            "Epoch number : 12     Loss = 460664.9886771322    RMSE = 0.9075033734199537\n",
            "Epoch number : 13     Loss = 456368.96027249115    RMSE = 0.9066693378973882\n",
            "Epoch number : 14     Loss = 452680.68015779887    RMSE = 0.9047794843540475\n",
            "Epoch number : 15     Loss = 451902.65065497014    RMSE = 0.9062539797439999\n",
            "Epoch number : 16     Loss = 448676.30738311535    RMSE = 0.9060372754481428\n",
            "Epoch number : 17     Loss = 445770.2679827718    RMSE = 0.9048034836826836\n",
            "Epoch number : 18     Loss = 444718.980136429    RMSE = 0.9061697085926738\n",
            "Epoch number : 19     Loss = 445087.23244387493    RMSE = 0.9070799182765982\n",
            "Epoch number : 20     Loss = 441138.841054627    RMSE = 0.905883107179893\n"
          ]
        },
        {
          "output_type": "display_data",
          "data": {
            "text/plain": [
              "<Figure size 576x288 with 1 Axes>"
            ],
            "image/png": "[encoded data removed]"
          },
          "metadata": {
            "needs_background": "light"
          }
        }
      ]
    },
    {
      "cell_type": "markdown",
      "source": [
        "Based on this plot, what is the best latent dimension for your MF model?"
      ],
      "metadata": {
        "id": "QV_f3D6M2gne"
      }
    },
    {
      "cell_type": "markdown",
      "source": [
        "*Write your answer here.*\n",
        "\n",
        "The best latent dimension obtained for my MF model is 5"
      ],
      "metadata": {
        "id": "rNE50oyS2iQ9"
      }
    },
    {
      "cell_type": "markdown",
      "source": [
        "#### Tune regularization weight####\n",
        "\n",
        "Last, you can plot how the test RMSE changes when you set different regularization weight. Please run the MF model with 'reg' as {0.0001,0.0005,0.001,0.0015,0.002}, and plot corresponding test RMSE for these five different regularization weights in the next cell. \n",
        "\n",
        "**Note that for these five runs of experiments, record the test RMSE after E training epochs -- E is the best epoch you find by the 'Tune training epoch' plot. And here, fix latent dimension as the one you find the best by the previous part**\n",
        "\n",
        "**Note that the expected output of the next cell is just the plot, you don't need to show the code and printing of the experiment with different 'reg' here.**"
      ],
      "metadata": {
        "id": "aq1Pwa0d2j8_"
      }
    },
    {
      "cell_type": "code",
      "source": [
        "# Your Code Here...\n",
        "reg = [0.0001,0.0005,0.001,0.0015,0.002]\n",
        "test_rmse_reg = []\n",
        "for r in reg:\n",
        "    print(\"For the Regularization Weight : \",r)\n",
        "    mf = MF(train_mat, test_mat, latent=5, lr=0.01, reg=r)\n",
        "    epoch_loss_list, epoch_test_RMSE_list = mf.train(epoch=19)\n",
        "    test_rmse_reg.append(epoch_test_RMSE_list)\n",
        "fig, ax = plt.subplots(nrows=1, ncols=1, figsize=(8, 4))\n",
        "\n",
        "for ind, i in enumerate(test_rmse_reg):\n",
        "    ax.plot(np.arange(len(i)) + 1, i, marker='.', linewidth=1.5, markersize=8, label = \"Regularization Weight = \" + str(reg[ind]))\n",
        "    ax.set_xticks(np.arange(len(i)) + 1)\n",
        "ax.set_ylabel('test RMSE')\n",
        "ax.set_xlabel('epoch')\n",
        "ax.set_title('Tune training epoch')\n",
        "ax.grid(True)\n",
        "plt.tight_layout()\n",
        "plt.legend()\n",
        "plt.show()\n"
      ],
      "metadata": {
        "id": "8x-xbXSu2nv_",
        "colab": {
          "base_uri": "https://localhost:8080/",
          "height": 1000
        },
        "outputId": "052ee1d9-831b-4538-b74f-c38fbb53f96f"
      },
      "execution_count": 33,
      "outputs": [
        {
          "output_type": "stream",
          "name": "stdout",
          "text": [
            "For the Regularization Weight :  0.0001\n",
            "Epoch number : 1     Loss = 610196.030441869    RMSE = 0.9527997363378111\n",
            "Epoch number : 2     Loss = 597392.9918147654    RMSE = 0.9470228527042409\n",
            "Epoch number : 3     Loss = 585465.1829160071    RMSE = 0.9429689664954239\n",
            "Epoch number : 4     Loss = 566685.7890949944    RMSE = 0.933727900449188\n",
            "Epoch number : 5     Loss = 547754.7724548018    RMSE = 0.9253603796403456\n",
            "Epoch number : 6     Loss = 537241.2835039253    RMSE = 0.9200338134673247\n",
            "Epoch number : 7     Loss = 529060.3870819099    RMSE = 0.9168264625289261\n",
            "Epoch number : 8     Loss = 519437.85442214855    RMSE = 0.9115223548044754\n",
            "Epoch number : 9     Loss = 514011.83533106826    RMSE = 0.9101296232312108\n",
            "Epoch number : 10     Loss = 509600.7119115587    RMSE = 0.9077289102523304\n",
            "Epoch number : 11     Loss = 505196.61613418604    RMSE = 0.905232902450774\n",
            "Epoch number : 12     Loss = 502858.8196260248    RMSE = 0.9041936950286157\n",
            "Epoch number : 13     Loss = 500383.5781863017    RMSE = 0.9037317498997527\n",
            "Epoch number : 14     Loss = 499009.18539286643    RMSE = 0.9029905579831728\n",
            "Epoch number : 15     Loss = 495500.2417945946    RMSE = 0.9008442351201056\n",
            "Epoch number : 16     Loss = 494705.81502477865    RMSE = 0.9009637505799434\n",
            "Epoch number : 17     Loss = 492852.4007220788    RMSE = 0.9017236842650483\n",
            "Epoch number : 18     Loss = 491394.19496689975    RMSE = 0.8992790048662538\n",
            "Epoch number : 19     Loss = 490471.7260297944    RMSE = 0.899227022860141\n",
            "For the Regularization Weight :  0.0005\n",
            "Epoch number : 1     Loss = 612692.6531430205    RMSE = 0.9545726002130211\n",
            "Epoch number : 2     Loss = 599136.2824885122    RMSE = 0.9480890630299076\n",
            "Epoch number : 3     Loss = 581810.3055193275    RMSE = 0.9404873785693263\n",
            "Epoch number : 4     Loss = 560359.2415145173    RMSE = 0.9297512815971157\n",
            "Epoch number : 5     Loss = 545366.4127615519    RMSE = 0.923273657624885\n",
            "Epoch number : 6     Loss = 533139.5101880884    RMSE = 0.9170654840445505\n",
            "Epoch number : 7     Loss = 523775.7859603038    RMSE = 0.9129108832837726\n",
            "Epoch number : 8     Loss = 515911.2184532574    RMSE = 0.9090672668266929\n",
            "Epoch number : 9     Loss = 510249.5387464254    RMSE = 0.9064215433274598\n",
            "Epoch number : 10     Loss = 505808.07377489    RMSE = 0.9042097196147507\n",
            "Epoch number : 11     Loss = 504067.3423750493    RMSE = 0.9031743083364732\n",
            "Epoch number : 12     Loss = 499069.9240973963    RMSE = 0.9009793281662692\n",
            "Epoch number : 13     Loss = 498123.6615616168    RMSE = 0.9012458132678692\n",
            "Epoch number : 14     Loss = 495718.9590410452    RMSE = 0.8999245102554296\n",
            "Epoch number : 15     Loss = 495051.7092846126    RMSE = 0.9005953469393863\n",
            "Epoch number : 16     Loss = 492482.39210793626    RMSE = 0.8988579719961171\n",
            "Epoch number : 17     Loss = 493117.716253084    RMSE = 0.8992026583111495\n",
            "Epoch number : 18     Loss = 490644.5499263643    RMSE = 0.8987524225364659\n",
            "Epoch number : 19     Loss = 490520.7501333597    RMSE = 0.8987865965450209\n",
            "For the Regularization Weight :  0.001\n",
            "Epoch number : 1     Loss = 611582.7878987184    RMSE = 0.9529697705078239\n",
            "Epoch number : 2     Loss = 599942.6888925815    RMSE = 0.9496699645831116\n",
            "Epoch number : 3     Loss = 585499.9458499078    RMSE = 0.9431519799772435\n",
            "Epoch number : 4     Loss = 566234.5958474214    RMSE = 0.9330886214352728\n",
            "Epoch number : 5     Loss = 550043.7549012767    RMSE = 0.9249837548124843\n",
            "Epoch number : 6     Loss = 536901.2626526922    RMSE = 0.91865528171504\n",
            "Epoch number : 7     Loss = 527228.1829658111    RMSE = 0.9147827544770366\n",
            "Epoch number : 8     Loss = 518600.9255920672    RMSE = 0.9101921580789525\n",
            "Epoch number : 9     Loss = 512671.3439263904    RMSE = 0.9067417119035879\n",
            "Epoch number : 10     Loss = 508696.69830395264    RMSE = 0.9057555171221462\n",
            "Epoch number : 11     Loss = 502905.4426103211    RMSE = 0.902408181504845\n",
            "Epoch number : 12     Loss = 500179.09571474243    RMSE = 0.9011855358865455\n",
            "Epoch number : 13     Loss = 499449.131441379    RMSE = 0.90146636482587\n",
            "Epoch number : 14     Loss = 496427.56893164595    RMSE = 0.9010098764583281\n",
            "Epoch number : 15     Loss = 494870.4216744622    RMSE = 0.8998443710004749\n",
            "Epoch number : 16     Loss = 493351.69036191475    RMSE = 0.8985013749352215\n",
            "Epoch number : 17     Loss = 492126.1581787873    RMSE = 0.8983972761598609\n",
            "Epoch number : 18     Loss = 492340.08847195987    RMSE = 0.898622290738471\n",
            "Epoch number : 19     Loss = 491655.9686134696    RMSE = 0.89842281513216\n",
            "For the Regularization Weight :  0.0015\n",
            "Epoch number : 1     Loss = 609308.4811988934    RMSE = 0.9535391873533662\n",
            "Epoch number : 2     Loss = 597896.9259860552    RMSE = 0.9490059165370301\n",
            "Epoch number : 3     Loss = 580092.3132182099    RMSE = 0.9391868354028736\n",
            "Epoch number : 4     Loss = 563247.3318894827    RMSE = 0.9318541790960947\n",
            "Epoch number : 5     Loss = 547613.0846049371    RMSE = 0.9238010813964603\n",
            "Epoch number : 6     Loss = 537584.3221403594    RMSE = 0.9185348631268125\n",
            "Epoch number : 7     Loss = 528810.3626403956    RMSE = 0.9155346175178377\n",
            "Epoch number : 8     Loss = 520371.90959541645    RMSE = 0.9113506946466645\n",
            "Epoch number : 9     Loss = 516789.8030854962    RMSE = 0.9115573577845821\n",
            "Epoch number : 10     Loss = 511372.1252454073    RMSE = 0.9092838217293564\n",
            "Epoch number : 11     Loss = 509374.7672080686    RMSE = 0.9078402790152819\n",
            "Epoch number : 12     Loss = 506755.3273824333    RMSE = 0.9070822077890642\n",
            "Epoch number : 13     Loss = 502216.2157239438    RMSE = 0.9047314816878858\n",
            "Epoch number : 14     Loss = 502069.8672922505    RMSE = 0.9062279114037368\n",
            "Epoch number : 15     Loss = 499191.8816302537    RMSE = 0.9038271031768536\n",
            "Epoch number : 16     Loss = 496407.49238694366    RMSE = 0.9026752925389592\n",
            "Epoch number : 17     Loss = 496469.43414303183    RMSE = 0.90393822584849\n",
            "Epoch number : 18     Loss = 495585.39561044384    RMSE = 0.9036186714423122\n",
            "Epoch number : 19     Loss = 494355.83463471313    RMSE = 0.9032448124688518\n",
            "For the Regularization Weight :  0.002\n",
            "Epoch number : 1     Loss = 612676.4609480456    RMSE = 0.9550404080969729\n",
            "Epoch number : 2     Loss = 595008.6776748038    RMSE = 0.9454369971584096\n",
            "Epoch number : 3     Loss = 578062.1032089973    RMSE = 0.9370382226964695\n",
            "Epoch number : 4     Loss = 559199.0479901532    RMSE = 0.928559514284641\n",
            "Epoch number : 5     Loss = 545434.363267019    RMSE = 0.9223096657872935\n",
            "Epoch number : 6     Loss = 534940.1215493801    RMSE = 0.9172941257175645\n",
            "Epoch number : 7     Loss = 526852.2254516716    RMSE = 0.9150539265027576\n",
            "Epoch number : 8     Loss = 519788.492302156    RMSE = 0.9119997547245376\n",
            "Epoch number : 9     Loss = 514216.09675905964    RMSE = 0.9092529098354425\n",
            "Epoch number : 10     Loss = 509438.0073986192    RMSE = 0.9066366483174949\n",
            "Epoch number : 11     Loss = 506749.69750086183    RMSE = 0.9064326341452635\n",
            "Epoch number : 12     Loss = 504337.08653164783    RMSE = 0.906208684394946\n",
            "Epoch number : 13     Loss = 500872.488868613    RMSE = 0.9033382262937151\n",
            "Epoch number : 14     Loss = 499100.6284015144    RMSE = 0.9036302431673398\n",
            "Epoch number : 15     Loss = 497887.8690164801    RMSE = 0.9021578560267554\n",
            "Epoch number : 16     Loss = 495123.0460039179    RMSE = 0.9013261098970362\n",
            "Epoch number : 17     Loss = 494677.80017981055    RMSE = 0.9019154274302096\n",
            "Epoch number : 18     Loss = 492605.54689254647    RMSE = 0.9003251457321642\n",
            "Epoch number : 19     Loss = 490790.9606473236    RMSE = 0.8991962990961133\n"
          ]
        },
        {
          "output_type": "display_data",
          "data": {
            "text/plain": [
              "<Figure size 576x288 with 1 Axes>"
            ],
            "image/png": "[encoded data removed]"
          },
          "metadata": {
            "needs_background": "light"
          }
        }
      ]
    },
    {
      "cell_type": "markdown",
      "source": [
        "Based on this plot, what is the best regularization weight for your MF model?\n"
      ],
      "metadata": {
        "id": "pXY47Pi02lp4"
      }
    },
    {
      "cell_type": "markdown",
      "source": [
        "*Write your answer here*\n",
        "\n",
        "The best regularization weight obtained for my MF model is 0.001"
      ],
      "metadata": {
        "id": "KFkZQiiF2rI6"
      }
    },
    {
      "cell_type": "markdown",
      "source": [
        "## Part 3e: Improve the Model (10 points)\n",
        "\n",
        "Next, you need to try your best to improve the model so that we can improve our RMSE! This is open-ended, so feel free to try whatever tricks you like. We talked about several in class, plus you can find more in the readings. Write your code in the next cell and print out the RMSE of your new model."
      ],
      "metadata": {
        "id": "3vIEK3UH0H1Y"
      }
    },
    {
      "cell_type": "code",
      "source": [
        "import random\n",
        "class MF1:\n",
        "    def __init__(self, train_mat, test_mat, latent=5, lr=0.01, reg=0.01):\n",
        "        self.train_mat = train_mat  # the training rating matrix of size (#user, #movie)\n",
        "        self.test_mat = test_mat  # the training rating matrix of size (#user, #movie)\n",
        "        \n",
        "        self.latent = latent  # the latent dimension\n",
        "        self.lr = lr  # learning rate\n",
        "        self.reg = reg  # regularization weight, i.e., the lambda in the objective function\n",
        "        \n",
        "        self.num_user, self.num_movie = train_mat.shape\n",
        "        \n",
        "        self.sample_user, self.sample_movie = self.train_mat.nonzero()  # get the user-movie pairs having ratings in train_mat\n",
        "        self.num_sample = len(self.sample_user)  # the number of user-movie pairs having ratings in train_mat\n",
        "\n",
        "        self.train_indicator_mat = 1.0 * (train_mat > 0)  # binary matrix to indicate whether s user-movie pair has rating or not in train_mat\n",
        "        self.test_indicator_mat = 1.0 * (test_mat > 0)  # binary matrix to indicate whether s user-movie pair has rating or not in test_mat\n",
        "\n",
        "        self.P = np.random.random((self.num_user, self.latent))  # latent factors for users, size (#user, self.latent), randomly initialized\n",
        "        self.Q = np.random.random((self.num_movie, self.latent))  # latent factors for items, size (#movie, self.latent), randomly initialized\n",
        "\n",
        "\n",
        "    def train(self, epoch=20, verbose=True):\n",
        "        epoch_loss_list = []\n",
        "        epoch_test_RMSE_list = []\n",
        "        for e in range(epoch):\n",
        "            user_movie_pairs = list(zip(self.sample_user, self.sample_movie))\n",
        "            random.shuffle(user_movie_pairs)\n",
        "            for u in user_movie_pairs:\n",
        "                movie = int(u[1])\n",
        "                user = int(u[0])\n",
        "                self.updateLatentFactor(user, movie)\n",
        "\n",
        "            loss = 0\n",
        "            for u in user_movie_pairs:\n",
        "                movie = int(u[1])\n",
        "                user = int(u[0])\n",
        "                temp = np.dot(self.P[user], self.Q[movie].transpose()) - self.train_mat[user][movie]\n",
        "                loss += np.square(temp)   \n",
        "\n",
        "            train_loss = loss + (self.reg * (np.sum(np.square(self.Q)) + np.sum(np.square(self.P))))\n",
        "            prediction_mat = self.predict()\n",
        "            test_zeros = np.where(self.test_mat == 0)\n",
        "            prediction_mat[test_zeros] = 0\n",
        "\n",
        "\n",
        "            rmse_0 = np.subtract(prediction_mat, self.test_mat)\n",
        "            rmse_1 = np.sum(np.square(rmse_0))\n",
        "\n",
        "            test_nonzeros = np.count_nonzero(self.test_mat)\n",
        "            rmse_2 = np.divide(rmse_1, test_nonzeros)\n",
        "\n",
        "            rmse = np.sqrt(rmse_2)\n",
        "            print(f\"Epoch number : {e + 1}     Loss = {train_loss}    Test RMSE = {rmse}\")\n",
        "\n",
        "            epoch_loss_list.append(train_loss)\n",
        "            epoch_test_RMSE_list.append(rmse)\n",
        " \n",
        "        return epoch_loss_list, epoch_test_RMSE_list,prediction_mat\n",
        "        \n",
        "        \n",
        "        \n",
        "    def updateLatentFactor(self, user, movie):\n",
        "\n",
        "      temp = 2 * (np.dot(self.P[user] , self.Q[movie].transpose()) - self.train_mat[user][movie])\n",
        "      user_latentfactor = self.P[user] - self.lr * (temp * self.Q[movie] + 2 * self.reg*self.P[user])\n",
        "      movie_latentfactor = self.Q[movie] - self.lr * (temp * self.P[user] + 2 * self.reg*self.Q[movie])\n",
        "      self.P[user] = user_latentfactor\n",
        "      self.Q[movie] = movie_latentfactor\n",
        "\n",
        "        \n",
        "    def predict(self):\n",
        "        prediction_mat = np.matmul(self.P, self.Q.T)\n",
        "        return prediction_mat\n",
        "\n",
        "mf1 = MF1(train_mat, test_mat, latent=5, lr=0.01, reg=0.1)\n",
        "epoch_loss_list, epoch_test_RMSE_list, pred = mf1.train(epoch=20)"
      ],
      "metadata": {
        "id": "EyMIKUDz0L-w",
        "colab": {
          "base_uri": "https://localhost:8080/"
        },
        "outputId": "1271b9b4-cf5b-4a6d-b123-5ef5c421b589"
      },
      "execution_count": 78,
      "outputs": [
        {
          "output_type": "stream",
          "name": "stdout",
          "text": [
            "Epoch number : 1     Loss = 619365.5526735404    Test RMSE = 0.9535864428012578\n",
            "Epoch number : 2     Loss = 614340.596609649    Test RMSE = 0.9494283832315694\n",
            "Epoch number : 3     Loss = 609188.7800433573    Test RMSE = 0.945481357593087\n",
            "Epoch number : 4     Loss = 608970.0498481526    Test RMSE = 0.9460357295496736\n",
            "Epoch number : 5     Loss = 604855.3013007295    Test RMSE = 0.9438072388739209\n",
            "Epoch number : 6     Loss = 594271.3597337409    Test RMSE = 0.9354791382244011\n",
            "Epoch number : 7     Loss = 584087.9918802782    Test RMSE = 0.9287825723000099\n",
            "Epoch number : 8     Loss = 577100.5194563316    Test RMSE = 0.9241077171589761\n",
            "Epoch number : 9     Loss = 571247.2130272042    Test RMSE = 0.921126639295096\n",
            "Epoch number : 10     Loss = 563486.0865138021    Test RMSE = 0.9150478431987935\n",
            "Epoch number : 11     Loss = 558998.8462189477    Test RMSE = 0.9143392405421975\n",
            "Epoch number : 12     Loss = 556102.8355762648    Test RMSE = 0.9130560335684607\n",
            "Epoch number : 13     Loss = 552543.7116243658    Test RMSE = 0.9115171561275702\n",
            "Epoch number : 14     Loss = 549975.8943500214    Test RMSE = 0.91035726022459\n",
            "Epoch number : 15     Loss = 546750.783184103    Test RMSE = 0.9076574083100731\n",
            "Epoch number : 16     Loss = 545679.636278644    Test RMSE = 0.907354461007237\n",
            "Epoch number : 17     Loss = 542276.8849176121    Test RMSE = 0.9048478084334025\n",
            "Epoch number : 18     Loss = 539087.841942733    Test RMSE = 0.9051369123509132\n",
            "Epoch number : 19     Loss = 539590.2982572631    Test RMSE = 0.9043581902291485\n",
            "Epoch number : 20     Loss = 536837.1315150472    Test RMSE = 0.9034739876031651\n"
          ]
        }
      ]
    },
    {
      "cell_type": "code",
      "source": [
        "ensemble_prediction = 0.75 * pred + 0.25 * prediction_mat\n",
        "rmse = np.sqrt(np.divide(np.sum(np.square(np.subtract(ensemble_prediction, test_mat))), np.count_nonzero(test_mat)))\n",
        "print(\"The rmse value for ensemble model is \" ,rmse)"
      ],
      "metadata": {
        "colab": {
          "base_uri": "https://localhost:8080/"
        },
        "id": "ltyiToq7wjBK",
        "outputId": "48b49f4d-b801-4400-865a-9e8acceaff3b"
      },
      "execution_count": 90,
      "outputs": [
        {
          "output_type": "stream",
          "name": "stdout",
          "text": [
            "The rmse value for ensemble model is  0.8974735065293639\n"
          ]
        }
      ]
    },
    {
      "cell_type": "markdown",
      "source": [
        "And please briefly explain what your new model does to improve the performance."
      ],
      "metadata": {
        "id": "inSUB3a60RMW"
      }
    },
    {
      "cell_type": "markdown",
      "source": [
        "*Briefly explain what you do in your new model to improve the performance Write your answer here...*\n",
        "\n",
        "Inorder to improve my model, I have used the ensemble model where we use both the matrix factorization and collaborative filtering model(from the paper Factorization meets neighborhood by koren 2008) discussed in class. Here the factorization and the CF models are smoothly merged to build a more accurate model\n",
        "\n",
        "Neighborhood of movies and users are used along with the latent factors when predicting the ratings of the movies. \n",
        "\n",
        "Here a bias term is added to the regularization term in the loss function. This bias term has both the user bias and movie bias given by their respective neighborhoods .With this ensemble technique loss function is updated.We use this loss function to compute the gradient descent and update the training loss. In order to do this, we have combined MF and CF with thier respective weighted averages which were obtained through constant observation to obtain a lower RMSE value. This is called SVD ++\n",
        "\n",
        "The best RMSE I obtained by using this method is : 0.897. The RMSE value improved in comparison with past models."
      ],
      "metadata": {
        "id": "R38z2kSY0R7O"
      }
    }
  ]
}